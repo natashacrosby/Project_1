{
 "cells": [
  {
   "cell_type": "code",
   "execution_count": 1,
   "metadata": {},
   "outputs": [],
   "source": [
    "from matplotlib import pyplot as plt\n",
    "from scipy.stats import linregress\n",
    "import pandas as pd\n",
    "import numpy as np\n",
    "import gmaps\n",
    "import statsmodels.api as sm"
   ]
  },
  {
   "cell_type": "code",
   "execution_count": 2,
   "metadata": {},
   "outputs": [],
   "source": [
    "post_secondary_csv = pd.read_csv(\"post_sec_data_clean.csv\")\n",
    "post_secondary_df = pd.DataFrame(post_secondary_csv)\n",
    "\n",
    "home_ownership_csv = pd.read_csv(\"Homeownership_ACS.clean\")\n",
    "home_ownership_df = pd.DataFrame(home_ownership_csv)"
   ]
  },
  {
   "cell_type": "code",
   "execution_count": 3,
   "metadata": {},
   "outputs": [],
   "source": [
    "home_ownership_df = home_ownership_df[[\"County\", \"HOR\"]]\n",
    "post_secondary_df = post_secondary_df[[\"county\",\"counts\"]]\n",
    "post_secondary_df  = post_secondary_df.rename(columns={\"counts\": \"school_counts\"})\n",
    "home_ownership_df  = home_ownership_df.rename(columns={\"County\": \"county\"})"
   ]
  },
  {
   "cell_type": "code",
   "execution_count": 4,
   "metadata": {},
   "outputs": [
    {
     "data": {
      "text/html": [
       "<div>\n",
       "<style scoped>\n",
       "    .dataframe tbody tr th:only-of-type {\n",
       "        vertical-align: middle;\n",
       "    }\n",
       "\n",
       "    .dataframe tbody tr th {\n",
       "        vertical-align: top;\n",
       "    }\n",
       "\n",
       "    .dataframe thead th {\n",
       "        text-align: right;\n",
       "    }\n",
       "</style>\n",
       "<table border=\"1\" class=\"dataframe\">\n",
       "  <thead>\n",
       "    <tr style=\"text-align: right;\">\n",
       "      <th></th>\n",
       "      <th>county</th>\n",
       "      <th>HOR</th>\n",
       "    </tr>\n",
       "  </thead>\n",
       "  <tbody>\n",
       "    <tr>\n",
       "      <th>0</th>\n",
       "      <td>Autauga, AL</td>\n",
       "      <td>73.3</td>\n",
       "    </tr>\n",
       "    <tr>\n",
       "      <th>1</th>\n",
       "      <td>Baldwin, AL</td>\n",
       "      <td>72.9</td>\n",
       "    </tr>\n",
       "    <tr>\n",
       "      <th>2</th>\n",
       "      <td>Barbour, AL</td>\n",
       "      <td>62.5</td>\n",
       "    </tr>\n",
       "    <tr>\n",
       "      <th>3</th>\n",
       "      <td>Bibb, AL</td>\n",
       "      <td>75.4</td>\n",
       "    </tr>\n",
       "    <tr>\n",
       "      <th>4</th>\n",
       "      <td>Blount, AL</td>\n",
       "      <td>78.5</td>\n",
       "    </tr>\n",
       "  </tbody>\n",
       "</table>\n",
       "</div>"
      ],
      "text/plain": [
       "        county   HOR\n",
       "0  Autauga, AL  73.3\n",
       "1  Baldwin, AL  72.9\n",
       "2  Barbour, AL  62.5\n",
       "3     Bibb, AL  75.4\n",
       "4   Blount, AL  78.5"
      ]
     },
     "execution_count": 4,
     "metadata": {},
     "output_type": "execute_result"
    }
   ],
   "source": [
    "home_ownership_df.head()"
   ]
  },
  {
   "cell_type": "code",
   "execution_count": 5,
   "metadata": {},
   "outputs": [
    {
     "data": {
      "text/html": [
       "<div>\n",
       "<style scoped>\n",
       "    .dataframe tbody tr th:only-of-type {\n",
       "        vertical-align: middle;\n",
       "    }\n",
       "\n",
       "    .dataframe tbody tr th {\n",
       "        vertical-align: top;\n",
       "    }\n",
       "\n",
       "    .dataframe thead th {\n",
       "        text-align: right;\n",
       "    }\n",
       "</style>\n",
       "<table border=\"1\" class=\"dataframe\">\n",
       "  <thead>\n",
       "    <tr style=\"text-align: right;\">\n",
       "      <th></th>\n",
       "      <th>county</th>\n",
       "      <th>school_counts</th>\n",
       "    </tr>\n",
       "  </thead>\n",
       "  <tbody>\n",
       "    <tr>\n",
       "      <th>0</th>\n",
       "      <td>Los Angeles, CA</td>\n",
       "      <td>228</td>\n",
       "    </tr>\n",
       "    <tr>\n",
       "      <th>1</th>\n",
       "      <td>Cook, IL</td>\n",
       "      <td>125</td>\n",
       "    </tr>\n",
       "    <tr>\n",
       "      <th>2</th>\n",
       "      <td>Maricopa, AZ</td>\n",
       "      <td>92</td>\n",
       "    </tr>\n",
       "    <tr>\n",
       "      <th>3</th>\n",
       "      <td>New York, NY</td>\n",
       "      <td>91</td>\n",
       "    </tr>\n",
       "    <tr>\n",
       "      <th>4</th>\n",
       "      <td>Miami-Dade, FL</td>\n",
       "      <td>88</td>\n",
       "    </tr>\n",
       "  </tbody>\n",
       "</table>\n",
       "</div>"
      ],
      "text/plain": [
       "            county  school_counts\n",
       "0  Los Angeles, CA            228\n",
       "1         Cook, IL            125\n",
       "2     Maricopa, AZ             92\n",
       "3     New York, NY             91\n",
       "4   Miami-Dade, FL             88"
      ]
     },
     "execution_count": 5,
     "metadata": {},
     "output_type": "execute_result"
    }
   ],
   "source": [
    "post_secondary_df.head()"
   ]
  },
  {
   "cell_type": "code",
   "execution_count": 6,
   "metadata": {},
   "outputs": [
    {
     "data": {
      "text/html": [
       "<div>\n",
       "<style scoped>\n",
       "    .dataframe tbody tr th:only-of-type {\n",
       "        vertical-align: middle;\n",
       "    }\n",
       "\n",
       "    .dataframe tbody tr th {\n",
       "        vertical-align: top;\n",
       "    }\n",
       "\n",
       "    .dataframe thead th {\n",
       "        text-align: right;\n",
       "    }\n",
       "</style>\n",
       "<table border=\"1\" class=\"dataframe\">\n",
       "  <thead>\n",
       "    <tr style=\"text-align: right;\">\n",
       "      <th></th>\n",
       "      <th>county</th>\n",
       "      <th>HOR</th>\n",
       "    </tr>\n",
       "  </thead>\n",
       "  <tbody>\n",
       "    <tr>\n",
       "      <th>0</th>\n",
<<<<<<< HEAD
       "      <td>Knox, NE</td>\n",
       "      <td>73.5</td>\n",
       "    </tr>\n",
       "    <tr>\n",
       "      <th>1</th>\n",
       "      <td>Izard, AR</td>\n",
       "      <td>78.7</td>\n",
       "    </tr>\n",
       "    <tr>\n",
       "      <th>2</th>\n",
       "      <td>Winston, AL</td>\n",
       "      <td>77.3</td>\n",
       "    </tr>\n",
       "    <tr>\n",
       "      <th>3</th>\n",
       "      <td>Newton, TX</td>\n",
       "      <td>82.8</td>\n",
       "    </tr>\n",
       "    <tr>\n",
       "      <th>4</th>\n",
       "      <td>Buchanan, VA</td>\n",
       "      <td>78.9</td>\n",
=======
       "      <td>Martin, MN</td>\n",
       "      <td>74.6</td>\n",
       "    </tr>\n",
       "    <tr>\n",
       "      <th>1</th>\n",
       "      <td>Kiowa, OK</td>\n",
       "      <td>69.2</td>\n",
       "    </tr>\n",
       "    <tr>\n",
       "      <th>2</th>\n",
       "      <td>Daviess, MO</td>\n",
       "      <td>78.7</td>\n",
       "    </tr>\n",
       "    <tr>\n",
       "      <th>3</th>\n",
       "      <td>Rock, WI</td>\n",
       "      <td>68.7</td>\n",
       "    </tr>\n",
       "    <tr>\n",
       "      <th>4</th>\n",
       "      <td>Morris, KS</td>\n",
       "      <td>77.8</td>\n",
>>>>>>> b215db8a54b455ec5d1269e9988cacbb0ee351cc
       "    </tr>\n",
       "  </tbody>\n",
       "</table>\n",
       "</div>"
      ],
      "text/plain": [
<<<<<<< HEAD
       "         county   HOR\n",
       "0      Knox, NE  73.5\n",
       "1     Izard, AR  78.7\n",
       "2   Winston, AL  77.3\n",
       "3    Newton, TX  82.8\n",
       "4  Buchanan, VA  78.9"
=======
       "        county   HOR\n",
       "0   Martin, MN  74.6\n",
       "1    Kiowa, OK  69.2\n",
       "2  Daviess, MO  78.7\n",
       "3     Rock, WI  68.7\n",
       "4   Morris, KS  77.8"
>>>>>>> b215db8a54b455ec5d1269e9988cacbb0ee351cc
      ]
     },
     "execution_count": 6,
     "metadata": {},
     "output_type": "execute_result"
    }
   ],
   "source": [
    "sample_home_ownership = home_ownership_df.sample(n=1400)\n",
    "sample_home_ownership = sample_home_ownership.reset_index(drop=True)\n",
    "sample_home_ownership.head()"
   ]
  },
  {
   "cell_type": "code",
   "execution_count": 7,
   "metadata": {},
   "outputs": [
    {
     "data": {
      "text/html": [
       "<div>\n",
       "<style scoped>\n",
       "    .dataframe tbody tr th:only-of-type {\n",
       "        vertical-align: middle;\n",
       "    }\n",
       "\n",
       "    .dataframe tbody tr th {\n",
       "        vertical-align: top;\n",
       "    }\n",
       "\n",
       "    .dataframe thead th {\n",
       "        text-align: right;\n",
       "    }\n",
       "</style>\n",
       "<table border=\"1\" class=\"dataframe\">\n",
       "  <thead>\n",
       "    <tr style=\"text-align: right;\">\n",
       "      <th></th>\n",
       "      <th>county</th>\n",
       "      <th>HOR</th>\n",
       "      <th>school_counts</th>\n",
       "    </tr>\n",
       "  </thead>\n",
       "  <tbody>\n",
       "    <tr>\n",
       "      <th>0</th>\n",
<<<<<<< HEAD
       "      <td>Izard, AR</td>\n",
       "      <td>78.7</td>\n",
       "      <td>1</td>\n",
       "    </tr>\n",
       "    <tr>\n",
       "      <th>1</th>\n",
       "      <td>Buchanan, VA</td>\n",
       "      <td>78.9</td>\n",
=======
       "      <td>Rock, WI</td>\n",
       "      <td>68.7</td>\n",
       "      <td>5</td>\n",
       "    </tr>\n",
       "    <tr>\n",
       "      <th>1</th>\n",
       "      <td>Mendocino, CA</td>\n",
       "      <td>59.2</td>\n",
>>>>>>> b215db8a54b455ec5d1269e9988cacbb0ee351cc
       "      <td>2</td>\n",
       "    </tr>\n",
       "    <tr>\n",
       "      <th>2</th>\n",
<<<<<<< HEAD
       "      <td>New Haven, CT</td>\n",
       "      <td>62.3</td>\n",
       "      <td>28</td>\n",
       "    </tr>\n",
       "    <tr>\n",
       "      <th>3</th>\n",
       "      <td>Richland, OH</td>\n",
       "      <td>67.7</td>\n",
       "      <td>6</td>\n",
       "    </tr>\n",
       "    <tr>\n",
       "      <th>4</th>\n",
       "      <td>Clarion, PA</td>\n",
       "      <td>69.4</td>\n",
       "      <td>2</td>\n",
=======
       "      <td>Essex, MA</td>\n",
       "      <td>63.8</td>\n",
       "      <td>12</td>\n",
       "    </tr>\n",
       "    <tr>\n",
       "      <th>3</th>\n",
       "      <td>Valencia, NM</td>\n",
       "      <td>80.5</td>\n",
       "      <td>1</td>\n",
       "    </tr>\n",
       "    <tr>\n",
       "      <th>4</th>\n",
       "      <td>Mahoning, OH</td>\n",
       "      <td>68.7</td>\n",
       "      <td>7</td>\n",
>>>>>>> b215db8a54b455ec5d1269e9988cacbb0ee351cc
       "    </tr>\n",
       "  </tbody>\n",
       "</table>\n",
       "</div>"
      ],
      "text/plain": [
       "          county   HOR  school_counts\n",
<<<<<<< HEAD
       "0      Izard, AR  78.7              1\n",
       "1   Buchanan, VA  78.9              2\n",
       "2  New Haven, CT  62.3             28\n",
       "3   Richland, OH  67.7              6\n",
       "4    Clarion, PA  69.4              2"
=======
       "0       Rock, WI  68.7              5\n",
       "1  Mendocino, CA  59.2              2\n",
       "2      Essex, MA  63.8             12\n",
       "3   Valencia, NM  80.5              1\n",
       "4   Mahoning, OH  68.7              7"
>>>>>>> b215db8a54b455ec5d1269e9988cacbb0ee351cc
      ]
     },
     "execution_count": 7,
     "metadata": {},
     "output_type": "execute_result"
    }
   ],
   "source": [
    "post_sec_analysis = sample_home_ownership.merge(post_secondary_df, on=\"county\")\n",
    "post_sec_analysis.head()"
   ]
  },
  {
   "cell_type": "code",
   "execution_count": 8,
   "metadata": {},
   "outputs": [
    {
     "data": {
      "text/plain": [
<<<<<<< HEAD
       "629"
=======
       "641"
>>>>>>> b215db8a54b455ec5d1269e9988cacbb0ee351cc
      ]
     },
     "execution_count": 8,
     "metadata": {},
     "output_type": "execute_result"
    }
   ],
   "source": [
    "len(post_sec_analysis)"
   ]
  },
  {
   "cell_type": "markdown",
   "metadata": {},
   "source": [
    "## Analysis"
   ]
  },
  {
   "cell_type": "code",
   "execution_count": 9,
   "metadata": {},
   "outputs": [
    {
     "data": {
<<<<<<< HEAD
      "image/png": "iVBORw0KGgoAAAANSUhEUgAAAfIAAAEWCAYAAACdRBVEAAAABHNCSVQICAgIfAhkiAAAAAlwSFlzAAALEgAACxIB0t1+/AAAADh0RVh0U29mdHdhcmUAbWF0cGxvdGxpYiB2ZXJzaW9uMy4xLjAsIGh0dHA6Ly9tYXRwbG90bGliLm9yZy+17YcXAAAgAElEQVR4nOydeXhV1dW433UzD0xJIIphUKFaarEV+n1VPgWqoqJYsYNVRPTnULRaSxE7yGcppWoFpFSq1OqnKCgOBSsqTiho1baCbWmbarFoICBDEgJkntbvj3Puzbk3997cQJKbe1nv89wnOcPeZ519ztlrr73XXltUFcMwDMMwEhNfvAUwDMMwDOPQMUVuGIZhGAmMKXLDMAzDSGBMkRuGYRhGAmOK3DAMwzASGFPkhmEYhpHA9BhFLiKZIqIiUhRvWRIJEZkuIq/FW45oiMhdIvJgF+R7yPcuIjeLyF2dLdPhIiJFIvIPEUmLtyxGeNp770TkdRG5pDtl6izE4T0RGRFnOdr9DkRkpYjM7k65eipRFbmIVHl+LSJS69me0k7ac0Xko84SVET+KCJ17rX3isjTIjLgMPKLqeEgIuPca+8XkXIReUtETj7U6yYyIpIvIo+KyG4ROSAiH4jIjHjL1VFEJAv4AXCPZ98jIrLFfc+/FXL+IyHfQr2I7I2S/yki8or7vtSFOT7MPV4pIp+KyCIRSQFQ1VLgz8CVnXS7kWQM+3267/rlXXntZEdVv6KqTx5KWhHZJSI17nv2qYg86L6vsaQ9UUSaDuW6Hr4O7FDVYjfPa0XkL+73vl1Efi4iAb0hIv1FZI2IVIvIxyLydc+xwSLyvHtPKiJHhcj7n5DvqklEnobu+w48svhEZKaIFLv3st1tKHRpg6aTnll0Ra6quf4fsA2Y5Nm34nAvfghc48ryWeAo4O6uvJiI5AO/B+YD/YBBwB1AY1det7sQkdQOJlkCCPAZoC9wMfBJJ4vVHXwd2KSqezz73geuA/4RerKqXhnyLawGno6Sfz3wBDA9wvEHcMptADAKOA+42nN8BfDt2G7F6GzcSj2evZUT3PdsNHAacEs3Xns68JhnOwP4DpDvyjIJ+K7n+APAPpx3+Wrg/0RkuHusGXge+Ga4C6nq8Z5vqjewm+Dvqju/g6Xuta7HqetPBNYCE7vp+oeHqsb0w6l4zgrZlwX8GvgUKMVReGk4D70WaAGq3F8+MAb4E7Af2AksAlLdvDIBBYoiXP+PwOWe7ZnARvf/POBxYC/wMXArIO6xE4E/uNfcCzzq7v+ze71qV76Lwlzzf4Bd7ZTLt4EPgQrgBeAYz7GTgddxXvRdwMxo5eYeOxf4CPixK+8OYIonzwHAi8AB4F3gTuA1z/H73TwPuPf4Zc+xu9xyehI4CFzh3n9vzzlj3GfjC3OvHwHnRimLSPd7F85H+YR73c3AFzzpPg+8BVS6x87zHIv2bKf77x1IwWlo7HWf9d+AEyLI+ThwS4RjG4FvRbnHPjjv9n/H8M2cBNSF2f8x8BXP9r3AYs92JtAAFIZJOw6nUS2efZcCf/Y8v7+4z38XcGcE2c4FPorhO/sO8B+gHFjll4nW73W6e/wAMBs4wX3v9rvPPNWT12T3+Va6z3tEe+8ATqN9j+e85cA2z/YzwHSP7D9x/x7A+U76ec49Haf+qcRpuI0Jue+57vE6oAi4FqfeOwhsBb7hee/WAb9y8/oPnrrRW4buua8Dv3FlKgbOiPLO7AL+x7P9K+B3IWX4NzevEuDHnmN73Gfir3O/2F4dFXLtbBwjpSCKfD8Gnnb/7wc0AUM8x58G5oSkyXXlOipKvufg1BuZsXwH7vGVON/OG+4zWue/N+Ah4Och57/qf1fCfKfNwMlR5ItWD90FPOg590SgKeR9CPtehnlmY9xzhnvSFwE1QN+I8rVXGXky+4S2ivxunI+vACgE3gNui1RRAP8FfAmn0j0eRzH4P8KYFTmOMvsD8Ft3+yn3BcoFhrkFPcU9thqnRSs4CnRMLNdzz8nHqZAecl+0viHHvwX8C8dCTQPmAW94XvK9wI04rdrewJdiLLdG4DY3z8nuS5rrHn8WpzLLAr6A04r1KvIr3GunuXlsp7WRcBeOtTgRpzcmC6eSucqT/n5gfoTyWI5TiUwDhoUci3a/d7kv4tnus18ErPc8hxKchlmaW85VwLExPFuvIv8qTsOmt3tvnwMGRLiPv+P0Lh2KIr8O+FeM30wkRX4z8KBb/oNxKtmJIef8G8cyC00r7jM93bNvDfA99/+/0KpwehGhwUEMitx9T3YBI93n9ADwasj34382X8R5b18BhuBUfFuAS9zzv4zTcB3lvgPXufeYGsM7sBv4nPv/x+7Pe+yzHtk/xKlbcoB3cJUKMBSnMXKW+35MxHlf+3nSbsVpiKQB/XGU9PHu8WM815nu3usV7r3MAD6JUIbTcZTdDW6+V+Ao1N4RnktAkbvvxgfALzzHz8R5t33AKW5e57rHghRIe3VUmGuPAsrbeadf8pTpqcC+kOOzcRW9Z18sivxxYGmY/WG/A/fYSvcZneq+Q0tprQ/OcN8Tv7IdiFMH5YXJ53vAh+3cd7R6KBZFHum9DPfM/g/4qWf7B6Fl2ka+WCokN7NPaKvIdxBsWXwV+CBaRRGS/ofAEyEVQzRFXu0+uFJgGU5lkYHTmjrOc+7NwEueB7AEODokv3YVuXveScCjOFZqI45VUuAee4NgaznNPacQuAp4N0Ke7ZXbfjwWMU4L7QuuzC3AUM+xe/Ao8pDriPvynuB54V4JOWcasM79Px2nshsZIb8c4HbgrziV04f+d6Kd+70LeN6zfQpQ6f5/Nk4l7rUwV7vvRnvP1qvIJwL/xGksSjg5PHlsB8ZFONaeIn8b+GGM30wkRf55nAZRk/sOhqvANgHfjJDvAuA+9/88nB6Co93tP+M04PLbke1ct2wrQ35NtCqhFcBcT5q+7vt3FK3fzyjP8X8CN3u2fw3c5f7/MG5j1XO8BPjvaO+A+//TOIpwKI61/iucsdPPArtD6ohbPNvfB551//8JbsPfc3wDrQ2NPxJs3fZzy+OreKxEz3v3D892nlsWfT15eRX5xyHpN+M2tsI8l104DfeDbp4vAb2iPMeluL0uhFcKEeuoMHmdiadBEub49Th6wH+fZ4eeD9yE+3169kVV5DiN7xo8vYcxfgcrgUfCPIf+OHXfVtwGL44xtypCPj/DNSwiHG+vHopFkUd6L8M9s7F4dCeO4XFhtO/5kMeBRERwPugSz+4SnJZrpDQjRGSt31kKRykUdOCy31bVvqpapKrTVLXClcGH090YTo4ZOF1GfxGRzdEceVxvU7/jxdcAVPUfqnqFqg7EUabH43SFg2N5LHWdlipxWvhNOF0hg3C63EKvEUu57VXVFs92Dc7HcBStFpk3rTf/H4nIhyKyH7eriuAy9qYF+B3wJRE5BkcZlqrq5jDFg6pWq+pcVf0CTm/FGuB3ItIr0v162BXmfsBpKW9T94313NMxtP9svazF6Tn5DbBbRO4Tkdww54FTLr2iyBoWERmGo3iWe/Zd7XlnVseQRzrwMs44ZDZO79IQEZkbcmovHEUSjseBb7g+Dt8A/qCqn7rHpuFY0P8WkT+JyDlRxPnY/Z4CP5yGjJ+BeN4vVa3EaVR6y3+35//aMNv+ZzAE+LH/W3G/l/5uXtHeAXAU7jgcK2sDsB6nshsLvBlyT5HesyHA5SHXH+1e20/g21DVfcAUnPHgXSLynPv8I10Hz7VCKQ3ZLgm5bijnqWovYAJOYzDPf0BExojIBnEcfvfjNGii1aHR6qhQIn4XIvJNnMbQue57AE6vSe+QU3vjNEI6wjeB7ar6xzDHon0HEPzMKlyZBrrv0qOAv76/nOCxfy/lwNFRrtGReigSkd7LcLwJpIjIqSLyBVe2tdEyP2RF7hbULpwXxc9gHGsTnJZRKL/FGZs6XlV744xJyaHK4LILx0oYHE4OVd2hqv8PpzC+i+OMMTicfOp4m/qdmn4X5vg/cV6Gk9xd24ErQyrDLFXd5B47Pkwe7ZVbe/eqOErTmxYAETkbp0U8Gcd68ltr3jIOum9VrcKxfi4DphL5ZQ+9j/04LdHergxh7zcGdhL87KC1PKI+2xB5VFXvUdUv4iiyk3FazeHYjNPV2FGmAa+r41Hrv+5Dnndmcgx5DMB5F5eoaoOq7sXpXQo41YhIJq3WZxtU9X1au4kvw1Hs/mP/UtVL3Ov8CljlNh4OhZ143lMR6YPzvGN5V0PZDtwe8q1kq+oqor8D4CjvsbQq8jfd/8e627Fe/8GQ6+eo6iLPOaHfxguqeiZuQwNn2OlQCFWag3HuOSqq+iqOP8svPLufcvcNUtU+wCO0ft/h6txodVQo/wJ6iUhQw0BELsTp1TxPVT/wHPoA6O3Wp35OxumZ6QjTcL6BINr7DlwCdaGI5OEoSH+j9lHg6yIyyj3vhQh5vAYME5GREY63Vw9V4zTK/QR557dDOD3kbYRMBVaqalQH68P1zHwC+Ik405IG4HTp+a2V3cCAEKuoF7BfVatE5HM4ziSHharW4yiiO0QkR0SOx6nAlwOIyCUi4m+h+Vt2TW66/cBxkfIWkc+LyPdcaxURGQpcgtNVAk631mwROcE93s9vyeOMZQ8TketFJF1EeovIl9xj0cot2r3W4VjBPxWRLPfF804D7IXTbbYXp5t8Lo5F3h6PAtfgdLdGnI0gInPEmVqVJs6UmO8CZTi+DtHuNxpvAT63nFPdxsgEnDGhqM82RLYvi8ho10qtxnGSaY5wzRdxlIA3fbpbcQiQJs70RPEcF5yP6pH2bkgcMnGegX+qo1+Z7nR/0937zXPz/Zsni9Nwum69rfhQnsDpLvwSznCP/9pXiEi+qjbjvN+KUwkdCk8A14rISe79/AKnIRNNrkg8ANzkPiMRkVwRuVBEsonyDrhp/4EzFv0N4E1VLcOxas4ndkW+DKcX40wRSXG/nzMlZEqUHxE5RkTOd+Wrx7H0Ir1P7TFInLnnqeL0CA7G8SWIhYXAV0Xks+47mIszjl0nIqfhlImfPTiWnFfhRKujglDVWpzejjP8+9wenYeBr6rqX0LO34fjlT5XRLJFZBwhdYj73mS4mxkikuHNQ0SOwxnjDmdAxPIdfFVE/tvN1z/+v8eVbyuOc+HDwJOq2hDhvv+BMy79lIic7tYFWSIyRURmxlAP/RUY774z/XDGtGMl3DMDp07+Jo4j66Pt5hKt312D++0/oe0YeTZOK3UXTuV0D5DuHhP3RstxFGgezhjMv3E+ivU4U7n8Y5wd8loPOZaPM15ShtPl8SNanRx+idNCq8JxvrnSk+67OA2OSsKMQeBYI8+491aN00X2ayDHc87VOC1QvxfpUs+xL+BUNJWuDDNiKLdwToJeB5ijcMbN2nit44x/PeYe24HjxOFNGzSW48nf3230cjvvwFycD+Og+1zX4Tq0tXO/7Y0hnUzrzIK/A+fH+Gy9Y+Tn4lT4VTgNmUeA7Aj3kemWT/+Q90tDfl6P//GufFkxfCsnhsnrA8/xL9Hqob0XR2Hme44/BFzXzjWGu/n+LmT/U25ZHXTLcmKE9LF6rX8XZ6yxAqex5h+Lb/O9EuJfgDOWv8SzfSHOmKd/1spKf3lGewfc46vxOBniWIjl/nchguyB98PdHuNeYx9OBfocTjdsuLSD3XMPuM9pHa4ncZh8g8qC6F7r/yKCf0bot+7Z9zCwwv3/Uhwr+6D7PJYS/G39wn2nKnFnhhCljgpz/a8Bqz3b7+J0xVd5ft7j/XGUeQ2OjvhGmHLx/upCrvdTXAfKMLJE/Q5o67X+Bk5Phfeca9zrntrO9+TDcbb8F611/ePAiTHUQz6c3ub9OH5D36btGHm097LNM3P3/4F2nPD8P78gxhGOiLyD40DVbs9AMiAi38WpxH8Yb1m8uL0/r+B80EkRr+BIRkSmA19X1bPiLUssuFb/n3AMnuI4ytEp34GITMCp14a1e3IPQ0QeB4pVdV6755oiN0RkDE7gm0HqdK8ZhtEJJJoiTybc4axVOMMxXRo8rLMRx7HyfZwpj+36pPSYWOtGfBCRlThdY981JW4YRjIgjre33wv/13EWp0OIyN048SDmxqLEwSxywzAMw0hozCI3DMMwjASmo4tmGBEoKCjQoUOHxnx+dXU1OTk5XSdQAmFl0YqVRStWFq0kc1ls2rSpTFX7x1uORMYUeScxdOhQNm7c2P6JLuvXr2fcuHFdJ1ACYWXRipVFK1YWrSRzWYhISftnGdGwrnXDMAzDSGBMkRuGYRhGAmOK3DAMwzASGFPkhmEYhpHAmCI3DMMwjATGFHkPYsWKxzl2+In4UlI4dviJrFjxePuJDMMwjCMam34WR1aseJzZc+ZSsnULBYUDOVhVTZ/zZzHoohHUlhZz/YxZAEyZclmcJTUMwzB6KmaRx4mKigqunzGL2tHTGPT9VfjG3kCjpNJcvQ9JSSVzyEiyz7yR2XPmxltUwzAMowdjijxO7Nj5Kdln3kjmkJEBxV0wcQb7330ycE5G0QhKtm6Jo5SGYRhGT8cUeZxoqK8jo2hE0L6MohE0lpcGtutLixly3PDuFs0wDMNIIEyRx4n0jEzqS4uD9tWXFpPapxBtbqKuZDM165Ywb87tcZLQMAzDSARMkceJPr17U7ZmPnUlmwOKe++a+WRRz/Z7LiZr4zLuXzTfHN0MwzCMqJjXepzYV1lJ+sAT2PvsHbTUVePLzCFj0ElkVpVyYF95vMUzDMMwEgRT5HGiqbGBhj0f0/+iH5NRNIL60mLK1i5m7/498RbNMAzDSCCsaz1eiI+C824O9lo/72YkPTPekhmGYRgJhFnk8UJbaDpYxs6HbqCxvJS0/CJ6//fX0Ya6eEtmGIZhJBCmyOOGUPnWYxRMnNHatf7iIkhJi7dghmEYRgJhXevxQoSCiTPaBIRJSTNFbhiGYcSOKfJ4oS1hA8I019fESSDDMAwjETFFHi/EFzYgjKQ5zm7RVkKzVdIMwzAMPzZGHi9U2fP7u0jJyKFp/25S+xTSXF+NNjezYsXjXD9jFtln3thmJTQg4jELHmMYhnHkYYo8bija2EhzywFQpbn2ANrcAs2NzJ4zN7CgCkBz9T5qG5XLL7+ctOxcsk6eGDiWOWQkuKukmSI3DMM48jjiFbmIzACuART4O3AVcDSwEsgD3gemqmpDJ18ZX0Ym/SfNCnit710zn5bmRkq2bmHQRc74eXXxBirffJT8824OChyTXjCYnBFjAXeVtKdslTTDMIwjkSN6jFxEjgG+C4xW1ZOAFOBbwC+ARao6HNgHXN0FFyd35AQqXlvKtoUXU/HaUnJHTkDS0hhy3PDA+Pn+d58kP0zgGO9yp/FYJc3G6Q3DMHoGR7Qid0kFskQkFcgGPgW+AjzjHl8GXNTpV9UWqovXk3fWdAbPXEXeWdOpLl6PNtQxb87t1KxbQl3JZhrLSyMsd7o9bquk+cfwa0dPY9D3V1E7ehrXz5hlytwwDCMOHNGKXFV3AAuAbTgKfD+wCahU1Sb3tFLgmE6/eJQQrVOvmIo0N1K26mdIanpE7/Z4rZLmHcP3y57tjtMbhmEY3YuoarxliBsi0g/4HXAJUAk87W7/RFWHuecMAl5U1c+HSX8dcB1AYWHhqJUrV8Z87d27d7OnMRPEs1OhYfdHpBcOQxtrady/G19GDi311aT1KUTSspz9lbtBWxh1yhcP9dYPi02bNpFeOCys7KNGjepwflVVVeTm5naegAmMlUUrVhatJHNZjB8/fpOqjo63HInMke7sdhbwsaruBRCRVcBpQF8RSXWt8iJgZ7jEqvoA8ADA6NGjddy4cTFfeOE9i5j/Xl3A+xygrmQzZWsWUHTjo0Av6ko+puK1e8gcPJKqf76B1tcgGdlocxM0NaDacmh3fZhcde10akdPayN71sZlfLxlZofzW79+PR0pu2TGyqIVK4tWrCyMaBzRXes4XepfFpFsERHgTKAYeAP4unvONOD3nX5lVcpeXERdyebAWHfZi4toaWiN7JZRNILGsu1Uf/g2AybfxuBbVjNg8m2kZPcmJY6rpHnH8OM1Tm8YhmE4HNEWuar+SUSewZli1gT8BcfCfgFYKSLz3H0PdcHV6Xv6VCpeWxpY/azv6VMpf2FR4Iz60mJ8mTkB73b/eTmf+woHN3Z+2yJW/OPxs+fMpeSpLQw5bjgLu3mc3jAMw3A4ohU5gKr+BPhJyO6twH916YXFR2qvAgZefV9gV13JZiQ9E21uovLtJzj4/vNofQ1Vm18Jmm9etnYx2liPLyWFIccNZ96c27tdiU6ZcpkpbsMwjB7Akd61Hj8idK1rcxPbFkymavMrDJh8G2n5g+g/aVZb7/aMbJv6ZRiGYZgijx+tXev+gDB9T58KzU34MnMCyruxIvw8cm2osalfhmEYRnIochG50Z1Kljh4utaH3PocA6++j9ReBUh6Fi311QHlnZZfFHYeeVr+oMB2RtEISrZ2fYhWi+ZmGIbR80iWMfKjgPdE5H3g/4CXtadPkNcW9vz+F6RkZHtWP6tBG2pJKxhEfWkxmUNG0ufUSyhfuzg41voLC+k37v8FsqovLYaUDI4dfmKXjZdHW5HNxsoNwzDiR1JY5Ko6GxiO411+JbBFRO4QkePjKlhUBF9qKvnn3sTgmavIP/cmfKmpkJJGY9l29q6ZT13JZrJPGEP2iHHsWT2PbQsmU/7SvbQ01NFQti0wtr53zXxyPje+S8fLLZqbYRhGzyRZLHJUVUVkF7ALZypZP+AZEXlVVW+Nr3RhEKHg/JlBy5EWnD+TPat+xqAZT1H59hPsWT0Pra9FMrLJ/dxXyDt7OuB4t+999g4O/PFp0vKLyB05gdot75J/zg1dtqSpd0U2P7bqmmEYRvxJCotcRL4rIpuAu4G3gc+r6vXAKOBrcRUuEtoSwYmtzvFa/8sLZA4eiaRlMOimFQEl7j+vpb46MLbed8ylNJaXBo61N15+KGPd3hXZ/MRj1TXDMAwjmGSxyAuAi1W1xLtTVVtE5II4yRQd8QXGwf3UlxYjGVkMuunxwPrk2lgf/ry0LEruvpCU3DxQBVVK77sSVNEWjThefqhj3fPm3O6cd+aNgbH6mnVLWLhofueWi2EYhtEhksIiB44NVeIi8hiAqv4rPiK1Q4R55PjSAmPQ/SfNQtIzKVu7OPi8tYvRhlryJ37P6aK/YCb5588I/D/4ltURx8tnz5mLDDs9aNqbDDu93bHuKVMu4/5F88nauCxuq64ZhmEYbUkWi/xz3g0RScHpVu/BKFnHfYm9z95BS101vswcsk88g6q/rQ2c4e9qzxl1YXCI1hHjOLjxOQ786RkKJs4gc8hIdj50Azmf+0rQeVnDT28zXv7Jf/5Nyt5KCrxe8GsXc+DAnnYltmhuhmEYPY+EVuQi8iPgx0CWiBzw7wYacFcl67kItVvfo/9FPw6aVoYvnZK7L3QV8alIeiYH319Dr1MmcfSVlwa63ElJpbG8NVhMY9l2Whrr21XQaVm55LnroAOBSHEVz93Z7SVgGIZhHD4J3bWuqneqai9gvqr2dn+9VDVfVX8Ub/miIgSs6UDo1fNnktorj8EzV5F31nSqNr+MNtSRktWHg+8/z7YFk6l4bSm5Iyfgy8gOChbjy8yhwFXQ3lCuaVnOGsZ+B7fGmqqwTnZNtdXdXgSGYRjG4ZPQityPqv5IRI4RkdNE5Az/L95yRUU1vELdv9szRn4rafmDyP7sGYAT36a5qoKW2oM0799DY/l2dj/zU0p/PY2WumoqXl1KdfGG4PxqqwMObrWjp5GWPyi89/nx5n1uGIaRiCR017ofEbkL+BbOWuLN7m4F3oybUO0RwWs9Lb8osJ1RNILG8u1ocT0DJs8OdJnvXXM3kp5N3tnfpvKtxyiYOCNwrHztYgByRowNKGhvMJc+p7WNFGfe54ZhGIlLUihyYDJwgqrWx1uQmFGl7IWFFJw/s3VM+8VF9Bt7ZeAU/3rk+SFj2v0n3cqeVfOCnN38x/LPu5mKV5eSktMvoKCnXjE1EMwlZ8RYACpeXUpj+XaGDvuMrSVuGIaRwCSLIt8KpAGJo8hR+p4xLeBlLmkZqELlW8spe36hG3u9GvUsoOLH8WavDXJ28x5rLN9OxXN3cs2VVzBlymXMnjOXWo/1nzNiLCk5/cjauIyPt3zQbXdsGIZhdD7JoshrgL+KyDo8ylxVvxs/kdpBfNT8+x2aqyqcIC7NTfgycsg/96agLnQye0UICJNBap8BEbrnB5F39nSWP72EMaedxrw5t3PVt29A01oXaJHGGh7+zX3xuHPDMAyjE0kKZzfgOeBnwDvAJs+v56It1O/8kP4X/ZjBt6wmtVcB/S+8NcjrvP+kW6G5MbCAijdwjLa0BC2u4j9WvnYxfU67JLCoyVXXTefyyy+nGQlaoKUFH2+/8068S8EwDMM4TJLCIlfVZfGWocOIj/6TZgWs6ab9uyPGXicljfKX7g1Y0y31NdDcyOBbVgctrpKWP4i+Z1wRGAfPKBpBY21VwEIPmjs+aRYPPnIn9/16Sffet2EYhtGpJIVFLiIfi8jW0F+85YpKyKIp3jnhfgLObmd9G0lJA1Va6g6SOfjzSHomkpJKvzOmMmDybCQjm7yzpweUuD99Wv4gGitKaTpYxs6HbqDk7gvZ+dANNB0so7Gmqo1Yh7KgimEYhhE/ksIiB0Z7/s8EvgHkxUmW2BAflW8/Qe2Wd2ksLyUlN4+y5xdQcMEtQWPk6UcNDzinVby2lIFX34c2N7FtweRAVhlFI9D6mjbTyspeWES/cVeyb/3Dbaaplb24iJT0zCCRDnVBFcMwDCN+JIUiV9XykF2/FJE/ALdHSyciJwBPenYd56Z51N0/FPgE+Kaq7usseQHQFqo2v0L/SbPIKBpB5dtPcPD954O60LW5mcay7YGx775nXAFA5dtPIBnZwaFc0zLJOv5L7Fn9c7S+BsnIRltanGv5UgJR38DtWp84g9pXFgWJ5J1v7j+vq9Y3NwzDMDqHpFDkInKKZ9OHY6H3ai+dqn4IfMHNIwXYAawGfgisU9W7ROSH7vYPOldoH7kjJzx0YTMAACAASURBVASmn/kysul1ygX0O2Nq4JS6ks3s+d1c9qya5zivnTCGfW8+RtXmVxgw+TZPA2AN2lhH1T/foNcpF9B3zKUBq7ti3W9pqT0Qdvx9T2Vw+6fkP1sC882955U8GX19c8MwDCN+JMUYObDQ87sTZ+Wzb3YwjzOB/7jLoX4V8DvQLQMu6iQ5W9EWqovXk3fWdAbPXEX/i35MdfH6NiFWtbGeARfPpn7nh2xbMJmDm9YEnORqPnybmuL1DJg8m8G3rGbA5NuoKV5PzYdvB6xubaxDUjPCh2U9Ljgsa2pWTtjzUrNyOv3228PG6g3DMGIjKRS5qo73/M5W1Wtda7sjfAt4wv2/UFU/dfP+FBjQmfICIL6wi5zsf7e1p7++tJiUPgNa1yZPy0AbagOOa+UvLQlEffPnke/Jw98Q0MY69q65O3ia2vML+OQ//w5Sko21VWHXPm+sdZziuku5emPDD/r+qohrqxuGYRggqhpvGQ4bEekD/ATwL5SyAZirqvtjTJ8O7AQ+p6q7RaRSVft6ju9T1X5h0l0HXAdQWFg4auXKlTHLvHv3bvY0ZjqLrvpRaNj9EemFw9DGWhord0FLM4gPSctEG2rAl+Je24c2NyKp6aTk5OFzVznz5yGp6fgycmiu2U/6gONoriqnuWY/aAuIj5TsPqTk5qONtTQf2MOQQUXs2PkpzalZtNRXo00NgTxSmmo5ZuDRlGwvJaX3ACQtKyhdXl5kv8KKigp27PyUhvo60jMyOWbg0W3Or6qqIjc3N7D993/8E83JR9KzWoumoRapLufzJwUtPZ90hJbFkYyVRSvJXBbjx4/fpKqj2z/TiESyKPLfAf+gtTt8KnCyql4cY/qvAt9R1Qnu9ofAOFX9VESOBtar6gnR8hg9erRu3LgxZpkX3rOI+e/VBUVlqyvZzJ5V8xyllZGNNjZASxOpfY+iufYAWl8DqemkZPdus1CKf/64f1w9JadfIM2QH6wJ5L939Tz6T57d5rpZG5cxb87tAa91//h79V+ep6W+ltSsHLJOnthmDD9amFevF7x3gZb7Q2K7r1+/nnHjxgW2fSkpDPr+KiSl1YVDm5vYfs/FtDQ3k8yElsWRjJVFK8lcFiJiivwwSYqudeB4Vf2Jqm51fz/F8UCPlUtp7VYHJ1LcNPf/acDvO0nOVrSlTTf23jXz6TVqUmC8OyW3L/nnz3CXMXUQn6/NOub5593M/neeDER9y5twA/nn3oQvIxtJywikzSgaQUt9bVjHt5KtW5gy5TLuXzSfrI3L2LZwMlXvv4Bk9kYBTc/l4F9fCozhVxdvoOLVpXzy0b8jdrN7veD9sma7XvDRGHLc8JjG9A3DMIwk8VoHakXkf1T1DwAiMgaojSWhiGQDZwPf9uy+C3hKRK4GtuHMS+9cxEfOiHFBXuu5Xzw/YPH6ndXKXrgH8aUEvNS3LZwccaGU8pfupd/YKwNBYQomzmDP71qVZn1pMb6MrDbx2SvffoLUzBx8KSkMOW448+bczvdmzmJfbWNQ7PeyFxexb/3DTpo3Hw3MWY8037xkawQv+Keie8H7ewYIseRtqVXDMIy2JItFPh34tYh8IiKfAEvcfe2iqjWqmu8dT1fVclU9U1WHu38rOl1iVar/+XrAa72lvpq+Yy4NOiWjaAQtddVBDm1p+YPCWquSlsHAa+4PiuwWcHbzO66tmc/4M8ZQs25JoCdg35uPUb35FfIu/FGQY1lZWVkby79g4gxa6qrY/86TbZzswlnah2pZe3sGtt9zMVkbl7XpjjcMwzAckkKRq+rfVPVkYCQwUlW/qKp/i7dc0VH6nj6ViteWsm3hxfgywk/90sa6IAu8z6mXtPUsf2Fh4PzQ9JKeybYFk9m7eh7jThvNa6+8EqQka//2IgXudDavUhafL3zs98Z6Gsu3R+yeh1bv9pL/bKHs2Z+z783HArLWrFvCvDlR4/QAjjL/eMsHtDQ38/GWD0yJG4ZhRCChu9ZF5PvAflV9CEBVD7j7bwJSVPWX8ZQvKuIjtVcBA692lhKtLt7Ant/fRUpGTiCyW3N9NSm9+wd1heeMGEtD2TYngltDLWn5RfQ9YxrlLyxqE6LVGXO/MBAg5p2XF7NixeNMmXJZQDH6UlIiKuxwS6T2P/oYcnJygtY39x8bctzwNmFe60uLKX9+AQf++BRDj/8MC82yNgzD6FQSWpED/w84Jcz+B4D3gJ6ryFXZu2Z+IERrQ9k2xOcLXo/8ubtpPrA36Lz60mKq//Ea+RNuCHSj15VsJq1gEH1OvcQJ8Vq5i5TMnDZj7pxzMzNmOQHqZs+ZS8nWLaRm5lD59hNB3uh+hX3g5cVwTmvD4MDLi/ntvfcARBzDDhfmNf+CW6J6txuGYRiHTqIrclXVhjA760VEwiXoOSgtDXWtsdHTsxhw8ewgBdj/wlspW7sYbagLxGBPyelHS2MdKTn90OamgOXdUl1J5VvLaa6vhpQ0muvCj7lv+3QH1970fXqfc3PAYt67xnEiC4R2XTOf66ZdxpjTTnMU/lNbGHLccBbee0+QNR10zLW0p14x9ZAc3AzDMIxDI9EVOSJSqKq7Q/fFS56YER+FX/vfgOIuufvCsF3czfv30PvUb1K75V0AfJk5kJLWOt88PYvUvIEUXf9w64ppRSNo2PlB2K5xSc+k9znBC6j0nzSLPat/zoE/Pk1afhE5Iyew9pXXuO/XSyJ2g3u7570MOW54xG53wzAMo/NJdGe3+cALIjJWRHq5v3HAGmBBfEVrhxjXI5e0DA6+/zxZw09l8MxV5J01HW2qb51vfvFsmg+Ws+/1B12lfCst1RX4MnMpe3FRsFPci4vQhrrwY+L1NQy59TkGXn0ffcdcyicf/Zv+Rx3DgIGDOhSSdd6c24O84jvi4GYYhmF0nIRW5Kr6KPC/wFyc5UY/Bn4K/ERVl0VJGn9EghR3n1MvCat48ybc0GYxlP6TZlG75d2Al3n/SbOoLl4P+OeUl9Jv3FU011azZ/XP2bZgMntW/xxfQw2SlhmhwZAZtJ2Sm8++2kZ8Y2/oULzzeE4ds4VWDMM4EkloRQ6gqmtVdaw7F7zA/X9tvOVqFyVIcTshVavYs+pnbFswORDcJfekr4RdDKWxvDSQlX++OThKOC2/CICUzCwGTL4tECkuNSuX3KzMsA0GSctoXVBl7WJISWkzj9w7Vzya0ozH1DFbaCUy1sAxjOQm4cfIExcNWMxaX4NkZCE+HwMm38buJ2cz8Jr7g2KNe5W3V1n7t32ZOYEwr9nDT6XyreXknHRWIHJcWn4RWSeOI+OTt2msqg44z6X2KcTX3ECfXjlsWzCZtPxB9D3jCsqeXxh+rvhTW9pMMastLebam77P92bOonzvrkB0uO6cZhbOWx634XEkT3cL96zCReEzDCNxSXiLPHERUjIyPRbzbHwZ2TRX74s4Xp6WVxRQ1lnDTw2K0d5SV03Fa0vJHTmB6n++QVPlrqD1zvPOmk518Xr2frqDq6ZehjRUgSrSUMU10y5n764dDB32GfLOnk7OiLGk5RdR+fYT7HzoBkruvpCdD91A5dtPMOS44WFjqPc+52Yq6zVu1nDJ1i1Rg9QcqRxqvHvDMBKHhLbIReRU4I+aiEu4iVBwwS1BFmTBxBlUvLbUmQ/uCe5S+fYTHHx/DVpf61rwdRzctIYD7z6FpGeRMfAECm/8GeCsEubf743lnpZfRM6IcRx871mWP72avAt/FJgDvvzpJYw57TTmzbmda66/kfKUTJoqd9F0sIxep0zi6CsvDUxT+9Jpo3l93bqwU8ya9u8OKIvutobNWz48hxrv3jCMxCHRLfJpwCYRWSkiV4rIUfEWKGa0haaDZUEWb9PBMhrLS8kZMZa+Z1xB+Uv3sm3BZKo2v8KAybMDY92+nF5Mv+Yqhg77DAMunk3hJY4Sry7ewM4Hrw/kf/CvL7WxyBGJaqFJajr5594U6CUIdbJ78+0/Royh7u3uj2QNd9V4rXnLh8dWkjOM5CehFbmqTlfVU4A5QD/gERF5V0TuEJEzRCQlvhJGQ6h867EgRVv51mP4snoHnN9UW5C0DPqHxELvP+lWVqx8Kkh5Vf3jdfZteKRVCX/tdnxp6TRX72td9OS8m9HG+ohd0LPnzA3MMQ9aItXrZFdTxbw5t3Pg5cVtHOb6nHpJIM9wyiKSQ1pFxeGvSWMLrYTHGjiGkfwkdNe6H1X9APgAWCQiWcB4nKVH7wF65oL1IgGvcGjtWt+z6mdsW3hxoCv8wLtPhVW8uyvKmHrFVAoKB9L8xhIqKioY8LXbw3bV+0O5ZhSNQNIywgaKGXLc8IjdsEFOdtm5AGhTQ9Roc+XPL6Cpeh/HDj8x4PgWySFtx85PO6VIIwWpOZLxl0e4KHyGYSQHSaHIvahqLfCi++u5hASEATcwS0MdiKBNjRz869qIilfSMhh088pAnPNIlrZfCVcXb6DyreVoYz1lz/6cnC9eEAjJeuDlxTSnp0BK+Gt5nezGj/kys+fMpc/5s4LO2/fmY1Q8dydNtdX4MrIC+Xu9pEMbCtXFG9j/zpM0jP5ukMI3Ohdr4BhGcpPQXesJjfjCjl2m9j2KwTNXkX/uTYjPh7Y0h5337cvMDV52ND0rfH59Ctt0uxdcdBs1f3+VbQsn07LhPrSpgZTxN5I34fo219q7Zj6N5dsDHvH/+XhbWA/xvmMupamumiHHD6fgotvod8bUNmPw3vHa6uINVL75KHlnTye9cFiXe7rbXGrDMJKVpLPIE4aQ1c/8XuE5J4wJGgvf/fQcWhrrg+Z9tzQ2kH/WdYGsHEu+lrK1iynwLGNa9sIimmv2U/HK/QzwxHX3rkgG4Bt7Q+CY+FICK6il5Q8i7yvXBLrmtbmJknuejuohHs1L+rFHHwusmrb/nSfJP8+N+S5NXerpbnOpDcNIZpLGIheRISJylvt/loj0irdMURHIHTmBiteWsm3hxQGLt27b5sApGUUjoLkRWpoD+5prD9DrC+cGlCu0jl37p5v588s56SsMPfZYaI7s4BZqXeeMGOsEo0nLDMwp917HH+wlkgNVNC9pr0NaY/n2bpv3bXOpDcNIZpJCkYvItcAzwG/cXUXAs/GTKAZU6TvmUgZefV/QYiXe0Kv+sfDMwZ+nuWY/qEJLM9V/f62NEr3myivQj94K8oLXj95qV7lGOpaf1y+iso7mId6el7Q/fOvQYZ/ptmlRFizGMLoGG7LqGSRL1/p3gP8C/gSgqltEZEB8RWoHd9GU0O7p1D6FAc/vshcXoS3NNO3bSa9Rk6jd8i4Dr76v1bGsrjrIC7nN+uEe7+Rrb/o+nNPa7X7g5cUsvPcegEB3t/9Yzbol3L/IWaM8Un6RHKhi9ZKeN+f2wHU5aURA4S90r9uZWLAYw+h8bMiqB6GqCf8D/uT+/Yv7NxXY3J0yjBo1SjvCggULNSU3Twu/dYcOvuVZLfzWHerL6au+7L6K+NSX3VclPVtBNLXv0SoZOYH/M3v10+XLV6iq6vLlK3TosBNUfD4dOuyEwH4vy5ev0Mxe/TS179GK+A4pj67Af90FCxZ06XWXL1+hvfoPDCrrXv0Hdtt9doQ33ngj3iL0GKwsWumJZTF02Ala+K07dMgPng/8Cr91hw4ddkKH8gE2ag/QI4n8i7sAnXITcDfwY5y55GcDq4Gfx5i2L063/AfAv4BTgTzgVWCL+7dfe/l0XJEv0NwvTFRfZq6COIo6JcNRtoj6cvoFKZ6U3v01JbdAC791h2b0KdCCwoGKiKaGNAa8CiqgoNOyOuWD6yqF3x2VVLwaKx2lJ1bY8cLKopWeWBbi8+ngW54NqlcG3/Ksis/XoXxMkR/+LynGyIEfAnuBvwPfBl5U1dtiTLsYeElVTwROxlHmPwTWqepwYJ273ckItVvfo/9FPw6EXk3JzqXpYEXYaG4FE2fQUl9N5pCRZIw4k/LK/aBAakZQ9Da/E5c3ipo2hXd2++Sjf8c8rpXoy4TGY2lVw0hmLPxvzyFZFPlNqvpbVf2Gqn5dVX8rIje3l0hEegNnAA8BqGqDqlYCXwWWuactAy7qdIk9kd0Cyvr8maSkpUYM7qKNdVQXb6C6eH1g1bT8c2+i8s1HqS7eEDjPH27V76kdcTW1/EExK2Tz/DYMw4uF/+05iNOzkdiIyPvqxFz37vuLqn6xnXRfAB4AinGs8U3AzcAOVe3rOW+fqvYLk/464DqAwsLCUStXroxZ5t27d7OnMRPEs1OhYfdHpKalI736I+lZrYcaamncvwcRIbV322NNB/aSVjAYbahFqstpqK8jvXAYCLTUVtFcVU5qnwFIWhbaWEvT/j2k5Objy8oNpPn8SZ+joqKCHTs/ddJnZHLMwKPJy8tj06ZNgfxC5R01alTEdLFQVVVFbm5uzGXXlRzOfXQGPaks4o2VRSs9tSw643sZP378JlXtmaG0E4SE9loXkUuBy4BjReQ5z6FeQHkMWaQCp+BY9H8SkcV0oBtdVR/AaQgwevRoHTduXKxJWXjPPcx/r75NmNODm55DG+rw5fSh/6RbPcFdFtL3jGmUv7iIwTNXIymtj06bs9i28HsUXjIv4HE+e85cakdPc/PvS3Xx36h8665AoJc+p11CzojjA+m33/PdQMCW7CAP9ju4f9F8liz9rSc/h7qSzWRtXMa8OUdHTBdLF/b69euJtexWrHjc8YjfuiUwp72zusm9XriHch+dQUfKIl505TPwkghl0V1YWRjRSGhFDrwDfAoUAAs9+w8Cm8OmCKYUKFXVP7nbz+Ao8t0icrSqfioiRwN7OlFmB4WyFxdRMHFGYM3xqs2vMODi/w1s71n9c7ShhpTeA9DmZspfWIRkZIePvZ6aQdbGZUFTvbzTylJy+pGVJmQefQy+sdPDTsWKtKjJ7Dlzg6aLeaepLXQbDZHSdWYF39XTXbrrPhIZm3JkGD2PhB4jV9USVV2vqqeq6gbP731VbYoh/S5gu4ic4O46E6eb/Tmctc5x//6+C6Qn67gvsffZO9i2YDIHN60hd+SEwBh0vzOmMmDybaTlD6Jo+kMU3fAIAPkTbqDsheB46AdeXsxjDz8Y5MQVGrSlZcN9ZPhg764dlD+/IOy4VrTAKdGCwHRXwJWuHqcPvY/q4g1UvLq0Q06ByY75ShhGzyOhFbkfEfmyiLwnIlUi0iAizSJyIMbkNwErRGQz8AXgDuAu4GwR2YIzne2uLpA62Gv94tlUF68POK1B2yVEfZk55IwYS85JX6HiuTsDCvW3994TMTjLx1s+4LFHH6OuqYWU8TcyeOZqsj9/NmXP/pztC4MVcnteqJE8v7vLe7WzGgyRolFFWtRl8C2rE85Lv6uwKHmG0fNICkUOLAEuxZn3nQVcA9wbS0JV/auqjlbVkap6karuU9VyVT1TVYe7fys6XeJwXuvn3cz+d58MnOJfQnTfm4+xZ/U8Wuqq2fGba2n4xys8/MDSmKdShVpR/c6YSsFFtzHk+OFB6Q/VC7W7vFc7o8EQbRqd9z68i7okouXZVaEzbcpR7Fj4UqO7SBZFjqp+BKSoarOqPgyMj7dMUYmwHnlj+fY2S4hWbX6ZAZNnB6abSWp6hy4VqxUVqTt+6hVTo1ZE0brdO5POaDBE6xqO16IunU1Xzvm3KUexkehxF4zEIlkUeY2IpAN/FZG7RWQGkBNvoaLixlr3Ul9ajC8jJ2g1NEnPpP+kW4MUT+9zbu6QZdgRKypcd3wsFdHhBlyJxXrpjAZDe42aeCzq0tl05Th2dzXaEh3zJTC6k2RR5FNx7uVGoBoYBHwtrhK1h+u17rVsytYuJu/s64NWQ9OGusO2DA/FiurOiqiioiJm6+VwGwyxNmoS2fLs6nFsi5LXPuZLYHQniT79DHC8191/64CfAojIGOCjuAnVLkrf06dS8dpSGstLkbQMeo26sM3635KWEXa6WUcswylTLuPtd97hwUfupLGmirTsXK658oqoFXDJ1i0MuihMRfRU51dEO3Z+2m3TvqJNo/MS6ypuPRFb7S3+2DMwupOEtshFJEVELhWRW0TkJHffBSLyDo4DXI8lJTWVxoodQfsO/nVtsIXuLmN64OXFbaabdcQyXLHicZY/vZq8C3/E4Fucv8ufXh11vK47nZoa6g+/1yFWOtI1HM3y7MmOTIncm5As2DMwupNEt8gfwulG/zPwKxEpwVm97Ieq+mxcJWsHVaVq88tB0dv2Pnc3e5+7m5baA6T2KaSlsR7x+dCmBspfupem/btJ7VNIanNDh651KIFOYrVcO4P0jEwq336C2i3v0lheSlp+EVnDT+0y6yXSWurR8EYzKygcyMGqavqcP6tHBkVJ5N6EZMGegdGdJLoiHw2MVNUWEckEyoBhbqCXHk1LS0vAiQ0c5Zp78jkc3LQGVGmuPYC2KDQ20OdrP2kTGtWvhGMJl3ko3eTdWRH16d2b6s2vUDBpVmtI2jXzmTKtZ1R6odHM6kuLaXxxUdCqcz0tAtyhNFaMzsWegdFdJHTXOtCgqi0AqloH/DsRlDgAqm2iiFUXr2fAxbMDy5r60jMAqHh1aZtAMSVbt7BixeNce9P3g5zEpn37RsTnixjoxE8s3eTd5dS0/8ABCkKXbZ00i7WvvNYl1+so4Rz/CibOCJrzb45MRqz05GEZIzFJdIv8RDciGzjrch3vbgugqjoyctI4I74gJ7b97z5JgRuABBwLvf+kWVS8upSsz5xK+Sv3Ufb8AtLyBwW6nWfM+gG9zwlOU+Cm8Xt+Q/d2kx8KEcfIu8Cx7lAI16PRdLCMpv17Kbn7wi4fCjCSB4tVb3QFia7IPxtvAQ6V1NSUoEVTIgUgaSzfTvPmgwyYfFubbuf777uPweHSVJQGdfd+vOUDoOeO16VnZB62Z35XEuqBXF28gcq3HmPA1/63Rw4FGD0XW5jH6AoSumvdXTQl4i/e8kVjUFERadpE+Uv3sm3hxUh6dvgAMZk59I/Q7SxpmWHTpOUXAeEDnfRED+xjBh7doz18Qz2QK99a3ja8bg8aCjB6Lja/3OgKElqRJzJ5eXk8eP8Sigp6IwL5ffu0mWa2d818WuqqI374+Xn92gSVKV+7mD6nXgIEW7WRlHVPCCWZl5fXo6OFhU5Za6rcFXNlHO9GktGzsFj1RldgiryHkNurF1de+nWyNi5j24LJ7Fn9c3JHTiAtf1DED/+XC+d7rHonTfaIcWSfMCbIqo2mrHtKKMmeHi3MK1+s4Vt7QiPJL4c1JrqfcOVu88uNriBpFLmIpIvISBH5vBt3vUcTLizp8qdXM2/O7aRl5zJg8m30O2MqfU67hPK1i8N++FOmXMZVUy9DGqpAwact8OHrbazaaMrauvo6TqyVcU9oJPWUxsSRRqRyB3p075ORmCS6sxsAInI+sBT4D47H+rEi8m1VXRtfySITLSxpU21rd7o/ZGvFq0tpLN/O0GGf4eJvTGb2nLlMnToVX0YWOV+8gKPHXBrwRn/s0ceCKoZo88gtlGTHiXWOfXeGuY2EOVfFh2jl3hN7nIzEJlks8oXAeFUdp6pjcZYwXRRnmaISacrVJx/9G1Izgrpuc0aMJe/s6Qwd9hnmzbmd5U+vdlr6M1dRcNFt1BSvp+bDt2mu3kdto3L55ZfHPI/8vAlnUbZmfnBo2DXzOW/CWV1fCAlMLEMB3TkeGqn73Hpc4oOVu9GdJIVFDuxx1yP3sxXYEy9hYkF8vrBTrlL7HkWfMZey5/d3kZKREwjL2lJ7kJaGaq66bjp5F/4oqKWff97NlK1djAD5591MRlHw/NRo88hnz5lLzsgJgcVb0vKLyBk5wTywO4Humr8fbW6y9bjEByt3oztJFov8nyLyoohcKSLTgDXAeyJysYhcHG/hwqEtLZSFjH2XvbiIvqdfjvhS8KVlkH/uTQyeuYr8c29C0jPInziDxtqqsC395v17yHcDyoSOx0ZbKKRk6xb6jrmUgVffF7R8qlkOh4bXMp49Zy6Xf2Nyl4+HRhuLN+eq+GDlbnQnyWKRZwK7Af8aoHuBPGASoMCqOMkVkdS0dHJGjGtdxjQ1g7wJ15MzYiw7H7ohME8Z3Iht58+k4rWlpPQeENaSl7SMqNHRIsV9Nsuh8whnGS9/ekmXOzNFG4u3xTvig5W70Z0khSJX1aviLUPHUar/+XogstvOB68ntVcBAI3lpRGivJWSkpsXFBGuvrTYXe605ZCio/X08K2JRLwcy9prjNniHfHByt3oLhK6a11EbnX/3isivwr9xVu+aDQ1NtL39KlUvLaUbQsvRpsbKXvBCe6SllcUMWJbc1VFULqK15bS9/SpSEvTIXXldWR9biM68XJwsm7cno/N5Te6kkS3yP/l/t14qBmIyCfAQaAZaFLV0SKSBzwJDAU+Ab6pqvsOS9IQ0jMySe1VwMCr7wvs2/fmY1Q8dyeNtVWUP7+A/AtuCbK6+54+lf1vP9EmXV3JZoYc7yxheihdeT3dcohlqdaeQLyGKawbt2djC6UYXU1CW+Squsb9uyzcrwNZjVfVL6jqaHf7h8A6VR0OrHO3O5Vw8cX1o7d4+IGlaEsLjyy9N2Alt2y4j35ZaVSs/SV9M6RNKFdvgJieHB3tUEikgCbxtIyT8dknCz0hMJCR3CS0IvcjIp8RkQdE5BURed3/O4wsvwr4GwLLgIsOX8pg2osv7q2Y9+zczt5dO2hpbmbvrh389t57jpiu8ESqBG2YwgiHzSk3uhpR1XjLcNiIyN9wIrttwukiB0BVN8WQ9mNgH453+29U9QERqVTVvp5z9qlqvzBprwOuAygsLBy1cuXKmGWuqqoiNzc35vOTmWhlsWnTJtILhznx+vwoNOz+iFGjRnWPgN2IvRetJEtZ/P0f/0Rz8pH0rMA+bahFqsv5/EmfiymPZCmLcIwfP36TpzfUOAQSfYzcT5Oq3n+Iaceo6k4RGQC8KiIfxJpQHYPyugAAGZdJREFUVR8AHgAYPXq0jhs3LuaLrl+/no6cn8xEK4urrp1O7ehpQePOdSWbydq4jI+3zOwmCbsPey9aSZay2LFjJ9fPmEl2yMyQ+xfNj/n+kqUsjK4hobvWRSTPdUxbIyI3iMjR/n3u/nZR1Z3u3z3AauC/gN0icrR7jaPp4VHikhnzyDYSHRtyMbqaRLfIN+F0ifs7Xmd5jilwXLTEIpID+FT1oPv/BGAu8BwwDbjL/fv7TpbbiBHzyDaSgZ4+M8RIbBJakavqsYeZRSGwWkTAKYvHVfUlEXkPeEpErga2Ad84zOsYh4FVgoZhGJFJaEXuR0S+AbzkWtazgVOAn6nqX6KlU9WtwMlh9pcDZ3aJsIZhGIbRiST0GLmH/3WV+P8A5+BMGVsaZ5kMwzAMo8tJFkXun3J2PnC/qv4eSI+jPIZhGIbRLSSLIt8hIr8Bvgm8KCIZJM+9GYZhGEZEkkXZfRN4GThXVStxljCdFT2JYRiGYSQ+Ce/sJiI+4M+qepJ/n6p+CnwaP6kMwzAMo3tIeItcVVuAv4nI4HjLYhiGYRjdTcJb5C5HA/8UkT8D1f6dqnph/EQyDMMwjK4n4S1yl58CF+BEZVvo+fVoVqx4nGOHn4gvJYVjh5/YI5fmNAzDMHo2SWGRq+oGERkCDFfV10QkG0iJt1zRqKio4Jrrb6QpJRNVKC07wDXX3whgUcwMwzCMmEkKi1xErgWeAX7j7joGeDZ+ErXP9tJSGiWV/HNvYvDMVeSfexONksr3ZpqzvWEYhhE7SaHIge8AY4ADAKq6BRgQV4naoampmYKJM8gcMhJJSSVzyEgKJs6gvGJfvEUzDMMwEohkUeT1qtrg3xCRVJzVz3ou2kJG0YigXRlFI9DGujgJZBiGYSQiyaLIN4jIj4EsETkbeBpYE2eZoiNCfWlx0K760mIkLSNOAhmGYRiJSLIo8h8Ce4G/A98GXgRmx1WidkhNTaXshYXUlWxGm5uoK9lM2QsLyc/Li7dohmEYRgKRFIpcVVtU9beq+g1V/br7f4/uWh9UVEQaLZS/dC/bFl5M+Uv3kkYLv1w4v825Nk3NMAzDiERSKHIRGSMir4rIv0Vkq4h8LCJb4y1XNPLy8njw/iUUFfRGBIoKevPg/UvaTD1bseJxrp8xi9rR0xj0/VXUjp7G9TNmmTI3DMMwgCRR5MBDwD3A/wBfAka7fxOe2XPmkn3mjUHe7dln3sjsOXPjLZphGIbRA0iKgDDAflVdG28hOkJFRQXXz5hF9pk3MuiiEdSWFnP9DGcOudcqL9m6hUEXtfVuL3lqS7fKaxiGYfRMksUif0NE5ovIqSJyiv8Xb6GisWPnpzFZ2kOOGx7Wu33IccO7U1zDMAyjh5IsFvl/u39He/Yp8JU4yBITDfV1YeeRh1ra8+bc7ljqZ95IRtEI6kuLqVm3hIWL2jrFGYZhGEceSaHIVXV8vGXoKOkZmdSXFpM5ZGRgXzhL29/NPnvOXEqe2sKQ44azcNF8i8duGIZhAEmiyEXkP8AfgbeAN1W1uJ0koelTgI3ADlW9QESOBVYCecD7wFRv5LjO4JiBR1Oz7o6YLO0pUy4zxW0YhmGEJVnGyEfgLJiSDyxwp6Ct7kD6m4F/ebZ/ASxS1eHAPuDqTpPUJS8vj/sXzSdr4zK233MxWRuXcb9Z2oZhGEYHSRZF3gw0un9bgN3AnlgSikgRcD7woLstOGPrz7inLAMu6mR5AcfS/njLB7Q0N/Pxlg9MiRuGYRgdRnp4ALSYEJEanPCs9wCvqWp5B9I+A9wJ9AJuAa4E/qiqw9zjg4C1qnpSmLTXAdcBFBYWjlq5cmXMMldVVZGbmxvz+cmMlUUrVhatWFm0ksxlMX78+E2qOrr9M41IJMUYOXApTjCYG4BrROQdnLHyddESicgFwB5V3SQi4/y7w5watrWjqg8ADwCMHj1ax40bF+60sKxfv56OnJ/MWFm0YmXRipVFK1YWRjSSomtdVX+vqrNoXTDlSuD5GJKOAS4UkU9wnNu+AvwS6OsuhQpQBOzsbJnbw+KrG4ZhGLGQFIpcRH7neq4vBnKBK4B+7aVT1R+papGqDgW+BbyuqlOAN4Cvu6dNA37fJYJHwOKrG4ZhGLGSFIocuAv4jKqeo6o/U9UNqlp3GPn9APi+iHyE4wn/UKdIGSMWX90wDMOIlWQZI/8r8B0ROcPd3gAsVdXGWDNQ1fXAevf/rcB/dbKMMWPx1Q3DMIxYSRaL/H5gFHCf+zvF3ZeQWHx1wzAMI1aSRZF/SVWnqerr7u8qEngZ03lzbqdm3RLqSjajzU3UlWymZt0S5s25Pd6iGYZhGD2MZOlabxaR41X1PwAichxOcJiExOKr///27j1MjqrM4/j3l4GQCeFiuMRAQkhgFghXZdSg6CaEdcUry4OrksXAojyyohgUdRFjxCiwCLiPuKyXgFEHAxLuKgKBCKy7wARCIAGfIBAIV+UmkZCQ8O4f5wzdDD3JkMl0TXX/Ps/Tz1Sd7qp660zNvHPq1JxjZma91SiJ/CTSVKYPkP4PfAxwdLEh9Y3HVzczs95oiEQeEfMktQG7kRL5fRGxquCwzMzM+l1D9JFLGkpqlX8uIu4CdsqjtpmZmTW0hkjkwAXAauCAvL4cmFlcOGZmZvXRKIl8l4j4D9IMaETESmqPmW5mZtZQGiWRr5bUSp7cRNIugPvIzcys4TXEw27AN4BrgNGSOkiToRxVaERmZmZ10BCJPCKuk3QHMIF0S/2EiPhLwWGZmZn1u0a5tQ6wI9ACDAbeI+mwguMxMzPrdw3RIpd0PrAPsBh4JRcHcGlhQZmZmdVBQyRyYEJEjF//x8zMzBpLo9xa/19JTuRmZtZ0GqVFPpuUzJ8g/duZgIiIfYoNy8zMrH81SiI/HzgSuJtKH7mZmVnDa5Rb6w9HxJUR8WBELOt6FR1U2XV0XMjYtt0Z1NLC2Lbd6ei4sOiQzMysm0Zpkd8n6ULgKqpGdIsIP7W+gTo6LuS4aScxdPLxjD50PCuXL+G4aScBeHpVM7MBpFFa5K2kBP5e4EP55dnP+uCUGacydPLxDBmzD2rZhCFj9mHo5OM5ZcapRYdmZmZVGqJFHhFHFx1Do1n2wFJGH/rafwTYbNR4ll28tKCIzMysloZokUsaJekySU9JelLSXEmjerHdEEm3SbpL0mJJ38zlYyXdKmmppIskDe7/sxhYxoxrY9XyJa8pW7V8CWPGtRUUkRXJz0uYDVwNkchJ85FfCexAGqr1qly2PquAgyJiX2A/4H2SJgBnAOdERBvwLHBMv0Q9gM2cMZ0X553LS8sWEWvX8NKyRbw471xmzphedGhWZ13PS6xsn8roEy9lZftUjpt2kpO52QDRKIl8u4i4ICLW5NdPge3Wt1EkK/LqpvkVwEHAJbl8NnBoP8Q8oE2ZcgTnnXMmrZ2zeeTsw2jtnM1555zpB92akJ+XMBvYFBFFx9Bnkq4Hfgr8Mhd9Ajg6Iib3YtsWYAGwK/AD4Ezg/yJi1/z+aOC3EbFXjW2PBY4FGDFixP5z5szpdcwrVqxg2LBhvf58I3NdVAzEuliwYAGDR+yahlnqErD6yfvZf//9++24A7EuitLIdTFp0qQFEdFedBxl1iiJfCfgXOAAUov6D6SpTHv9v+SStgYuA6YDF3RL5L+JiL3XtX17e3t0dnb2Oub58+czceLEXn++kbkuKgZiXYxt252V7VMZMqYyUOJLyxbR2jmbB5fe12/HHYh1UZRGrgtJTuR91BC31iPi4Yj4cERsFxHbR8Shb3RAmIh4DphPmtN8a0ldT/SPAh7buBGblYeflzAb2Er972eSvk9qgdcUEZ9fz/bbAS9HxHOSWoGDSQ+63QgcDswBpgJXbLSgzUqm67mIU2acyrKLlzJmXBtn+XkJswGj1IkcqL6X/U3gG29w+5HA7NxPPgi4OCKulrQEmCNpJnAnMGujRGtWUlOmHOHEbTZAlTqRR8TsrmVJX6he7+X2i4C31Ch/AHh73yM0MzPrXw3RR56V7qk9D7JhZmZ9VeoWeZk988wznpTEzMz6rNQtckkvSPqrpL8C+3Qtd5UXHd+6PPrY4x5kw8zM+qzULfKI2KLoGDbU6lUvsdkoT0piZmZ9U+oWeZkN3myIJyUxM7M+cyIvyI47jPQgG2Zm1mdO5AUZPny4JyUxM7M+K3Ufedl5kA0zM+srt8jNzMxKzInczMysxJzIzczMSsyJ3MzMrMScyM3MzErMidzMzKzEnMjNzMxKzInczMysxJzIzczMSsyJ3MzMrMScyM3MzErMidzMzKzEnMjNzMxKrKkTuaTRkm6UdK+kxZJOyOXDJV0naWn++qaiYzUzM6ulqRM5sAb4YkTsAUwAPitpPPBVYF5EtAHz8npT6Oi4kLFtuzOopYWxbbvT0XFh0SGZmdk6NPV85BHxOPB4Xn5B0r3AjsBHgIn5Y7OB+cBXCgixrjo6LuS4aScxdPLxjD50PCuXL+G4aScBeN50M7MBShFRdAwDgqSdgZuAvYCHI2LrqveejYjX3V6XdCxwLMCIESP2nzNnTq+Pt2LFCoYNG9bHqDeuu+9ZTGy+DRrc+mpZrF6J/vY0e++1Z78ddyDWRVFcFxWui4pGrotJkyYtiIj2ouMoMydyQNIw4PfAtyPiUknP9SaRV2tvb4/Ozs5eH3P+/PlMnDhxQ0PuF4NaWhh94qWopXKjJtau4ZGzD+OVtWv77bgDsS6K4rqocF1UNHJdSHIi76Nm7yNH0qbAXKAjIi7NxU9KGpnfHwk8VVR89TRmXBurli95Tdmq5UsYM66toIjMzGx9mjqRSxIwC7g3Is6ueutKYGpengpcUe/YijBzxnRenHcuLy1bRKxdw0vLFvHivHOZOWN60aGZmVkPmvphN+BdwJHA3ZIW5rKTgdOBiyUdAzwMfLSg+Oqq64G2U2acyrKLlzJmXBtnnXOmH3QzMxvAmjqRR8QtgHp4e3I9Yxkopkw5wonbzKxEmvrWupmZWdk5kZuZmZWYE7mZmVmJOZGbmZmVmBO5mZlZiXlkt41E0p+BZW9gk22Bv/RTOGXjuqhwXVS4LioauS7GRMR2RQdRZk7kBZHU6WEJE9dFheuiwnVR4bqwdfGtdTMzsxJzIjczMysxJ/Li/KjoAAYQ10WF66LCdVHhurAeuY/czMysxNwiNzMzKzEncjMzsxJzIi+ApPdJ+qOk+yV9teh46kXSaEk3SrpX0mJJJ+Ty4ZKuk7Q0f31T0bHWi6QWSXdKujqvj5V0a66LiyQNLjrGepC0taRLJN2Xr48DmvW6kDQt/3zcI+mXkoY063VhveNEXmeSWoAfAIcA44FPSBpfbFR1swb4YkTsAUwAPpvP/avAvIhoA+bl9WZxAnBv1foZwDm5Lp4Fjikkqvr7T+CaiNgd2JdUJ013XUjaEfg80B4RewEtwMdp3uvCesGJvP7eDtwfEQ9ExGpgDvCRgmOqi4h4PCLuyMsvkH5Z70g6/9n5Y7OBQ4uJsL4kjQI+APwkrws4CLgkf6Qp6kLSlsB7gFkAEbE6Ip6jSa8LYBOgVdImwFDgcZrwurDecyKvvx2BR6rWl+eypiJpZ+AtwK3AiIh4HFKyB7YvLrK6+h7wZeCVvL4N8FxErMnrzXJtjAP+DFyQuxl+ImlzmvC6iIhHge8CD5MS+PPAAprzurBeciKvP9Uoa6r/AZQ0DJgLfCEi/lp0PEWQ9EHgqYhYUF1c46PNcG1sArwVOC8i3gL8jSa4jV5Lfg7gI8BYYAdgc1I3XHfNcF1YLzmR199yYHTV+ijgsYJiqTtJm5KSeEdEXJqLn5Q0Mr8/EniqqPjq6F3AhyU9ROpeOYjUQt8631KF5rk2lgPLI+LWvH4JKbE343VxMPBgRPw5Il4GLgXeSXNeF9ZLTuT1dzvQlp9CHUx6kOXKgmOqi9wHPAu4NyLOrnrrSmBqXp4KXFHv2OotIv49IkZFxM6ka+CGiJgC3Agcnj/WLHXxBPCIpN1y0WRgCU14XZBuqU+QNDT/vHTVRdNdF9Z7HtmtAJLeT2p9tQDnR8S3Cw6pLiQdCNwM3E2lX/hkUj/5xcBOpF9kH42IZwoJsgCSJgJfiogPShpHaqEPB+4E/iUiVhUZXz1I2o/00N9g4AHgaFJDo+muC0nfBD5G+i+PO4FPkfrEm+66sN5xIjczMysx31o3MzMrMSdyMzOzEnMiNzMzKzEncjMzsxJzIjczMysxJ3Lrd5K2kbQwv56Q9GjV+utmccqzXn2mF/vdRNJzPZSvzfu/J88W1boBcZ8oaUgP7w2TNEfS3fkYN0sa+kaP0VeSZkr6Qj/sd6Sk30i6S9ISSesc60DSLflfyPp63IMlXf4Gt5kl6R01yo/K35vF+TWtr/F12/+gZpq90AYuJ3LrdxHxdETsFxH7Af9NmsVpv/xaXWOT4cB6E/l6vJCPt3de//QG7ONEoGYiB6YBD0fE3nmWqk8DL2/AMeqqanSw9ZkJ/Doi9o2I8cAp/RhWX7WTBlp6VR4C93jg4IjYM3/mhY183EE06VCyNrA4kVuhJH05t5rukfS5XHw6sFtuUZ8uaUtJN0i6Q9Ki/Eu6VyINlHAzsGtPx5O0haTf5tbnPZIOz6237YGbJV1fY9cjgUerjnNfHlITSVMl3Zbj/y9Jg3L5B/I53CXp2ly2raQr83n9QdJeuXxmbmn+XtIDkj5bVWfTleazvw5oqyr/jKTb8/5/1XUXQtIvJJ0l6UbgNEn3Sxqe32vJ+x9e4/yWV53foqrjnJzvRNwlqXowo4/n8/6jpHfmz7ZKmp0/f4ek96yrvJqkg/IxFubPbF7jM3sDiyPilW5vnQycmEeNIyJWRkTXLHNvVZrbe5GkuZK2yuWv3lWQ9GZJ9+flTynNlf47pfnAT8vHOB3YIsf3M0mndfs+nSHp37rHbLbRRYRfftXtBcwgjWIGaUrXu0hTNW5BmtZ0H1LSXVi1zabAFnl5e2BpXt6ENCtU92O8Wp63vZrUYu7peB8jTdjRtf1W+etyYOsezmN/0oxdfwC+Beyay/cCLgc2yes/Ao4A3kwanWxMLh+ev54HfC0vvxfozMszSX+ADM7n/DRpJMCuc2gFtgIeJE0+A7BNVXynA8fl5V/kmAbl9W8Bx+fl9wMX1Ti/9wPPATeQkuLIXP6hHFdrt/O4BTgjL3+YNLc4wFeAH+flPYFl+Zx6Kj8YuDyX/xZ4R14eBrTUiPPLwCdrlD8PbN7D924JcGBe/g7w3apz2C8vv5k03TCkkdWW5mumlTR74Q50u/6AXYDb83ILaYS6NxX9M+dX47/cIrcivRuYGxEvRpqf/HLgwBqfE3CGpEXAtcBoSduuZ99bSFpIuuX6J+Cn6zjeIuB9ufX/roh4fn2BR5q1bBxwFrAt0Cnp70iJ6G15fSHw96Rf8AcAN0bEsrx911CjBwI/z2XXAjtUtTyvjjQ391PAM8B2pHm750ZqYT4PXFUV1j5KffV3k8Zv37PqvV9FpdU6i8oY5v8KXFDj/H6T454FjAfulLRNPr/zI2Jlt/OANMEHpGk3d65xfotJk33suo7yav8DfC/fOdkyItZ2jxP4R+B3NcpryucwJCJuyUWzSXW6PtdHxAv5vO8jDRv7GhHxJ+CFfJfgEOC2iHi2t7GZbaje9peZ9Yda03bW8klS6/OtEbFG0nJ67rvu0tVHXjmYVPN4EXGvpHZSK/RMSVdHxHe6bXs4lX7ioyJiYf5jYC4wN+/7kHxO50fE17ttfxi1p57sHlP1evVY2mup/Lz2NK7yz4BDIuIeSZ8CJlS997eq831I0rOSJpHmhL+21s4i4mmgA+iQdA0p+Wodx++KtzrWnr7H6/3eR8RMpYfsPgDcLmliRCx9dQdpOtzWiHiyxuZLSHdNbnoDx11Dpbux+/XV0/eiu1nAUaQ/ZH64jmOZbTRukVuRbgL+KfeXDiPNw3wz6aGkLao+txVp7u41kv6BNIHERjuepB2BFRHxc+Bs0hSaVMcREZdE5QG9hZIOlLQ1gKTNgD1It4evB/65646B0hP7O5FalwdJGpPLh1fFNCWXHUyazvPVpNvDORwmaYikLYHq5wU2B55Qmir2iPXUxSxSkp4Tr+9fRtLkqj72LUnzYz9MSvrHVL3XvW+9Vrxd57cHqe/9/nWUV8ewS0QsiojTSBOF7MZrTSbd+q/lNOC7kkbkfQ2R9LmI+AuwsqsPHzgS+H1efoiU/KEy01iPImJN3nd1Up9L6n7Yj3QtmPU7t8itMBFxm6RfUnni+LyIuBtAUme+RfxrUnK9SlIncAepv3KjHU9pNrrTJb0CrKbyxPyPgOslPRIRB3fbXRtwXm7kDyLd4r4iIkJp9qrrlR5yexn4TETcLuk44Ircen+M1IKfDlyQuw1WkGb9Wt85XEbqJ3+I17Y4pwO3kRLuPaz7rsVlwPmkLoda3gacK+nlfH7nRcSdpFvs+5K6Dl7O5/31HvYB8H3gh/l7+TKpP3u1pJ7Kq7f9kqR3k2bK6+pWqXYIqf//dSLiSknbATfkfQbw4/z2kaTvXSvpj4euOj8TuEjS0aRpQ3tjFrBIUmdEfDIiXpJ0E/BErT+QzPqDZz8za0KSJgCnRcSkomPZUPkZhPaulvFAkP94WwgcGhEPFB2PNQffWjdrMpK+BlxEehq9tHI3x0BK4nuTHqy8xknc6sktcjMzsxJzi9zMzKzEnMjNzMxKzInczMysxJzIzczMSsyJ3MzMrMT+H/AiOAxPF6nBAAAAAElFTkSuQmCC\n",
=======
      "image/png": "iVBORw0KGgoAAAANSUhEUgAAAZYAAAEWCAYAAABFSLFOAAAABHNCSVQICAgIfAhkiAAAAAlwSFlzAAALEgAACxIB0t1+/AAAADh0RVh0U29mdHdhcmUAbWF0cGxvdGxpYiB2ZXJzaW9uMy4xLjAsIGh0dHA6Ly9tYXRwbG90bGliLm9yZy+17YcXAAAgAElEQVR4nOyde3hU1dW435XJ5B4ISUiQuwpqUdEKvSgVQdF6wwqtrYpKv8+qaLVKEVsrP2v91FYRqdV6q7RFQfEGKipWsaK21fYDW6lSP1EUCAghCSEk5DpZvz/OmclMMjOZSWbCJK73ec6TnOte+8w5Z+2919priapiGIZhGIkibX8LYBiGYfQtTLEYhmEYCcUUi2EYhpFQTLEYhmEYCcUUi2EYhpFQTLEYhmEYCaXXKRYRyRIRFZGh+1uW3oSIzBKR1ftbjmiIyK9E5OEkXLfLdReRq0XkV4mWqbuIyFAReV9EvPtblmSSKvdfRF4UkUlR9p8qIh/3oEgpTUIUi4jUBi2tIlIftD6jk3MT+oOIyDsi0uCWvUtEnhKRkm5cLyZFJiKT3LL3iEiliLwlIkd1tdzejIgUicgjIrJTRGpE5EMRmb2/5YoXEckGfgLcFbTtjyKy0X3Oz213/B/bvQuNIrIryvWPEZFX3OelIcz+Ue7+ahH5XEQWiogHQFXLgH8A309QdSPJGPb9dJ/1C4LWi0TkIfc33yci77V/90Vkh7uv1q3Pw+49jlR2yP0XkcNF5AX3va5yP/YHtzvnp64Me0TkwWDFKyK3u8rYJyI/bXfeL9r9dg0i0iIi/dxDbgdujf3OdQ8ROc797f3fk3c6+5YmqNyQ37WrJESxqGqefwG2AFODti1NRBlx8gNXli8Bg4A7klmYiBQBzwHzgQHAMOA2oDmZ5fYUIpIe5yn3AgIcAhQA04HPEixWT/AdYJ2qlgdtexe4FHi//cGq+v1278IK4Kko128EHgdmRdj/EM59KwHGAacBFwftXwpcFltVkoerAP4MlAJfwfnNbwDuFpEr2h1+intvxgPHAddGuXT7+1+Acz8PwXmvPwCeCZLjW8CPgInAQcCRrhx+/g+YA7zaviBV/Xm73+7XwCuqWuMe8hYwTESOjHYvEoHbM3oFeBk4ECjGqdcZyS47YahqQhecF2FKu23ZwG+Bz4EynA+wFygC6oFWoNZdioAJwN+BPcB2YCGQ7l4rC1BgaITy3wEuCFqfA6x1/y8EHgN2AZ8C1wHi7jsM+Itb5i7gEXf7P9zy6lz5zg5T5jeAHZ3cl8twHuwq4EVgSNC+o3BezN3ADmBOtPvm7jsV+Bj4mSvvNmBG0DVLgJeAGuBt4JfA6qD997vXrHHr+PWgfb9y79MTwF7gIrf+/YKOmeD+Nmlh6voxcGqUexGpvr/C+Vg+7pa7Hjg66LwjcV7wanffaUH7ov22s/x1Bzw4im+X+1u/BxwaQc7HgGsj7FsLnBuljv1xnu2vxfDOHAE0hNn+KXBi0Po9wN1B61lAE1Aa5txJOI08Cdp2HvCPoN/vn+7vvwP4ZQTZTgU+jvaeAT90n7+sdsfMdH+rHHd9B/CNoP2/AZ6Jcl8i3n93/2CcdzPXXV8O3Bi0/wzgszDnPQ38NMp103Deje+12/4o8JNo9wn4Bc47vgk4x913PLCVoHcFmAG8E+XZWtDJM/ND4BOg0q13qbv9MKAlym81C3jNvffV7jWmuPsWAD6gAedbtwBYBNza7nqvArOiyddTNpZfAGNxPgzjcB7661S1EpgGbNK21kIlTkv/SpyPxfHAVOAH8RbqDoFNw3mBAB7AUWgHAicDlwPnu/t+CTyL0yoaDjzobp/o/j3Ule/ZMEX9B8gWkUUi8k0RKWgnx7nANW49Sl15lrj7BgCrcR6OQTitsTfdU8Pet6BLj8DpGQzGuV8PiEieu+8hnAe81K3nf7eT+W33uv7e1lPtxuu/DSzG+UA+haPovx20/wJgqaq2hrkf7wC3i8hMERnV7l5Eqy84v9fvcX6H13BajohIFvACzm80EJjrynyge1603zaYM3Hu5cE4vcvzcRRcOI7EaQx0he/hfNT+3sXzwan7+SKSLSLDgVOAP/l3qmoDTkMu3JDrGzjPxjeCtp2P87EGR7nepqr9gNE497WrnAy84MoTzFM4z89X2p8QVJ9ow+Cd3f+JwGZVrXPXD8dpKPh5DxgR9E7EyhQgF+e9COY/hL/XfkYCGTjP9aXAYhE5UFXfwmkAnBB07AU4iioE99sxDkf5hUVETgf+H867MgSowP2exMhEHOVVhPMcPAygqnOA/8Ud8XHXF+M8g+KWPRinUfJk1BI6a03FuxC+x7KN0JbXt4APo7WI2p3/U+BxbWulddZjqcPRxmXujSkEMnG08UFBx14NvOz+/6R7kw9od72o5QUddwTwCE4rvhnnw1ns7nud0N6E1z2mFPgv4O0I1+zsvu0htBVUAxztytwKjAzadxdBPZZ25QiwD7fljtNzeKXdMTOB19z/M3BaSmMjXC8XuBH4F9CC83Hwt4qi1fdXOB8o//oxQLX7/8nAZkJb4CvcZ6Oz3za4x3I6zhDKV4OvFUGercCkCPs667H8lSit4jDPTrgey5E4H8cW9xl8IMwx64DvRrjuncB97v+FOD2oA9z1f+AMExV1Itup7r2tbre00NYK/gtwU4Tzq4Fvu//vwOmJ7nXr8zKQ38X7P9K93vR278ukoPV8t5xB7c7trMeyNMK9vgp4Kcp9aiCo1wY8D8x1//85sMj9vxTnfSsOc52DXZlHdiLfzUHrBTjv+yBi67G8H7Sv0C2voP2x7rrg9L6Od9evBZZ39kwnvcfiarpBOB8FP5txNG2kc8aIyCq/8RfnI1UcR7GXqWqBqg5V1ZmqWuXKkIYzPBBOjtlADvBPEVkfzYAlIn8OMvJ9G0BV31fVi1R1MM7H/WCcoStwehYPuEbYapxhmBZgKI495pMwZcRy33ZpaI9hH5Dnnic4L2bwucHXv15E/k9E9uC02LMIvcfB54Izlv0VERmC83EuU9X1YW4Pqlqnqjer6tE4raKVwDMikh+pvkHsCFMfcHplW9R9uoPqNITOf9tgVuF07x8EdorIfVFatLtxPk5x4fbSvkZQK1JELg56ZlbEcI0MnN7JozjPZQlO6/vmdofm43y8w/EYcI5rIzsH+Iuqfu7um4nTG/5IRP4uIt+MIs6n7vsUWHAUq58K4IAwdcjB6bFUBG0+TVXzcXorR+B82CIR9v6LyCAcG8R8VV0etKsW6Be03i9oe0y4z+g0nAZpe6Lda3Dex+Be22ac5xacRud0t+d9HvCqqla0vwBOgw3C3M8gBhP0PqtqNU6jMuI3tR3t3zFoe89CcN+3R3B6WBChp9WepCsWV7AdOB9XP8NxWhfgaMv2/A7HSHqwOl31m3E+lN1hB45WHx5ODlXdpqr/jfOD/gj4vdtd7yCfqp6obUN3z4TZ/wHOzT/C3bQV+H67lzNbVde5+w4Oc43O7ltndVWcj3jwuQCIyMk4ra9pOK0df2s2+B6H1FtVa3F6COcDFxLDw+WetwenJ9LPlSFsfWNgO6G/HbTdj6i/bTt5VFXvUtUv43xYj8Lp3YRjPc5QXbzMBP6sjueWv9xFQc/MtBiuUYLzLN6rqk2qugvnY3e6/wD3IzXSlbMDqvouzodqCqHDYKjqf1T1e245vwGWu8qsK6wGznTlCeYcnA/e/4aR7VUcG97tUa7b4f6LSLFb3mOquqDd8R8QOlR1FM5QWcyKBfgusFVV3w6z70uEDrW1p7jdPRiO89yiqp/i1GcqUd4fV0msI3TYuT3bCfouiEh/nPdrG85ojUdEMoOOHxTlWh1ECLPtEeA7IjIO55vyYmcX6Skby+PAz12XxBKcLri/NbcTKGnXaswH9qhqrYgcDlzSXQFUtRHnw3ibiOS6bopX02br+J6IDHY/6P5WSYt73h4cL5OwiMiRInKN25pHREbijLG/4x7yADBPRA519w/w93RwxrZHicjlIpIhIv1ExD8mHe2+RatrA04v4Rfu+PxYHGOhn3ycobhdOMNaN+P0WDrjERxb16k43fGwiMhN4rjSel2PoR/htFo/7qS+0XgLSHPvc7qrHE8Bnurst20n29dFZLzbiq/DGfv2RSjzJULHxXFlzsJRwl5x3NElaL/gfDj+2FmFxCEL5zfwu7b7P+7b3WWWW99C97rBH7bjcIY1glug7XkcZ/jiKzjDs/6yLxKRIlX14TzfiqOcu8LvcXoXy0RkuHuPzsAx/s5T1X0RzlsAfEtEvhRhf8j9d+1zr+IMcd4U5vhHgMtE5BBxPDV/RtDv4D6PWTjfvXT3frf/Bs4kTG/F/V0n4vR4I+EF/p9b/xNxhm+DG56P4NhGDsJ5PyNxLc7vfo2IFLrPyTgR8T/PjwOXiMgRbn1ux2nI7MB5ZnYBM0TEI45XXqw9GXC+xyHfOlXdBGwA/gA8oapNnV6ls7GyeBfC21hycLyQ/BW/C8gIGsNbgtOyqsZpPZ8EfITThV2D47rrHyOPyyus3b4iYBnOR24zcD1tnkO/xvG+qgU24vQw/Of9yL3h1cBZYa47AmfcdjvOx6oMx5srN+iYi3FaVDVu2Q8E7Tsax9ha7cowO4b71sE2RZDXDU4r5WXCeIXhvACPuvu24TgWBJ/7K+DhMPX0Dzf9qZNn4GacB3Gv+7u+BnwlhvqGlEu78WKcFqjfc+/fwBkx/rbBNpZTcVyFa3FewD/iei2FqUeWe38Gtnu+tN0S7FE32ZUvO4Z35bAw1/owaP9XaPOC24XzQSkK2r8IuLSTMka7132m3fYn3Xu1172Xp0c4v1OvMHe9GMcIXI7T+10PXBTp+Qza9gccJ5BO7z+OZ6XS5kHqX0qCzvmpK8MeHAcWb9C+ZWHu97lB+w/EGaIeFkaW44G/RbnP7b3CPqOjV1k/nKGnB2N4No7DGe6rwXmH3gbOa/dN2uSW9SxBtmHgLJx3YDfOe9/exhLsHRryPcVR5B+7594RdNwP3OOO7Ux2VQ28eIYREyLyNxyDcDxeKL0WEfkRMFhVf9rpwT2I2zt+Bccdu0/MlwpHqtx/EXkBuEtV/9yNa/gbZueq6l8SJlwPICKn4Lz3ozo9GEyxGLEjIhNwXDCHqWr9/pbHMHoT4sycv0FVx+xvWeLBHZ5dDrypqjFNNo93RrXxBUVElgHfBH5oSsUw4kNE3sFxtAg3typlEZGjcVzn1+IM78d2nvVYDMMwjETS66IbG4ZhGKlNrxgKKy4u1pEjR8Z1Tl1dHbm5uckRqIewOqQGVofUwOoQP+vWratQ1YE9VqBLr1AsI0eOZO3atZ0fGMSaNWuYNGlScgTqIawOqYHVITWwOsSPiGzu/KjEY0NhhmEYRkIxxWIYhmEkFFMshmEYRkIxxWIYhmEkFFMshmEYRkJJqmIRkatF5H0R+UBErnG3FYrIqyKy0f07IBllV1VVceDow0jzeDhw9GEsXfpY5ycZhmEY3SZpikVEjsAJd/9VnKi0Z4rIaJzoo6+p6micqLcJDy63dOljbN5aRv34mQz78XLqx8/k8tlzTbkYhmH0AMnssXwJeEdV96lqC06Y9Gk46XX9+Q4WA2cnuuB5N92Mp18JWSPGIp50skaMJeekK5l3U/vke4ZhGEaiSaZieR+Y6CapysHJfDcMKFU3Par7tyTRBW/etBHxZodsyxw6hs2bNia6KMMwDKMdSQ1CKSIXAz/EScazAScB0H+pkzPbf8xuVe1gZxGRS4FLAUpLS8ctW7Ys5nL//f4HlB4wmJ0NbXpTm+qRukqOPOLwrlanx6mtrSUvL1I69t6B1SE1sDqkBj1dh8mTJ69T1fE9VqBLUkO6qOoinCx3iMhtOJkVd4rIAar6uYgcgJPtLdy5D+FkgGP8+PEaTxiEbdu2s61sK7e/U0fm0DE0lm1g32v3cv/C+b0qJISFsEgNrA6pgdWh95Bsr7AS9+9wYDpOatXncfJK4/59LtHlzphxPiOGDSV77WK23jWd7LWLuX/hfGbM6FWpEAzDMHolyQ5C+YyIFAHNOAmidovIr4An3WGyLcA5ySi4sLCQTzd+mIxLG4ZhGFFI9lDY8WG2VQInJbNcwzAMY/9hM+8NwzCMhGKKxTAMw0goplgMwzCMhPKFUCxLlz5mccMMwzB6iF6Rmrg7LF36GJfPnkvOSVcy7Owx1Jdt4PLZcwHM/dgwDCMJ9Pkey7ybbibnpCstbphhGEYP0ecVy+ZNG8kcOiZkm8UNMwzDSB59XrGMOGg0jWUbQrY1lm1gxEGj95NEhmEYfZs+q1j8ib4+++QjKl+4k4bN61FfCw2b17PvtXu55aYb97eIhmEYfZI+abxfuvQxdpaXU1ZRAwiKUP7ML6ClmREHj2aBxQ0zDMNIGn1SsVwzZy4//cl1FJ16VSC6ccWLCxiQk2nxwwzDMJJMnxwKq6yqwltQGuIJVnzGHCqrqva3aIZhGH2ePtlj0eZG1NfC9kVX0FxZhrdoKP2+9h20uXF/i2YYhtHn6ZOKBU86LbWVFE6Z1TYU9tJC8PTN6hqGYaQSfXIoTDzpeLLyqVr9AFsWTKdq9QPkHn4i4km3kC6GYRhJpk8qFm1qwFdfg7Y0O+stzez918toUwP142dy+ey5plwMwzCSRJ9ULOLNAISiU69i+JzlFJ16FWnp6ZCe0eWQLhbI0jAMIzb6qNFB8GTnU7X6roDxPveIKexd+xzghnR5MvaQLhbI0jAMI3b6ZI9FmxvxNdRSOGUWw+csp3DKLOo2rAl4hVX/9XHSs3Jj7n2kUiBL6zkZhpHqdKpYRORKERnQlYuLyGwR+UBE3heRx0UkS0QOFJG/i8hGEXlCRDK6cu2o5WZk4e1fEjqP5bSrkYwsyn47k73vvkDhWdcz7MfLAzaXK354ZcQPdjIDWcajKPw9p/rxM0NkN+ViGEYqEUuPZRDwvyLypIicKiISy4VFZAjwI2C8qh4BeIBzgduBhao6GtgNXNw10SOjTQ2INztkW+bQMWhTA8VnziEtIwtf3e6A0pFRx/O7Rx6P+MFOViDLeBVFKvWcDMMwItGpYlHVecBoYBHwfWCjiNwmIgfHcP10IFtE0oEc4HPgROBpd/9i4OwuyB0V8WahzfUh2xrLNiAZ2YFZ+LvffCSwr/6jtyk689qIH+xbbrqRfa/dm/BAlvEqCksBYBhGbyAmG4uqKrDDXVqAAcDTInJHlHO2AXcCW3AUyh5gHVCtqi3uYWXAkC5LH6ns1haa9+wMUQQVLy1Efc1sX3QFLXsr8O0pp27DGwA0V22N+sGeMeN87l84n+y1i9l613Sy1y7m/gQEsoxXUVgKAMMwegPi6IwoB4j8CJgJVAAPA8+qarOIpAEbVTVsz8W1yzwDfA+oBp5y13+uqqPcY4YBL6nqkWHOvxS4FKC0tHTcsmXLYq7UunXrGDbiQMq2bUNbmpD0DDy5A2jZsxNv4RCa9+wEVZA0PFl5+PbtwTvgACSjbfhMm+qRukqOPOLwmMuNl3+//wGaWxSx3NraWvLy8gL7qqqq2Ly1DE+/EsSbjTbX46spZ8SwoRQWFiZNzu7Qvg69EatDamB1iJ/JkyevU9XxPVagH1WNugA3AyMi7PtSlPPOARYFrV8E3I+joNLdbccCf+pMhnHjxmk8iDdLF96/SL3FwxVJU2/xcO137PfUWzxcR/zkBS099zb19C/V0nNvU8nI0cuv+KHmDxyspefepsOvfVZLz71N8wcO1iVLlsZVbrwsWbI0armvv/562HNGjjpUJS1NR446NOkydpdwdehtWB1SA6tD/ABrtZPvazKWWOaxHKiqm4M3iMijqnqhqv4nynlbgK+LSA5QD5wErAVeB74DLMPpCT0XiwKMB21pwVdfExIrbNfK+eQeOgFwhpt8e8rZ+cQ8JD2DCccdx4TjjmPeTTez+cmNjDioZ3K2+K8fT7kzZpxvc2cMw0hpYlEsIWNBIuIBxnV2kqr+XUSeBt7Fscv8E3gIeBFYJiK3uNsWxSt0Z0h6Ot6CQWSNyAcga8RYBk6dS9XqBwDHLpFeMIjBP7ifRney4/0L5++XXC2mKAzD6GtENN6LyPUishcYKyI17rIXKCfGXoaq/lxVD1PVI9weTqOqblLVr6rqKFU9R1UTHstemxvDuhs3V5YFDPkFx19gLruGYRhJIKJiUdVfqmo+MF9V+7lLvqoWqer1PShj3EhGBHfj9AzKn/kfCo6/kNwxJwT2mcuuYRhG4uh0KExVr3cnO44IPl5V30ymYN1Bmxport5Jw+ZPg1ITL0SbG/EWDyM9vzjkeHPZNQzDSBydKhYR+RXOjPkNgM/drEDKKhY8XkCpfPkeWvbsJL1/Ka0tjeDxkj36WHatnM/AqXPblM7K+fjqqsnI7UdzfS0jDz6EW2660WwfhmEYXSAW4/004NBk2EKShaSl4S0YxJDLfhfY1rB5PeXP3EztP1/EUzCI8uX/44R+ychG0jNABM3IQzSNqoFHW/RiwzCMLhLLzPtNgDfZgiSS4Jz3m+84KzDbXlsaGXj2z/DVVKC+FkjPIC0ji4FnXUfR6dc459bXsPfdF5BRx5tB3zAMowvEolj2Af8SkQdF5Df+JdmCdQuP11UkbRkkq/78MJKe6bgen3Ud6fnFpGVmk3vkyfjqdrPnL0udxGDXrqBk2g3UbVjDZ598FFNxFsreMAyjjVgUy/PA/wB/w4n15V9SGAVpl0HSm4m2OiaizKFjaNmzg4FTr6Pug9fZ8/YTFJ12dccw++mZFsreMAwjTmLxClvcE4IkEknz4O1fGjJBsvj02ZQ/4wxtNZZtIC0z15mBX7MLnwgteyvYvuiKQMbJfl/7DtrcSFlFDRdccAGz5/6EhfNvB9yZ8pucmfJ1dXWBCMX+snDnxZh9xjCMLyKxeIV9iuMFFoKqHpQUiRJA+wmSdRveYM/fnkCbG9n24CX4GurQhjpnbos3E/FmUf3WoxSfPjvIPXkBkplD0alXBbZdctWP0ZYm+p8xN5CieNeyGxgeLkJxHKmPDcMw+hKxDIWNB77iLscDvwGWJFOo7hI8QbJuwxtUv/kIhSfPYvi1Kyg69SrEkwZp6ZQ/9yu0xYe2NOLbW0HV6gfY939/DeRsodUXsq3fN6+mxZMVMmSWXjDIQtkbhmEEEUuir8qgZZuq/honWVfK0jZBcj17/tbRfjJw6nVIuhdtbiQtO5eS6f+P4XNWUDhlFtVvPkLdhjecjJMtTR22tezZGVJW/wnnsev5OxKeBMwwDKO3EstQ2DFBq2k4PZj8pEmUAMSbiSc7n6rVd9FcGT6JlzbVI5k5DDzruhD7SNFpV1O1+gE8uQPw5BVStfoBWmrKqXr1fpoqtpDevzTkWun5xWRKK9lrF/doZGTDMIxUJZYJkguC/m8BPgO+mxRpEoS2NOPbV03L3krEm0lj2YaA8oC2NMXatC+s0mmu3Mqu525HvBkdQu+3NjXQsHl9my3mpYXQ3LxfIiMbhmGkIrF4hU3uCUESjqRRMu0GWvZWUPHSwlDD/Kq70aZ6vEXDIiidHCQji2J3CA3aQu9XvPRrqlY/EPAeKzj+QipfXLi/amkYhpFyxDIU1h/4OTDR3fQGcLOq7kmmYN1BvBkh+VgkzePEDavegbd4GLljJlG/8e3wccNeXAhpHnw15WF7M769uxh63crAtobN6/Hm9O50qeDMxwl2o7ZYaYZhdJVYvMJ+D+zFGf76LlAD/CGZQnUXbWoIcTfOHXMCg39wPwCFU2ZRt2EN2aOPpXb9K0haOuXLb2HLndMoX34L3qKhFE25DMnICevtJRk5IYb6ipXz+cH3L+rR+iUam+RpGEYiicXGcrCqfjto/Rci8q9kCZQI2tyN23wMHKWQRfnyW9Cmeuo3vk3e2FPY++5KSqbPC7GjNG77D4VTLqN8+a14cvq1RUiu34s27mPXiltobazHm5PHpd+/iPt+e+/+q2wCmHfTzTbJ0zCMhBFLj6VeRL7hXxGRCTg57FMWx914R0jPYtfK+WhTAyXT55GWW0DW8LEUTDgPbazHV7c7yBV5LnUb1tBctQ1J94aEhZF0Jxanx+MBgSGDBzPhuOP2c227z+ZNG8MO+1nyM8MwukIsPZZZwCOurQVgN/D9pEmUACQjC/GkB3onkpFNeuFgtKUpoDx2PXsbOYcch2TmUP3mI4AzZJY5dAytDXXsffcFSqbdENKKL546l6pXH6Dw5FlUrLq7z4TXH3HQaOrDODHYJE/DMLpCLBMk31PVo4CxwFhV/bKqvpd80bqONjlh80umz3OiFU+fh29vJen5AwECyqNi1d1o4z6KTruaPW8/AcTgilxVFghSWb/xbXJOupJr5szt1dGNb7npRva9dq9N8jQMIyFEVCwi8mMRudi/rqo1qlojIleJyDWdXVhEDhWRfwUtNSJyjYgUisirIrLR/TsgUZUJlJ2R6XqFjQ0Z4mrZuwtoUx65YybhLR7mzl0pCwyZZY0YG9F47y0aChA4p2VvBVV790U0fPeGkPozZpzP/Qvnk712MVvvmk722sXcb5M8DcPoItF6LP8NPBpm+0Puvqio6v+p6tGqejQwDievywrgp8BrqjoaeM1dTyja1BA+0VfjvhDlUbv+FbKGj3UUTXoG5ctvobWumobP/gVIh1Atlavupv+x3wPalMyevz4emL3vV2I5ruG7N3lbzZhxPp9u/JBWn49PN364X5VKb1DGhmFEJppiUVVtCrOxEZA4yzkJ+ERVNwPfAvyh+BcDZ8d5rc7xpNNSW0nhlFkMn7Pciff11qPg2l1a66pp2b2dvLGnsO+jt6l4aSGFp1xByfR5SHY/0rJyKZn2M3IOOY7yFbe2uSKXHIi2+tj24CXsXHYDrQ11tFTviGj4Dva2aq90Eklf+hD3JmVsGEZ4RLVDRHxnh8i/gSmqurPd9lJgtaoeGXMhIr8H3lXVe0WkWlULgvbtVtUOw2EicilwKUBpaem4ZcuWxVoc6979J8NGjGRnQ5ve1KZ6mndvBwS0FTxe0vMKXVfiQaRlO5Mcm3dtJr1/Cerz4autJL1/CeLNRpvraa7eAap4BxwQss2T3Q9PflFIWVJXSVgpWJ4AACAASURBVFNjAxmlowJquLW+Fl9dFdrSREZmFkMGHwDAtu2fO8e62woLCwGora0lLy/65Muqqio2by3D069NTl9NOSOGDQ1cZ38SSx2C+ff7H6C5RUhG2zwk//088ojDkyFip8Rbh1TE6pAa9HQdJk+evE5Vx/dYgS7RFMtFwI+AOcC77uZxwB3Ab2NNACYiGcB24HBV3RmrYglm/Pjxunbt2liKc6+Zxm8eXcGC99uc3tTXwpYF0yn93i3sev4O1OeDNEGb6hlx7YrAcZvvOIvhc5bz+R9/ROGUWSGeUg2b11P58j0Muex3Idt2rbiVgdNuCJoLcwetdXtIy8wm75ipDJh4YSB8f9FpVweO2/PifCQ9g37fbNu277V7A/aNNWvWMGnSpKh1PXD0YdSPn9lBzuy1i1MiflksdQgmzeNh2I+XI57Q327rXdNp9fmSIGHnxFuHVMTqkBr0dB1EZL8olojuxqr6iIjsAm4GjsBJ9vUB8HNVXRVHGafh9Fb8PZ+dInKAqn4uIgcA5V2UPSKRJkh6i4YGct5XvnwP6mvC19RA3YY3yB1zAgDp/UtpLNtAc2VZ2CGu9mHzM4eOobVxXyBkjGRmk3/MVAomnBdQMrXv/YnWfXtILxgUMmem0pNF0Tev6tbExM2bNjLs7L6TaMxcnw2j9xPV3VhVV6nqCapapKrF7v/xKBWA84DHg9afB2a6/88Enovzep2iTQ007ymPaHj3K4jiM+YgaWlUvnIfm2+fypZff4+W6h3sWjk/oGCCaSzb0CFsfmPZBtILBjHkst+5tpl5DJh4YUjul7SM7ECSMX9uF4CWPTvDKq/PPv4oZpvCiING96lEY+b6bBi9n1hm3ncZEckBTgaWB23+FXCyiGx09/0q4eV6M/Fk5VG1+gG23DmNypfvoWDiRYFeSfVfHyctM4edT8wDIP+YM535LtNuwNO/hMzBh9Kyt6KDV1jFiwvx7asJndH//B30n3AeAK0NdRF7OX5FEzxnJqLyKhjE5bPnUlVV1Wld+9qH2FyfDaP3E8vM+y6jqvuAonbbKnG8xJJXbmsrvoa9FE6ZRcveCqrfehRP7gDU10L1Xx+ndv0rDDz7ZwG7RuWqu8koHk7umBModhN9pecXk/OliSEh8nOPOJGMTW+FJPUqzM/Bk18MQFpWLtV/fZz6jW8HzskefWxg7gsQMmdGmvdRsXI+xUHRlXetnE/uoRPIOeQ4tm3/vNO6+j+48266uc8kGpsx4/xeLb9hfNGJqFhE5FjgHY1k3U9lfM3Q6qN8xa1o4z7ScvpTsfJOx76RmdMhVIs/a6Q/pEtzZRl5R53qKKDgkPor5zNj5vmBoJNLlz7GNXPmsuv5Oxh41nV4S0d1OMevKPw4c2YyyV67mP55uTQddHyI8sobewr1G99mwIk/oKnx45iqax9iwzBSiWg9lpnAb0XkI+Bl4GVV3dEzYnUTTzqIJ5Doq/qtRyk+fTYteyuofHFhhKyRZUCbkb/hs3+SN/aU0B7L2FNYuuxJ7vvtvYH5FjknXcmAvRVUvnwPvrrdlHz7xg7JwRxHgZaA19ejf3iYGTPOdzygLjyPARMvDMiivhZq3nmKxrINZIzo13P3zDAMI0FE8wqbBSAih+F4dv3RDUT5Oo6i+auq7h//z04QTzregtKwib7SsnLDZo30Fg517Cir7iZ3zCRq3n6SggkdP/pb3n4SCA01X7fhDSTdizY3hrexVO9gy4LpSHoGsy65ONC7iOQBld6/lH2v3cuQc+5J2j2KF0sEZhhGrMQShPJDVV2oqqcCJwJ/Ac4B/p5s4bpKxERfIuSOmcSulfM7hNRvrtxK+fJb8O0pp/a9lxFvZvhEX95MoC3UfN2GN6ha/RDa0ox4s8LHFyseRun3bsGTO4AlT60IeHyFM7zvev4OCjKF+xfOT4kJjmCz4Q3DiI+4vMJUtV5VX1LVq/bHpJtYaZvH0oa/V1K/aV1giGvLgulUrX6AvLGn4C0aRsn0eXjyC/GblSpeWhjqFfbSQtLEmUbvd/PdveYPiDeDolOvovCUyzues+puskcfS8VLCyk4/oKQkC7hPKAeeei37NqxLaV6Az0VmsYwjL5BUr3C9hfa1EDz7s/Z9uCPA9kfffU1aOM+gLBDXDXvPOWEwz9jDuXP3EzekVOo/eB1Zwhtz07SsvuhLU1ocwMHjj6M006ZwpKn7qW1oTbErhI87CaZOWjjPva++wLauI/dbz5CwTdmhCTQ6g2G984mYSZrmMyG3wyjd5LUeSz7DY8XJK1d9scMoM0l2E/dhjfY/vDloNoWBbm5EcnMxZNfjG/fHlAFwcnvMmcF9eNnsuSpFVxwzrQOdpXAsBtQdMoVpPcvoWTaDQy/dgXFp11N9VuPUjRwUM/ej24SbRJmsobJbPjNMHovMSkWERkhIlPc/7NFJL+zc/YnkpbmGu9D87F4i4Yx8OyfUbv+FXa/+Si17/+Z3W/80VFA164IREFOy+lP7Xt/wldTQcn0ec55UzuGxn/4j4/Qr7A47EfX028ge95+gqLTrg45r/j02UhabPq8qqoqJaIWR5uEmaxhMht+M4zeS6dfOBG5BHgaeNDdNBR4NplCdRdtbgwx3kNo9seBU+eyd91Kql65j+LTZ3f88HszGXjWdXhy+pE1YizNVeHjhjXX19LU3ELViws6GOBzD58cMd5Yxc7tndZh6dLH2Ly1LCVa7NFmw/udGILxpw3oDsm6rmEYySeWpvMPgQlADYCqbgRKkilUdxFvZnjjfVD2R22uj+ge7KvZFXAT3r7oCjz9BkbIJjmM/mfMpaWhlsqX73Hytqy4lcwhh1G3YU3EkC2xxPGad9PNePqVpEyLPVIisGTFKutrMdAM44tELIqlMTjhl4ik40Q6Tlm01Udz9Q62PXgJm+84i20PXsKu525vl/1xGOkFgyKmH/YfUzhlFtrU0MHbyx/UMnPoGLSliSGX/Q7xZlEy7QZKps9jwMSLUF9zh3hjscbx2rxpY9heV6q12JMVq6yvxUAzjC8SsXiFvSEiPwOyReRk4ApgZXLF6ia+FgCKTr2qLRzLiwvQVl9AKRRMvAht9QXCsQSOcydI+o/JGjGWgd/6Cbuev4PyFbegjfV4i4cFglo2bF6Pt3AYANrcEOgB5Y45gdwxJ1D7/p8pf+Zm8DUF4niBk0clmrfTiINGhw39n2ot9s5ilfntRPF6dvXFGGiG8UUhlh7LT4FdwL+By4CXVPWGpErVTSQjC2/BoFDbyRlzqHrlPqpWPxBQCun5xWhzAxUvLAgMY/n2lFP/0dsh0ZAzh46hdd8estIdPawtzW1K6oU7yT7kWAA8uQM69IDS84vJz8+n1efjlptuZPbcn3DBBRdQVlFD4WnXRLSd3HLTjfhqylOuxR4uDXKkYbLu2on81330kUcBuPCiC3t96mXD+CIQi2K5SlV/p6rnqOp3VPV3InJ10iXrBu1n3oPfrtJI4ZRZ5Bw6IdBzKTr1KobMWgQiDL/mCTx5hRSePCugVMDpKaRlZtNv6k8DeVV2v/57fK/fyyUXnYd+/BYNm9eDpFHRzpBf8eICMrzegPts2glXBK6x5y9L8dXtDms7mTHjfEYMGxowmPtev5es9LQe/bi2VyJX/PDKuFyAE2EnMrdjw+h9xKJYZobZ9v0Ey5FQxBt+5n1adn7AyF7hDnXljjkhxLBfcMLMjnlYVs4n75ipoe7LZ11HXn4+9/323oDHlK+2koKJM0Nm9RdMnEnlrh1h3Wf9uVki2U4KCwsDLfbGVkg74Yoe+7iG+6A/9Ps/xuUCnAg7kbkdG0bvI6JiEZHzRGQlcKCIPB+0vA5U9pyI8aOtPpr37OwQjsVvZC8991ZE0kJ6Ln7Dvn94rPWN+wKutb591RS4ybz8BH8g/UM2I0cdQnp+MYMvvo8R1z3P4IvvIz2/mBEHjY7oPttcWdap7aSzj2u44anuEq5MX+O+uFyA2+xEbcRrJzK3Y8PofUQz3v8N+BwoBhYEbd8LrE+mUN3G10x6XhFVq+8KhLwvOP5CKl9cCARHHJ6GeLOR9AwqXlhA9VtL8NXXMOuSiwM5V8AxtMeSh/2Wm27k8tlz4aQrA84A+167lwUL5zPvppupCpMEzB/J2G/UD0e0kCrB4fuHnT2G+rINjgzQLUN3uDK9hcPCRoaOpChuuelGyivKadj8aYf7ESuRIkCnmhODYRhtROyxqOpmVV2jqseq6htBy7uq2tKTQsaLZGQhnvQOPYe0rFzAjVKckU3R6bPRpnoGnnVdW+gXj5eHHv59SKs/VtfXaBMJTztlCnXrX6FwyiyGz1lO4ZRZ1K5/Bd/eSi44Z1pUJRBtTkeyhoral1m34Q1aG+vYuewGtj14CbXv/7lTh4L2dqKupBk2t2PD6H106m4sIl8H7gG+BGQAHqBOVVM2C5U2NdBcvSOkpbxr5XxyDpsYCJOfNWJsIHxLSGKus66j8uV7Qlr98bi+RgoqueqV1RRPnRs2CdiSp1Yw4bjjIn5wo/WELrzowqgBIrtKcJmBZGlnzmm7n8/fQWF+TqeKwm8n6irmdmwYvY9YjPf3AucBG4Fs4Ac4iqZTRKRARJ4WkQ9F5D8icqyIFIrIqyKy0f07oOviRyg3I4s0bxa7nr3NdSO+hdZ9tdT+axW7nr2N3EMnUDJ9nhO+xQ1O6Sdz6Bha9uzs0OqP1/W1vd3js08+Cp8ELExZ7YnWE0rWDPXgMqteub9D6Bu/80JPfOAjuTMbhpGaxBQNUVU/Bjyq6lPVPwCTY7z+3TgpjQ8DjgL+gzMv5jVVHQ285q4nFG1qIC0rD09eIYiQnl8MtDD82hUMu3oZhSfPAtzwLXt3hZzr9xALZyCO1fU13HHpuQNCoip3VlZ7In1ckzlU5C8TX/jQN2ZANwwjHLHMvN8nIhnAv0TkDhyDfm5nJ4lIP2AirmuyGxamSUS+BUxyD1sMrAF+Eq/gUfGk01JbSeGUWYGhm/IVt1Idxngu3mx2v/koBRPOo7FsQ2DGfbhWf7A9A5zhLNzeRnArOtxxRWdeS8Wzt5I94qiATNHKigV/vpK9FZ/T8PwvaamvY8TBiR8qMgO6YRjxIP5siREPEBkB7MSxr8wG+gP3ub2YaOcdDTwEbMDprawDrga2qWpB0HG7VbXDcJiIXApcClBaWjpu2bJlMVdq3bv/ZNiw4ZRt3462NEFaOmgriOAtGIR4s9Hmepqrd5DmzaK1uQFafYjHiyevEPGk01y9A1p9ZGRmMWTwARQWFrJu3ToySkeBBBWm0LTzY8aNG9dWfpTj0r0ZtDQ3gaQ5MqV5nHwv2hpSFkBtbS15eXlh61hVVcXmrWV4+pUE6uPbU05aGrQ0N3e4VncIW1ZNOSOGDe30+tHqkEyqqqrYtv1zmhobun0v9lcdEonVITXo6TpMnjx53X7J9quqcS/AhBiOGQ+0AF9z1+8G/geobnfc7s6uNW7cOI0HEL1zwUJNLzhAEVHJzFVPXpGWnnubjvjJC4Gl9Nzb1Fs8XEvPvU09/Uqc4xGVjBztd+z3dPi1z2rpubdp/sDBumTJUh056tCw1xg56tCQ8qMdt2TJUs0eUKql596mRWf8WD39Bmrpubd1KEtV9fXXX49Yx0hlpBccEPZa3cVff0lLC9QjFqLVIVksWbJU8wcOjnhf42V/1CHRWB1Sg56uA7BWu/CN7+4SbYKkx50kea2IHOFuO1NE/oZj0O+MMqBMVf/urj8NHAPsFJED3OsdAJTHqww7xeOFNHEzSK6gZNoN+GqrIk5Q9IfKl3QvaTn93ejEF3Zw343VntFZYizvYZOoWv1AWKN4rK7CkSYOtuzZmZQZ6r3JgG6z9Q1j/xLNeL8IxwOsCPiNiPwBuBO4Q1W/3NmFVXUHsFVEDnU3nYQzLPY8bWFiZgLPdVH2iEhaGt7+oRkkOw2RXzyMwRffR2t9DS17K9i+6Ao233FWIF3x5k0bmTHjfC44ZxpVz/+SLXc6f8PNQYnmxfXZJx9Rt2GNE46/petG8UjeYP7QNPFcC5Ize39/YbP1DWP/Ek2xjAdOVtXrgdOBc4BJqhpP9sirgKUish44GrgN+BVwsohsBE521xNKuAyS/Sec1zEG2Kq7SR8wmPIVt9JcuZXti65AvNlUv/VoyERGf576pUsfY8lTKyg863onlfFZ17PkqRVhP8KRWvje7DyK3XTFfqUWTKxG8XC9ooqXFgZC08Rzrb4W6LEvJwnrSw0Ao+8STbE0qWorgKo2AB+5vZCYUdV/qep4VR2rqmer6m5VrVTVk1R1tPu3qjsVCIdkdAxCmZ5fjKSlt2V6fOZmfHvKadz+ISXTbmD4HCfnvXi95B5+Ytg89YkYYmmprwu0pvsf+z0qV93dJVfh9r2i1jfuw6steHIHxH2tvjZ01Fdn6/e1BoARmd7egIimWA4TkfXu8u+g9X+7PZCURZub3Jn3QXnoV87HV1uJpHvpd+x3EU86nv4lDJx6XejEv6nXUf/R2yHX8+epT8QQy4iD21rTuWNOoGDiRQFl1z7kiT9JVqSHK7hXVL59Kw/ff2+Xwuz3taGjaEORvZm+1gAwwtMXGhDR5rF8qcekSDTaiqRnUr78BrSpHsnMJv+YqYG5KhWr7ibvy2dQ8/aT4Q36VVtDtgUPo3R3Pkf78Cye3AFke4X7lywJ+fAtXfoY5RUVzsMVY3BJfziZQGDKyVcwbGjn5/bFeSqRQuv0ZqIFIzX6DrHOl0tlOgtCGXHpSSHjRdIzUF8TJdPnMfzaFeQfM5W961ayZcE0qlY/wICJFzFg4oURDfqezJywwyjhhlgqX7iTzz75KObuaqyt6e4kyYq3ZRtp6Oi0U6b06u54X6Mv246MNvrCCEIsM+97Hfn9+rleYU6++AETL6TmnScpOn02NX9/mooXFrDn7SfIGvnlDjnv9712L5f+9/dZ9criiEEP5910M5uf2EhaZja5Xz6TggnnxRWuPpbW9OZNG1FfC9sXXRGIFNDva9+J6eGKt2XbPtBj0cBBiK+Z+++7j/SCQU4K5fzihITjN7pOtGCkRt+hL4wg9EnFsre6soNXmCe3yInQe/rswEtZ8dJCtNVH1asP0Fy5lZGjDuk0HIpfKRw4+jDqx89MWne1aOCgDmFpKl5aSNHAQZ2e25UHs8Mw2imzKWgXeianl3XH+xoW6fmLQV9oQMQUhFJEMkRkrIgc6cYNS2nCZS4E7TAZsfj02aRl5lB48iw8WTmAE7V44KAhlAweFnUIKNnd1XBzcfzeaZ3RHa+orqRQNnqO3jRR1egafcH5JJZ8LGcADwCf4ES/OlBELlPVVckWrquEy1wYaea9r6acihcX0toK9eNnUnhoBbvdnk00w3eyu6sVO7eHzRe/def2Ts/tTss2eBitbsMb7Hn7CZory5D0TKr/+niv6o4bRm+ltzufxNJjWQBMVtVJqnoCTsj8hckVq3sEZy7ccuc0Kl++B0//krCGz7TMXNTXTMn0G8gaMZaavz8dU5iVZM+V6G6++Fhbtu395YtLB9NYtoG6DW9Q/eYjgYmiJd/+f9Stf4XTTpnS7boZhtG3iUWxlGtoJONNJCO+V4LxZy6UNGHwD+5nwMSLOkxG3LVyPpnDjqB1355AGJfmiq1UvfoAdRveCFwr3BDQjBnn89WjD2fXilvYcuc0dq24ha8efXjCWhm33HQjvprypE7yC+cvv7e2jpo/3U31W0sociMEBIbips5l1SurE1a+YRh9k1iM9x+IyEvAk4DihHb5XxGZDqCqy5MoX7fxD1nljjkBgKrVjqE+LTOXvC+fQf17L5FfMKCDYb9y1d2AM4mxsWwDRQMHceDow9j8yUbSs3Np3lfbYX7MmpXzueKHV3Lfb2OJ0RmdGTPOZ/ny5WTf+7OkGWrD+sufMRff6/dSsfPz8DYkmzNhGEYnxNJjycLJx3ICToKuXUAhMBU4M2mSdZMtW7aSkduPzz7+iJ1P/YKt98yg4oUFaEszaVn9KDz5cgomnEdLQx1Z2Tkdhr+KTruaPX97gobN6ylffiu7a+udlv2c5RSedT2e/iXkHzOVfRvWsO///hpo0T/0+8URZYo3TIO/1xU8nJXIUA+RHBAqd+1g5KhDbM5ECtLbQ30YXww67bGo6n/1hCCJ5IofXsnBo0ZReNb1tOyt6Ohm/MICwPlQFpcOpmLndoaFDam/lcqX7yEtK5fi068JadkXn3Y1VasfoMj9mzvmBMcZoKEurEwBN96Trox5Jn0yrhFMNAeEvuDy2NdI9O9vGMkiWj6W69y/94jIb9ovPSdi/Dz8x0fwFgyKaIwvPnMOu1//PRUvLaShro60jBy2LJjG9kVXBGwrjWUbSC8YxJDLfodvb0WgZV+34Q22L7qCnU/Mo2XPLlr2VtBcWRY4RzKywsqUiDhPiY4VFc0BoS+4PPY1LFaY0VuI1mP5j/t3bU8Ikkia99UGXHX9ibyCyRw6Bl9tFXlHn0bthjfw5PSDxn1oSzOVqx+iqWILte/9iQGT/xsgEN7eV7eb6jcfoei0q0MmLXpyCwPOAHlZ4RVLIuI8JTpWVGduyb3d5bGvYbHCjN5CRMWiqivdv5GNBimKNyfPddXNDyiF9sM9kpFF7b9WkZZbQNGpV4Uoir1rnyMtM4/0/GKgLbw9khbwlAICkxbLn7mZ8hW3ki5w/4MPhZUpEfNekjF3xpRH76EvhPowvhh0arwXkUNE5CEReUVE/uxfekK4rjJxwtcDYfP7fe07zpBXOzfj/HFn4S0axsCpczvMbgch98iTqHzhTho2ryfn0AnkjJlES/WOsL0fbW5kxLCh/OHhhyJ+pBMx7yUV8oyY8Xj/kQq/v2HEQizuxk/hzLx/GPAlV5zE8MmnW/Bk96Nq9UKaK7aSltOfilV346vZRVpmDnlfPsMNTPlUBEXRgH78FpdcdF5IMMrMA4aE7f2MHHUIn278MKpMiYjztL9jRZnxeP+yv39/w4iVWNyNW1T1flX9h6qu8y9Jl6wbbN60EU9eEYMvvg9EGHrFHxk6axEjrnue1sZ9FEw4DyBiamBPVg73L5zPfb+9N+Due8tNN6KtrR3SG8fTYkxEnKf9GSvKjMf7H//v/+gjjwLElMjNMHqaiD0WESl0/10pIlcAK4BG//5kpBROFG3hUDraWILX/baTYGN8zZ/uZnG7Ia3glvqAvRVUvnwPLdU7GHjAkC+Up5QZj1MD6zkaqU60obB1ODPtxV2fG7RPgYM6u7iIfAbsxRlCa1HV8a7CegIYCXwGfFdVd8creDSCg1D6bSz+eSzZo4+lYuV8iqfOJefQCTRVbKHi2VtpbaxnxMGjWXDPXWGTbgXPUM874kQaNq8ne+3iL9SLbMbj1KAvZBg0+jbRMkgeqKoHuX/bL50qlSAmq+rRqjreXf8p8JqqjgZec9cTSnAQyqpVvyaHFiqevY0td06j/r2XmHTc+MD8jMJd/2Lxww/R2hp5aKk3ZnRLhpHdjMepQW98Ho0vFrGEzT8HeFlV94rIPOAY4H9U9Z9dLPNbOKFhABYDa4CfdPFaEfGHQ/EPGxSfPjcw3PWP1+6Nawirt7XUkzVUYsbj1KC3PY/GFw9R1egHiKxX1bEi8g3gl8CdwM9U9WudXlzkU2A3ztDZg6r6kIhUq2pB0DG7VXVAmHMvBS4FKC0tHbds2bJ46kVtbS15eXn8+/0P0NwiJKMtt4k21SN1lRx5xOExXauqqorNW8vw9CtBvNlocz2+mnJGDBtKYWFh5xfoIv46xEsi6pwoulqHVCLV6tCV5zHV6tAVrA7xM3ny5HVBo0U9h6pGXYB/un9/CZwfvC2Gcwe7f0uA94CJQHW7Y3Z3dp1x48ZpvLz++uuqqippaTr82md1xE9eCCzDr31WJS0trustWbJUR446VCUtTUeOOlSXLFkat0zx4q9DvCSqzomgq3VIJVKxDvE+j6lYh3ixOsQPsFZj+FYneonF3XibiDwIfBd4SUQyiTGlsapud/+W43iVfRXYKSIHALh/k5rbZcRBo8O6FKdn5cZld+hNKWEj1dmGSvoOvel5NL54xKIgvgv8CThVVatxQubPjX4KiEiuiOT7/wdOAd4HngdmuofNBJ7rgtwxE87gXLHqbrKPOp3LZ8/tk/7/ZmQ3DGN/EtV4LyJpwD9U9Qj/NlX9HPg8hmuXAitExF/OY6r6soj8L/CkiFwMbMFJHJY0/C25/7p0Fs31tXiLhjFg4kXkjjmBhhFH9UkXTTOyG4axP4mqWFS1VUTeE5Hhqrolngur6ibgqDDbK4GT4hOze8yYcT4XXnQhw+esQDxtVe7Lk/ssuKRhGPuLWGKFHYCTnvgfQCCLlaqelTSpkoC5aBqGYfQMsSiWXyRdih7AMiIahmH0DLGkJn5DREYAo1V1tYjkAJ7ki5ZYzO5gGIbRM8SSj+US4GngQXfTEODZZAqVLKK5aFqeEcMwjMQQy1DYD3Hmn/wdQFU3ikhJUqXqYSxarGEYRuKIZR5Lo6o2+VdEJB0nREufwfKMGIZhJI5YFMsbIvIzIFtETsbJKLkyuWJ1n6qqqpiHtmKJFtvVobJUHGJLRZkMw+g7xDIU9lPgYuDfwGXASzhpilOWpUsfY2d5OWUVNahCWUUNP7j8SiD80FZnrshdHSpLxSG2VJTJMIy+Rac9FlVtVdXfqeo5qvod9/+UHgq7Zs5cVISiU69i+JzlFJ16Fc2SzjVzwkei6SwESleHylJxiC0VZTIMo28Ri1fYBBF5VUQ+EpFNIvKpiGzqCeG6SmXVbrz9S0M+nsWnz6ayKnyiyhkzzuf+hfMDyb+y1y4OydfS1cRKqZiQKRVlMgyjbxHLUNgiYDZOqmJfcsVJDNrcgHizQ7ZlDh2DNjdEPCdaCJSuztpPxdn+qSiTYRh9i1iM93tUdZWqlqtqpX9JumTdYOABQ9Dm+pBtjWUbsnLGcgAAFapJREFUGHjAkC5dr6vRglMxynAqymQYRt8iFsXyuojMF5FjReQY/5J0ybrBwvm349tTHvLxrPnT3SycfzsQv1dUZ0NliT4vmaSiTIZh9C1iGQrzpyAOTm+pwImJFycxzJhxPsuXLyf7tz9rC99yz13MmHF+l72iuhotOBWjDKeiTIZh9B1iiRU2uScESTSFhYV8uvHDDtuDvaIA56/rFWUfW8MwjO4Ti1fYJyKyVERmiciYzo5PdcwryjAMI7nEYmMZgxOAsgi403U5XpFcsZKH5YM3DMNILrEoFh/Q7P5tBXYC5ckUKpmYV5RhGEZyicV4X4MTzuUu4Hep7mrcGZaXxTAMI7nEoljOA74BXAH8QET+Brypqq/FUoCIeIC1wDZVPVNEDgSWAYXAu8CFwdGTewLzijIMw0gescQKe05V59IWgPL7wAtxlHE18J+g9duBhao6GtiNE+DSMAzD6CPE4hX2jIh8AtwN5AEXAQNiubiIDAXOwI2GLCKCM//lafeQxcDZ8YttGIZhpCrSWaBiEfkK8K6qxh0nTESeBn4J5APX4vR23lHVUe7+YcAqVT0izLmXApcClJaWjlu2bFlcZdfW1pKXlxevyCmF1SE1sDqkBlaH+Jk8efI6VR3f+ZGJJRYby7+AH4rIRHf9DeABVW2OdpKInAmUq+o6EZnk3xzm0LCaTVUfAh4CGD9+vE6aNCncYRFZs2YN8Z6TalgdUgOrQ2pgdeg9xKJY7ge8wH3u+oXuth90ct4E4CwROR3IAvoBvwYKRCRdVVuAocD2rghuGIZhpCaxKJavqOpRQet/FpH3OjtJVa8HrgdweyzXquoMEXkK+A6OZ9hM4Lm4pTYMwzBSlpgmSIrIwf4VETmI7uVl+QnwYxH5GGc2/6JuXMswDMNIMWLpsczFCZ2/CcdGMgL4r3gKUdU1wBr3/03AV+OS0jAMw+g1xBLd+DURGQ0ciqNYPlTVxqRLZhiGYfRKYpnHkoPTa7lKVd8DhrseX8YXiHiToxmG8cUllqGwP+Dkuz/WXS8DniK+2fdGL6arydEMw/hiEovx/mBVvQMnwjGqWk/4+ShGHyU4OZp40skaMZYcNzmaYRhGe2JRLE0iko07kdH1EDMbyxcIS45mGEY8xKJYfg68DAwTkaXAa8B1SZXKSCksOZphGPEQS3TjV4HpOHG+HgfGu+7DxhcES45mGEY8xGK8BxgCeNzjJ4oIqro8eWIZqYQlRzMMIx46VSwi8ntgLPABTmpicOwtpli+QFhyNMMwYiWWHsvXVXVM54cZhmEYRmzG+7dFxBSLYRiGEROx9FgW4yiXHThuxgKoqo5NqmSGYRhGryQWxfJ7nBws/6bNxmIYhmEYYYlFsWxR1eeTLolhGIbRJ4hFsXwoIo8BKwmacW/uxoZhGEY4YlEs2TgK5ZSgbeZubBiGYYQllnwscSX1MgzDML7YxJKPZaiIrBCRchHZKSLPiMjQnhDOMAzD6H3EMo/lD8DzwGCc0C4r3W2GYRiG0YFYFMtAVf2Dqra4yx+BgZ2dJCJZIvIPEXlPRD4QkV+42w8Ukb+LyEYReUJEMrpZB8MwDCOFiEWxVIjIBSLicZcLgMoYzmsETlTVo4CjgVNF5OvA7cBCVR0N7AYu7qrwhmEYRuoRi2L5b+C7wA7gc+A77raoqEOtu+p1FwVOBJ52ty8Gzo5TZsMwDCOFEVVN3sVFPMA6YBTwW2A+8I6qjnL3DwNWqeoRYc69FLgUoLS0dNyyZcviKru2tpa8vLzuVWA/Y3VIDawOqYHVIX4mT568TlXH91iBLhHdjUXkHtx0xOFQ1R91dnFV9QFHi0gBsAL4UrjDIpz7EPAQwPjx43XSpEmdFRfCmjVriPecVMPqkBpYHVIDq0PvIdo8lrVB//8CJ0Vxl1DVahFZA3wdKBCRdFVtAYYC27t6XcMwDCP1iKhYVHWx/38RuSZ4PRZEZCDQ7CqVbGAKjuH+dRw7zTJgJvBcVwQ3DMMwUpNYUxN3xRBzALDYtbOkAU+q6gsisgFYJiK3AP8EFnXh2oZhGEaKEqtiiRtVXQ98Ocz2TcBXk1WuYRiGsX+J6G4sIntFpEZEaoCx/v/923tQxi5RVVXFgaMPI83z/9u79yipqiuP498fjQryUEFFI6SF2KMiIjEkMdEkKMxE1FHH5cw4sBQTjUtGMwYTja+wiCEBl4qZGRMSE0wwacQoqIREo+J7sqK02jYvHRAF2qCoIwaVt3v+OKfsS1FFd8OtvlXF/qxVq+89VXXv3nWretd91Dk19K87gvr6GVmH5Jxzu4UdnWPp0ZGBpKm+fgZr3n6b9UPH0O/MgaxvXszYcVcAMHr0qIyjc8656taWH0hWnOsmXE9NzwPpUjsY1XSmS+1g9h5+KddNuD7r0JxzrupVZWFZsXwp2qPrNm179R3IiuVLM4rIOed2H1VZWGoH1GGb12/TtrF5MbUD6jKKyDnndh9VWVgmThjP1r+tYcOKJmzrFjasaOLDebcyccL4rENzzrmqV5WFZfToUdT260vXhumsmnIWXRumM/WWG/3EvXPOdYCS/Y4la7169eLVpS9lHYZzzu12qnKPxTnnXHa8sDjnnEuVFxbnnHOp8sLinHMuVV5YnHPOpcoLi3POuVR5YXHOOZcqLyzOOedS5YXFOedcqrywOOecS5UXFuecc6kqWWGR1E/SY5KWSFok6bLY3kvSw5KWxr/7lSoG55xzHa+UeyxbgG+b2ZHAccAlkgYCVwHzzKwOmBfnK1p9/Qz61x1Bp5oa+tcdQX39jKxDcs65zJSsd2MzWw2sjtPrJC0BDgHOAIbFh00HHge+W6o4Sq2+fgZjx13B3sMvpd+ZA1nfvJix464A8G76nXO7JZlZ6VciHQo8CQwCVprZvon73jWz7Q6HSboIuAigT58+n5k5c2a71vn+++/TvXv3XYi6bRYsXIR16432bBkK2TatRx+8w9GDjtqlZXdUDqXkOZQHz6E8dHQOJ5544nNmNrTDVhiVvLBI6g48AfzQzGZLWtuWwpI0dOhQa2hoaNd6H3/8cYYNG7YzIbdLp5oa+l0+G9W07PzZ1i2smnIWH23dukvL7qgcSslzKA+eQ3no6BwkZVJYSnpVmKQ9gFlAvZnNjs1vSjo43n8wsKaUMZRa7YA6NjYv3qZtY/NiagfUZRSRc85lq5RXhQmYBiwxsymJu+YAY+L0GOD+UsXQESZOGM+H825lw4ombOsWNqxo4sN5tzJxwvisQ3POuUyUcmji44FzgQWSGmPbNcBk4HeSLgBWAv9cwhhKLneC/roJ17Pid0upHVDHzbfc6CfunXO7rVJeFfY0oCJ3Dy/VerMwevQoLyTOORf5L++dc86lyguLc865VHlhcc45lyovLM4551LlhcU551yqOqRLl10l6S1gRTuftj/wdgnC6UieQ3nwHMqD59B+tWZ2QAeuD6iQwrIzJDVk0ZVBmjyH8uA5lAfPoXL4oTDnnHOp8sLinHMuVdVcWG7LOoAUeA7lwXMoD55DhajacyzOOeeyUc17LM455zLghcU551yqqq6wSDpZ0suSlkm6Kut42kJSP0mPSVoiaZGky2J7L0kPS1oa/+5wpM1yIKlG0guS5sb5/pKeiTncJWnPrGPcEUn7SrpH0ktxe3yh0raDpHHxfbRQ0p2SulTCdpB0u6Q1khYm2gq+9gr+K37OmyQdm13kLYrkcGN8PzVJuldScgTdq2MOL0v6ajZRp6+qCoukGuAnwEhgIPBvkgZmG1WbbAG+bWZHAscBl8S4rwLmmVkdMC/Ol7vLgCWJ+RuAW2IO7wIXZBJV2/0n8KCZHQEcQ8ilYraDpEOA/wCGmtkgoAY4h8rYDr8GTs5rK/bajwTq4u0iYGoHxdiaX7N9Dg8Dg8xsMPC/wNUA8TN+DnBUfM5P4/+wildVhQX4HLDMzJab2SZgJnBGxjG1ysxWm9nzcXod4Z/ZIYTYp8eHTQfOzCbCtpHUFzgV+GWcF3AScE98SFnnIKkn8GXCyKeY2SYzW0uFbQfCOEtdJXUG9gZWUwHbwcyeBP4vr7nYa38GcIcFfwH2zQ15nqVCOZjZQ2a2Jc7+Begbp88AZprZRjN7FVhG+B9W8aqtsBwCrErMN8e2iiHpUODTwDNAHzNbDaH4AAdmF1mb/Bi4EvgozvcG1iY+VOW+PQYAbwG/iofzfimpGxW0HczsdeAmwuisq4H3gOeorO2QVOy1r9TP+teBB+J0pebQqmorLIVGrKyY66kldQdmAd8ys79lHU97SDoNWGNmzyWbCzy0nLdHZ+BYYKqZfRr4gDI+7FVIPAdxBtAf+ATQjXDYKF85b4e2qLT3FpKuJRz2rs81FXhYWefQVtVWWJqBfon5vsBfM4qlXSTtQSgq9WY2Oza/mdu9j3/XZBVfGxwPnC7pNcIhyJMIezD7xkMyUP7boxloNrNn4vw9hEJTSdthBPCqmb1lZpuB2cAXqaztkFTsta+oz7qkMcBpwGhr+fFgReXQHtVWWOYDdfEKmD0JJ8bmZBxTq+K5iGnAEjObkrhrDjAmTo8B7u/o2NrKzK42s75mdijhdX/UzEYDjwFnx4eVew5vAKskHR6bhgOLqaDtQDgEdpykveP7KpdDxWyHPMVe+znAefHqsOOA93KHzMqNpJOB7wKnm9mHibvmAOdI2ktSf8KFCM9mEWPqzKyqbsAphCsvXgGuzTqeNsZ8AmEXuAlojLdTCOco5gFL499eWcfaxnyGAXPj9ADCh2UZcDewV9bxtRL7EKAhbov7gP0qbTsA3wdeAhYCvwH2qoTtANxJOC+0mfBt/oJirz3hMNJP4ud8AeEquHLNYRnhXErus/2zxOOvjTm8DIzMOv60bt6li3POuVRV26Ew55xzGfPC4pxzLlVeWJxzzqXKC4tzzrlUeWFxzjmXKi8sFU5Sb0mN8faGpNcT89v1YBt7i724DcvtLGltkfatcfkLY0+5XXci7ssldSlyX3dJMyUtiOt4StLe7V3HrpI0UdK3SrDcgyX9UdKLkhZL2uFvrSQ9LWlICusdIem+dj5nmqTPF2g/P26bRfE2blfjy1t+J1VI7+Rue15YKpyZvWNmQ8xsCPAzQg+2Q+JtU4Gn9AJaLSytWBfXd3Sc/8ZOLONyoGBhAcYBK83saAs99H6D8LuAspb4ZXtrJgJ/MLNjzGwgcF0Jw9pVQwk/PP5Y7L7nUmCEmR0VH7Mu5fV2osK603EtvLBUMUlXxm+VCyV9MzZPBg6PexyTJfWU9Kik5+N4Eae1dfkWfgT1FHBYsfVJ6iHpgfjtfKGks+O32wOBpyQ9UmDRBwOvJ9bzkoXuSZA0RtKzMf6fSuoU20+NObwo6aHYtr+kOTGvP0saFNsnxm/iT0haLumSxGs2XmFsjIcJv4TOtV8saX5c/t25vTRJv5V0s6THgEkKY2v0ivfVxOX3KpBfcyK/psR6rol7ai9K+mHiOefEvF+W9MX42K6SpsfHPy/pyztqT5J0UlxHY3xMtwKPORpYZGYf5d11DXC5hZ4KMLP1Zpbr0fpYhXFfmiTNkrRPbP94r0vSQZKWxekLFca/+ZPCmCuT4jomAz1ifHdImpS3nW6Q9O/5MbsykfUvNP2W3g2YAHwnTn8OeJHQbXoPQlf8gwlFoDHxnD2AHnH6QGBpnO5M6BE3fx0ft8fnziXsURRb378SOnXMPX+f+LcZ2LdIHp8h9DL8Z+AHwGGxfRDh1/Cd4/xtwCjgIEJXJrWxPffr7KnE3heAfwAa4vREQkHcM+b8DmHcklwOXYF9gFcJHYIC9E7ENxkYG6d/G2PqFOd/AFwap08B7iqQ3ynAWuBRwj/pg2P7P8a4uubl8TRwQ5w+nTBeDIRuQn4Rp48CVsScirWPAO6L7Q8An4/T3YGaAnFeCZxXoP09oFuRbbcYOCFO/wi4KZHDkDh9EGF4C4ALCb+q7xFf91WEzjO3ef8BnwLmx+kaYDmwX9afOb8VvvkeS/X6EjDLzD60MMbLfYSuY/IJuEFSE/AQ0E/S/q0su4ekRsIhklcIgxsVW18TcHLcOzrezN5rLXALPSQPAG4G9gcaJP0d4R/jZ+N8I/AVwj+cLwCPmdmK+PzceBgnELo0wcweAj6R+GY+18J4K2sI42ccQBiLZZaFb+DvAb9PhDVY4VzPAloGZ8q521q+1U+jpW+rrwO/KpDfH2Pc0wgD0r0gqXfM73YzW5+XB4TOJCF0gX9ogfwWETowPGwH7Un/A/w47ln2NLOt+XECXwX+VKC9oJhDFzN7OjZNJ7ymrXnEzNbFvF8CPpn/ADN7BVgX96JGAs+a2bttjc11rLYeE3aVp1CX3IWcR/h2fqyZbZHUTPFzHzm5cywtK5MKrs/MlkgaSviWfqOkuWb2o7znnk3LeYbzzawxFqdZwKy47JExp9vN7Ht5zz+Lwt2N58eUnN+YmN5Ky2ehWB9HdxD6cloo6ULCSJ85HyTyfU3Su5JOJIyr81ChhZnZO4Tu0+slPUgoBtrB+nPxJmMtto1b3fZmNlHhooFTgfmShpnZ0o8XEIZw6GpmbxZ4+mLCXuWT7VjvFloOvee/v4pti3zTgPMJhfXnO1iXy5jvsVSvJ4F/isfbuxPG6HiKcJK1R+Jx+xDGUdki6e/Z+YGGCq5PYajc983sN8AUQjf0JOMws3us5YKDRkknKI4LLmkv4EjC4ZxHgH/J7VEpXBH3ScK375Mk1cb2XomYRse2EYQu8T8uAkVyOEthjPiehG7Oc7oBbygMbzCqlddiGqFozLTtz08gaXjiHE1PwtgpKwlF6ILEffnnZgrFm8vvSMK5m2U7aE/G8CkzazKzScALwOFsazjhUF0hk4CbJPWJy+oi6Ztm9jawPncOCDgXeCJOv0YoRtDSy3JRFgcl07YXRMwiHC4cQngvuDLleyxVysyelXQnLVf0TDWzBQCSGuIhnT8Q/tn/XlID8DzheHdq65N0CjBZ0kfAJlquSLsNeETSKjMbkbe4OmBq3AnqRDgkdb+ZmaTvx+d1IlwpdrGZzZc0Frg/7t38lbCHM54wGmQT8D7wtTbkcC/hPMtrbPuNfDyhd+CVhF6Dd7RXdy9wO+EQYSGfBW6VtDnmN9XMXiAcEjuGcKhvc8z7e0WWAfDfwM/jttxMOB+ySVKx9uRzvyPpS4TRPnOHQZNGEs4fbcfM5kg6AHg0LtOAX8S7zyVsu66EYpZ7zW8E7pL0NUIX/m0xDWiS1GBm55nZBklPAm8UKtiufHjvxs6lTGF8kElmdmLWseyseA5rqLUMZ5y5+GWiETjTzJZnHY8rzg+FOZciheFn7yJc7VWx4mHJcioqRxMuFHnQi0r58z0W55xzqfI9Fuecc6nywuKccy5VXlicc86lyguLc865VHlhcc45l6r/ByJ2nZZmN4/mAAAAAElFTkSuQmCC\n",
>>>>>>> b215db8a54b455ec5d1269e9988cacbb0ee351cc
      "text/plain": [
       "<Figure size 432x288 with 1 Axes>"
      ]
     },
     "metadata": {
      "needs_background": "light"
     },
     "output_type": "display_data"
    }
   ],
   "source": [
    "plt.scatter(post_sec_analysis[\"school_counts\"], post_sec_analysis[\"HOR\"], marker=\"o\", edgecolor='black')\n",
    "plt.title(\"Total Post-Secondary Schools (17-18) vs HOR (2017) by County\")\n",
    "plt.ylabel(\"Homeownership Rate / County\")\n",
    "plt.xlabel(\"Total Post-Secondary Schools / County\")\n",
    "plt.grid(True)\n",
    "plt.savefig('Pictures/Post_sec_scatter.png')"
   ]
  },
  {
   "cell_type": "code",
   "execution_count": 10,
   "metadata": {},
   "outputs": [
    {
     "name": "stderr",
     "output_type": "stream",
     "text": [
      "C:\\Users\\johna\\Anaconda3\\envs\\PythonData\\lib\\site-packages\\numpy\\core\\fromnumeric.py:2389: FutureWarning: Method .ptp is deprecated and will be removed in a future version. Use numpy.ptp instead.\n",
      "  return ptp(axis=axis, out=out, **kwargs)\n"
     ]
    },
    {
     "data": {
      "text/html": [
       "<table class=\"simpletable\">\n",
       "<caption>OLS Regression Results</caption>\n",
       "<tr>\n",
<<<<<<< HEAD
       "  <th>Dep. Variable:</th>           <td>HOR</td>       <th>  R-squared:         </th> <td>   0.126</td>\n",
       "</tr>\n",
       "<tr>\n",
       "  <th>Model:</th>                   <td>OLS</td>       <th>  Adj. R-squared:    </th> <td>   0.125</td>\n",
       "</tr>\n",
       "<tr>\n",
       "  <th>Method:</th>             <td>Least Squares</td>  <th>  F-statistic:       </th> <td>   90.44</td>\n",
       "</tr>\n",
       "<tr>\n",
       "  <th>Date:</th>             <td>Mon, 09 Sep 2019</td> <th>  Prob (F-statistic):</th> <td>4.01e-20</td>\n",
       "</tr>\n",
       "<tr>\n",
       "  <th>Time:</th>                 <td>19:50:43</td>     <th>  Log-Likelihood:    </th> <td> -2171.9</td>\n",
       "</tr>\n",
       "<tr>\n",
       "  <th>No. Observations:</th>      <td>   629</td>      <th>  AIC:               </th> <td>   4348.</td>\n",
       "</tr>\n",
       "<tr>\n",
       "  <th>Df Residuals:</th>          <td>   627</td>      <th>  BIC:               </th> <td>   4357.</td>\n",
=======
       "  <th>Dep. Variable:</th>           <td>HOR</td>       <th>  R-squared (uncentered):</th>      <td>   0.184</td>\n",
       "</tr>\n",
       "<tr>\n",
       "  <th>Model:</th>                   <td>OLS</td>       <th>  Adj. R-squared (uncentered):</th> <td>   0.182</td>\n",
       "</tr>\n",
       "<tr>\n",
       "  <th>Method:</th>             <td>Least Squares</td>  <th>  F-statistic:       </th>          <td>   144.0</td>\n",
       "</tr>\n",
       "<tr>\n",
       "  <th>Date:</th>             <td>Mon, 09 Sep 2019</td> <th>  Prob (F-statistic):</th>          <td>4.63e-30</td>\n",
       "</tr>\n",
       "<tr>\n",
       "  <th>Time:</th>                 <td>19:25:37</td>     <th>  Log-Likelihood:    </th>          <td> -3557.3</td>\n",
       "</tr>\n",
       "<tr>\n",
       "  <th>No. Observations:</th>      <td>   641</td>      <th>  AIC:               </th>          <td>   7117.</td>\n",
       "</tr>\n",
       "<tr>\n",
       "  <th>Df Residuals:</th>          <td>   640</td>      <th>  BIC:               </th>          <td>   7121.</td>\n",
>>>>>>> b215db8a54b455ec5d1269e9988cacbb0ee351cc
       "</tr>\n",
       "<tr>\n",
       "  <th>Df Model:</th>              <td>     1</td>      <th>                     </th>     <td> </td>   \n",
       "</tr>\n",
       "<tr>\n",
       "  <th>Covariance Type:</th>      <td>nonrobust</td>    <th>                     </th>     <td> </td>   \n",
       "</tr>\n",
       "</table>\n",
       "<table class=\"simpletable\">\n",
       "<tr>\n",
       "        <td></td>           <th>coef</th>     <th>std err</th>      <th>t</th>      <th>P>|t|</th>  <th>[0.025</th>    <th>0.975]</th>  \n",
       "</tr>\n",
       "<tr>\n",
<<<<<<< HEAD
       "  <th>const</th>         <td>   69.8779</td> <td>    0.341</td> <td>  204.880</td> <td> 0.000</td> <td>   69.208</td> <td>   70.548</td>\n",
       "</tr>\n",
       "<tr>\n",
       "  <th>school_counts</th> <td>   -0.3057</td> <td>    0.032</td> <td>   -9.510</td> <td> 0.000</td> <td>   -0.369</td> <td>   -0.243</td>\n",
=======
       "  <th>school_counts</th> <td>    2.6125</td> <td>    0.218</td> <td>   11.999</td> <td> 0.000</td> <td>    2.185</td> <td>    3.040</td>\n",
>>>>>>> b215db8a54b455ec5d1269e9988cacbb0ee351cc
       "</tr>\n",
       "</table>\n",
       "<table class=\"simpletable\">\n",
       "<tr>\n",
<<<<<<< HEAD
       "  <th>Omnibus:</th>       <td>188.146</td> <th>  Durbin-Watson:     </th> <td>   1.919</td> \n",
       "</tr>\n",
       "<tr>\n",
       "  <th>Prob(Omnibus):</th> <td> 0.000</td>  <th>  Jarque-Bera (JB):  </th> <td> 732.449</td> \n",
       "</tr>\n",
       "<tr>\n",
       "  <th>Skew:</th>          <td>-1.339</td>  <th>  Prob(JB):          </th> <td>8.93e-160</td>\n",
       "</tr>\n",
       "<tr>\n",
       "  <th>Kurtosis:</th>      <td> 7.558</td>  <th>  Cond. No.          </th> <td>    11.9</td> \n",
=======
       "  <th>Omnibus:</th>       <td>639.892</td> <th>  Durbin-Watson:     </th> <td>   0.451</td> \n",
       "</tr>\n",
       "<tr>\n",
       "  <th>Prob(Omnibus):</th> <td> 0.000</td>  <th>  Jarque-Bera (JB):  </th> <td>29246.591</td>\n",
       "</tr>\n",
       "<tr>\n",
       "  <th>Skew:</th>          <td>-4.526</td>  <th>  Prob(JB):          </th> <td>    0.00</td> \n",
       "</tr>\n",
       "<tr>\n",
       "  <th>Kurtosis:</th>      <td>34.829</td>  <th>  Cond. No.          </th> <td>    1.00</td> \n",
>>>>>>> b215db8a54b455ec5d1269e9988cacbb0ee351cc
       "</tr>\n",
       "</table><br/><br/>Warnings:<br/>[1] Standard Errors assume that the covariance matrix of the errors is correctly specified."
      ],
      "text/plain": [
       "<class 'statsmodels.iolib.summary.Summary'>\n",
       "\"\"\"\n",
<<<<<<< HEAD
       "                            OLS Regression Results                            \n",
       "==============================================================================\n",
       "Dep. Variable:                    HOR   R-squared:                       0.126\n",
       "Model:                            OLS   Adj. R-squared:                  0.125\n",
       "Method:                 Least Squares   F-statistic:                     90.44\n",
       "Date:                Mon, 09 Sep 2019   Prob (F-statistic):           4.01e-20\n",
       "Time:                        19:50:43   Log-Likelihood:                -2171.9\n",
       "No. Observations:                 629   AIC:                             4348.\n",
       "Df Residuals:                     627   BIC:                             4357.\n",
       "Df Model:                           1                                         \n",
       "Covariance Type:            nonrobust                                         \n",
       "=================================================================================\n",
       "                    coef    std err          t      P>|t|      [0.025      0.975]\n",
       "---------------------------------------------------------------------------------\n",
       "const            69.8779      0.341    204.880      0.000      69.208      70.548\n",
       "school_counts    -0.3057      0.032     -9.510      0.000      -0.369      -0.243\n",
       "==============================================================================\n",
       "Omnibus:                      188.146   Durbin-Watson:                   1.919\n",
       "Prob(Omnibus):                  0.000   Jarque-Bera (JB):              732.449\n",
       "Skew:                          -1.339   Prob(JB):                    8.93e-160\n",
       "Kurtosis:                       7.558   Cond. No.                         11.9\n",
=======
       "                                 OLS Regression Results                                \n",
       "=======================================================================================\n",
       "Dep. Variable:                    HOR   R-squared (uncentered):                   0.184\n",
       "Model:                            OLS   Adj. R-squared (uncentered):              0.182\n",
       "Method:                 Least Squares   F-statistic:                              144.0\n",
       "Date:                Mon, 09 Sep 2019   Prob (F-statistic):                    4.63e-30\n",
       "Time:                        19:25:37   Log-Likelihood:                         -3557.3\n",
       "No. Observations:                 641   AIC:                                      7117.\n",
       "Df Residuals:                     640   BIC:                                      7121.\n",
       "Df Model:                           1                                                  \n",
       "Covariance Type:            nonrobust                                                  \n",
       "=================================================================================\n",
       "                    coef    std err          t      P>|t|      [0.025      0.975]\n",
       "---------------------------------------------------------------------------------\n",
       "school_counts     2.6125      0.218     11.999      0.000       2.185       3.040\n",
       "==============================================================================\n",
       "Omnibus:                      639.892   Durbin-Watson:                   0.451\n",
       "Prob(Omnibus):                  0.000   Jarque-Bera (JB):            29246.591\n",
       "Skew:                          -4.526   Prob(JB):                         0.00\n",
       "Kurtosis:                      34.829   Cond. No.                         1.00\n",
>>>>>>> b215db8a54b455ec5d1269e9988cacbb0ee351cc
       "==============================================================================\n",
       "\n",
       "Warnings:\n",
       "[1] Standard Errors assume that the covariance matrix of the errors is correctly specified.\n",
       "\"\"\""
      ]
     },
     "execution_count": 10,
     "metadata": {},
     "output_type": "execute_result"
    }
   ],
   "source": [
    "y = post_sec_analysis[\"HOR\"]\n",
    "x = post_sec_analysis[\"school_counts\"]\n",
    "x = sm.add_constant(x)\n",
    "model = sm.OLS(y,x).fit()\n",
    "predictions = model.predict(x)\n",
    "model.summary()"
   ]
  },
  {
   "cell_type": "code",
<<<<<<< HEAD
   "execution_count": 13,
=======
   "execution_count": 11,
>>>>>>> b215db8a54b455ec5d1269e9988cacbb0ee351cc
   "metadata": {},
   "outputs": [
    {
     "ename": "ValueError",
     "evalue": "all the input array dimensions except for the concatenation axis must match exactly",
     "output_type": "error",
     "traceback": [
      "\u001b[1;31m---------------------------------------------------------------------------\u001b[0m",
      "\u001b[1;31mValueError\u001b[0m                                Traceback (most recent call last)",
      "\u001b[1;32m<ipython-input-13-945986f70c64>\u001b[0m in \u001b[0;36m<module>\u001b[1;34m\u001b[0m\n\u001b[0;32m      1\u001b[0m \u001b[1;31m# Set line\u001b[0m\u001b[1;33m\u001b[0m\u001b[1;33m\u001b[0m\u001b[1;33m\u001b[0m\u001b[0m\n\u001b[1;32m----> 2\u001b[1;33m \u001b[1;33m(\u001b[0m\u001b[0mslope\u001b[0m\u001b[1;33m,\u001b[0m \u001b[0mintercept\u001b[0m\u001b[1;33m,\u001b[0m \u001b[0m_\u001b[0m\u001b[1;33m,\u001b[0m \u001b[0m_\u001b[0m\u001b[1;33m,\u001b[0m \u001b[0m_\u001b[0m\u001b[1;33m)\u001b[0m \u001b[1;33m=\u001b[0m \u001b[0mlinregress\u001b[0m\u001b[1;33m(\u001b[0m\u001b[0mx\u001b[0m\u001b[1;33m,\u001b[0m \u001b[0my\u001b[0m\u001b[1;33m)\u001b[0m\u001b[1;33m\u001b[0m\u001b[1;33m\u001b[0m\u001b[0m\n\u001b[0m\u001b[0;32m      3\u001b[0m \u001b[0mfit\u001b[0m \u001b[1;33m=\u001b[0m \u001b[0mx\u001b[0m\u001b[1;33m\u001b[0m\u001b[1;33m\u001b[0m\u001b[0m\n",
      "\u001b[1;32m~\\Anaconda3\\envs\\PythonData\\lib\\site-packages\\scipy\\stats\\_stats_mstats_common.py\u001b[0m in \u001b[0;36mlinregress\u001b[1;34m(x, y)\u001b[0m\n\u001b[0;32m    100\u001b[0m \u001b[1;33m\u001b[0m\u001b[0m\n\u001b[0;32m    101\u001b[0m     \u001b[1;31m# average sum of squares:\u001b[0m\u001b[1;33m\u001b[0m\u001b[1;33m\u001b[0m\u001b[1;33m\u001b[0m\u001b[0m\n\u001b[1;32m--> 102\u001b[1;33m     \u001b[0mssxm\u001b[0m\u001b[1;33m,\u001b[0m \u001b[0mssxym\u001b[0m\u001b[1;33m,\u001b[0m \u001b[0mssyxm\u001b[0m\u001b[1;33m,\u001b[0m \u001b[0mssym\u001b[0m \u001b[1;33m=\u001b[0m \u001b[0mnp\u001b[0m\u001b[1;33m.\u001b[0m\u001b[0mcov\u001b[0m\u001b[1;33m(\u001b[0m\u001b[0mx\u001b[0m\u001b[1;33m,\u001b[0m \u001b[0my\u001b[0m\u001b[1;33m,\u001b[0m \u001b[0mbias\u001b[0m\u001b[1;33m=\u001b[0m\u001b[1;36m1\u001b[0m\u001b[1;33m)\u001b[0m\u001b[1;33m.\u001b[0m\u001b[0mflat\u001b[0m\u001b[1;33m\u001b[0m\u001b[1;33m\u001b[0m\u001b[0m\n\u001b[0m\u001b[0;32m    103\u001b[0m     \u001b[0mr_num\u001b[0m \u001b[1;33m=\u001b[0m \u001b[0mssxym\u001b[0m\u001b[1;33m\u001b[0m\u001b[1;33m\u001b[0m\u001b[0m\n\u001b[0;32m    104\u001b[0m     \u001b[0mr_den\u001b[0m \u001b[1;33m=\u001b[0m \u001b[0mnp\u001b[0m\u001b[1;33m.\u001b[0m\u001b[0msqrt\u001b[0m\u001b[1;33m(\u001b[0m\u001b[0mssxm\u001b[0m \u001b[1;33m*\u001b[0m \u001b[0mssym\u001b[0m\u001b[1;33m)\u001b[0m\u001b[1;33m\u001b[0m\u001b[1;33m\u001b[0m\u001b[0m\n",
      "\u001b[1;32m~\\Anaconda3\\envs\\PythonData\\lib\\site-packages\\numpy\\lib\\function_base.py\u001b[0m in \u001b[0;36mcov\u001b[1;34m(m, y, rowvar, bias, ddof, fweights, aweights)\u001b[0m\n\u001b[0;32m   2384\u001b[0m         \u001b[1;32mif\u001b[0m \u001b[1;32mnot\u001b[0m \u001b[0mrowvar\u001b[0m \u001b[1;32mand\u001b[0m \u001b[0my\u001b[0m\u001b[1;33m.\u001b[0m\u001b[0mshape\u001b[0m\u001b[1;33m[\u001b[0m\u001b[1;36m0\u001b[0m\u001b[1;33m]\u001b[0m \u001b[1;33m!=\u001b[0m \u001b[1;36m1\u001b[0m\u001b[1;33m:\u001b[0m\u001b[1;33m\u001b[0m\u001b[1;33m\u001b[0m\u001b[0m\n\u001b[0;32m   2385\u001b[0m             \u001b[0my\u001b[0m \u001b[1;33m=\u001b[0m \u001b[0my\u001b[0m\u001b[1;33m.\u001b[0m\u001b[0mT\u001b[0m\u001b[1;33m\u001b[0m\u001b[1;33m\u001b[0m\u001b[0m\n\u001b[1;32m-> 2386\u001b[1;33m         \u001b[0mX\u001b[0m \u001b[1;33m=\u001b[0m \u001b[0mnp\u001b[0m\u001b[1;33m.\u001b[0m\u001b[0mconcatenate\u001b[0m\u001b[1;33m(\u001b[0m\u001b[1;33m(\u001b[0m\u001b[0mX\u001b[0m\u001b[1;33m,\u001b[0m \u001b[0my\u001b[0m\u001b[1;33m)\u001b[0m\u001b[1;33m,\u001b[0m \u001b[0maxis\u001b[0m\u001b[1;33m=\u001b[0m\u001b[1;36m0\u001b[0m\u001b[1;33m)\u001b[0m\u001b[1;33m\u001b[0m\u001b[1;33m\u001b[0m\u001b[0m\n\u001b[0m\u001b[0;32m   2387\u001b[0m \u001b[1;33m\u001b[0m\u001b[0m\n\u001b[0;32m   2388\u001b[0m     \u001b[1;32mif\u001b[0m \u001b[0mddof\u001b[0m \u001b[1;32mis\u001b[0m \u001b[1;32mNone\u001b[0m\u001b[1;33m:\u001b[0m\u001b[1;33m\u001b[0m\u001b[1;33m\u001b[0m\u001b[0m\n",
      "\u001b[1;31mValueError\u001b[0m: all the input array dimensions except for the concatenation axis must match exactly"
     ]
    }
   ],
   "source": [
    "# Set line\n",
    "(slope, intercept, _, _, _) = linregress(x, y)\n",
    "fit = x"
   ]
  },
  {
   "cell_type": "code",
<<<<<<< HEAD
   "execution_count": 14,
=======
   "execution_count": 12,
>>>>>>> b215db8a54b455ec5d1269e9988cacbb0ee351cc
   "metadata": {},
   "outputs": [
    {
     "ename": "NameError",
     "evalue": "name 'fit' is not defined",
     "output_type": "error",
     "traceback": [
      "\u001b[1;31m---------------------------------------------------------------------------\u001b[0m",
      "\u001b[1;31mNameError\u001b[0m                                 Traceback (most recent call last)",
      "\u001b[1;32m<ipython-input-14-e884d5310fcd>\u001b[0m in \u001b[0;36m<module>\u001b[1;34m\u001b[0m\n\u001b[0;32m      4\u001b[0m \u001b[0mplt\u001b[0m\u001b[1;33m.\u001b[0m\u001b[0mxlabel\u001b[0m\u001b[1;33m(\u001b[0m\u001b[1;34m\"Total Post-Secondary Schools / County\"\u001b[0m\u001b[1;33m)\u001b[0m\u001b[1;33m\u001b[0m\u001b[1;33m\u001b[0m\u001b[0m\n\u001b[0;32m      5\u001b[0m \u001b[0mplt\u001b[0m\u001b[1;33m.\u001b[0m\u001b[0mgrid\u001b[0m\u001b[1;33m(\u001b[0m\u001b[1;32mTrue\u001b[0m\u001b[1;33m)\u001b[0m\u001b[1;33m\u001b[0m\u001b[1;33m\u001b[0m\u001b[0m\n\u001b[1;32m----> 6\u001b[1;33m \u001b[0mplt\u001b[0m\u001b[1;33m.\u001b[0m\u001b[0mplot\u001b[0m\u001b[1;33m(\u001b[0m\u001b[0mx\u001b[0m\u001b[1;33m,\u001b[0m \u001b[0mfit\u001b[0m\u001b[1;33m,\u001b[0m \u001b[1;34m'b--'\u001b[0m\u001b[1;33m)\u001b[0m\u001b[1;33m\u001b[0m\u001b[1;33m\u001b[0m\u001b[0m\n\u001b[0m\u001b[0;32m      7\u001b[0m \u001b[0mplt\u001b[0m\u001b[1;33m.\u001b[0m\u001b[0msavefig\u001b[0m\u001b[1;33m(\u001b[0m\u001b[1;34m'Pictures/Post_sec_regression.png'\u001b[0m\u001b[1;33m)\u001b[0m\u001b[1;33m\u001b[0m\u001b[1;33m\u001b[0m\u001b[0m\n",
      "\u001b[1;31mNameError\u001b[0m: name 'fit' is not defined"
     ]
    },
    {
     "data": {
<<<<<<< HEAD
      "image/png": "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\n",
=======
      "image/png": "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\n",
>>>>>>> b215db8a54b455ec5d1269e9988cacbb0ee351cc
      "text/plain": [
       "<Figure size 432x288 with 1 Axes>"
      ]
     },
     "metadata": {
      "needs_background": "light"
     },
     "output_type": "display_data"
    }
   ],
   "source": [
    "plt.scatter(post_sec_analysis[\"school_counts\"], post_sec_analysis[\"HOR\"], marker=\"o\", edgecolor='black')\n",
    "plt.title(\"Total Post-Secondary Schools (17-18) vs HOR (2017) by County\")\n",
    "plt.ylabel(\"Homeownership Rate / County\")\n",
    "plt.xlabel(\"Total Post-Secondary Schools / County\")\n",
    "plt.grid(True)\n",
    "plt.plot(x, fit, 'b--')\n",
    "plt.savefig('Pictures/Post_sec_regression.png')"
   ]
  },
  {
   "cell_type": "code",
   "execution_count": null,
   "metadata": {},
   "outputs": [],
   "source": []
  }
 ],
 "metadata": {
  "kernelspec": {
   "display_name": "Python 3",
   "language": "python",
   "name": "python3"
  },
  "language_info": {
   "codemirror_mode": {
    "name": "ipython",
    "version": 3
   },
   "file_extension": ".py",
   "mimetype": "text/x-python",
   "name": "python",
   "nbconvert_exporter": "python",
   "pygments_lexer": "ipython3",
   "version": "3.6.8"
  }
 },
 "nbformat": 4,
 "nbformat_minor": 2
}
