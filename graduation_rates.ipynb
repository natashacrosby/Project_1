{
 "cells": [
  {
   "cell_type": "code",
   "execution_count": 51,
   "metadata": {},
   "outputs": [],
   "source": [
    "import matplotlib.pyplot as plt\n",
    "import pandas as pd\n",
    "import numpy as np\n",
    "import requests\n",
    "import time\n",
    "from pprint import pprint\n",
    "import random"
   ]
  },
  {
   "cell_type": "code",
   "execution_count": 52,
   "metadata": {},
   "outputs": [
    {
     "data": {
      "text/html": [
       "<div>\n",
       "<style scoped>\n",
       "    .dataframe tbody tr th:only-of-type {\n",
       "        vertical-align: middle;\n",
       "    }\n",
       "\n",
       "    .dataframe tbody tr th {\n",
       "        vertical-align: top;\n",
       "    }\n",
       "\n",
       "    .dataframe thead th {\n",
       "        text-align: right;\n",
       "    }\n",
       "</style>\n",
       "<table border=\"1\" class=\"dataframe\">\n",
       "  <thead>\n",
       "    <tr style=\"text-align: right;\">\n",
       "      <th></th>\n",
       "      <th>state</th>\n",
       "      <th>county</th>\n",
       "      <th>graduation_rate</th>\n",
       "    </tr>\n",
       "  </thead>\n",
       "  <tbody>\n",
       "    <tr>\n",
       "      <th>0</th>\n",
       "      <td>ALABAMA</td>\n",
       "      <td>Albertville City</td>\n",
       "      <td>80</td>\n",
       "    </tr>\n",
       "    <tr>\n",
       "      <th>1</th>\n",
       "      <td>ALABAMA</td>\n",
       "      <td>Marshall County</td>\n",
       "      <td>75</td>\n",
       "    </tr>\n",
       "    <tr>\n",
       "      <th>2</th>\n",
       "      <td>ALABAMA</td>\n",
       "      <td>Hoover City</td>\n",
       "      <td>89</td>\n",
       "    </tr>\n",
       "    <tr>\n",
       "      <th>3</th>\n",
       "      <td>ALABAMA</td>\n",
       "      <td>Madison City</td>\n",
       "      <td>91</td>\n",
       "    </tr>\n",
       "    <tr>\n",
       "      <th>4</th>\n",
       "      <td>ALABAMA</td>\n",
       "      <td>Leeds City</td>\n",
       "      <td>55-59</td>\n",
       "    </tr>\n",
       "  </tbody>\n",
       "</table>\n",
       "</div>"
      ],
      "text/plain": [
       "     state            county graduation_rate\n",
       "0  ALABAMA  Albertville City              80\n",
       "1  ALABAMA   Marshall County              75\n",
       "2  ALABAMA       Hoover City              89\n",
       "3  ALABAMA      Madison City              91\n",
       "4  ALABAMA        Leeds City           55-59"
      ]
     },
     "execution_count": 52,
     "metadata": {},
     "output_type": "execute_result"
    }
   ],
   "source": [
    "grad_csv = pd.read_csv(\"adjusted_cohort_grdtn_rates_2010_2011.csv\")\n",
    "grad_df = pd.DataFrame(grad_csv)\n",
    "grad_df = grad_df[[\"stnam\", \"leanm10\", \"ALL_RATE_1011\"]]\n",
    "grad_df= grad_df.rename(columns = {\"stnam\":\"state\", \"leanm10\": \"county\", \"ALL_RATE_1011\": \"graduation_rate\"})\n",
    "grad_df.head()"
   ]
  },
  {
   "cell_type": "code",
   "execution_count": 53,
   "metadata": {},
   "outputs": [
    {
     "data": {
      "text/html": [
       "<div>\n",
       "<style scoped>\n",
       "    .dataframe tbody tr th:only-of-type {\n",
       "        vertical-align: middle;\n",
       "    }\n",
       "\n",
       "    .dataframe tbody tr th {\n",
       "        vertical-align: top;\n",
       "    }\n",
       "\n",
       "    .dataframe thead th {\n",
       "        text-align: right;\n",
       "    }\n",
       "</style>\n",
       "<table border=\"1\" class=\"dataframe\">\n",
       "  <thead>\n",
       "    <tr style=\"text-align: right;\">\n",
       "      <th></th>\n",
       "      <th>state</th>\n",
       "      <th>county</th>\n",
       "      <th>graduation_rate</th>\n",
       "    </tr>\n",
       "  </thead>\n",
       "  <tbody>\n",
       "    <tr>\n",
       "      <th>0</th>\n",
       "      <td>Alabama</td>\n",
       "      <td>Albertville City</td>\n",
       "      <td>80</td>\n",
       "    </tr>\n",
       "    <tr>\n",
       "      <th>1</th>\n",
       "      <td>Alabama</td>\n",
       "      <td>Marshall County</td>\n",
       "      <td>75</td>\n",
       "    </tr>\n",
       "    <tr>\n",
       "      <th>2</th>\n",
       "      <td>Alabama</td>\n",
       "      <td>Hoover City</td>\n",
       "      <td>89</td>\n",
       "    </tr>\n",
       "    <tr>\n",
       "      <th>3</th>\n",
       "      <td>Alabama</td>\n",
       "      <td>Madison City</td>\n",
       "      <td>91</td>\n",
       "    </tr>\n",
       "    <tr>\n",
       "      <th>4</th>\n",
       "      <td>Alabama</td>\n",
       "      <td>Leeds City</td>\n",
       "      <td>55-59</td>\n",
       "    </tr>\n",
       "  </tbody>\n",
       "</table>\n",
       "</div>"
      ],
      "text/plain": [
       "     state            county graduation_rate\n",
       "0  Alabama  Albertville City              80\n",
       "1  Alabama   Marshall County              75\n",
       "2  Alabama       Hoover City              89\n",
       "3  Alabama      Madison City              91\n",
       "4  Alabama        Leeds City           55-59"
      ]
     },
     "execution_count": 53,
     "metadata": {},
     "output_type": "execute_result"
    }
   ],
   "source": [
    "grad_df[\"state\"]=grad_df.state.str.title()\n",
    "grad_df[\"county\"]=grad_df.county.str.title()\n",
    "grad_df.head()"
   ]
  },
  {
   "cell_type": "code",
   "execution_count": 54,
   "metadata": {},
   "outputs": [
    {
     "name": "stdout",
     "output_type": "stream",
     "text": [
      "      state                                county graduation_rate\n",
      "0        AL                      Albertville City              80\n",
      "1        AL                       Marshall County              75\n",
      "2        AL                           Hoover City              89\n",
      "3        AL                          Madison City              91\n",
      "4        AL                            Leeds City           55-59\n",
      "...     ...                                   ...             ...\n",
      "11281    WY  Sweetwater County School District #2           85-89\n",
      "11282    WY    Washakie County School District #2              PS\n",
      "11283    WY       Teton County School District #1           85-89\n",
      "11284    WY      Weston County School District #7            GE80\n",
      "11285    WY    Washakie County School District #1           75-79\n",
      "\n",
      "[11286 rows x 3 columns]\n"
     ]
    }
   ],
   "source": [
    "us_state_abbrev = {\n",
    "    'Alabama': 'AL',\n",
    "    'Alaska': 'AK',\n",
    "    'Arizona': 'AZ',\n",
    "    'Arkansas': 'AR',\n",
    "    'California': 'CA',\n",
    "    'Colorado': 'CO',\n",
    "    'Connecticut': 'CT',\n",
    "    'Delaware': 'DE',\n",
    "    'District of Columbia': 'DC',\n",
    "    'Florida': 'FL',\n",
    "    'Georgia': 'GA',\n",
    "    'Hawaii': 'HI',\n",
    "    'Idaho': 'ID',\n",
    "    'Illinois': 'IL',\n",
    "    'Indiana': 'IN',\n",
    "    'Iowa': 'IA',\n",
    "    'Kansas': 'KS',\n",
    "    'Kentucky': 'KY',\n",
    "    'Louisiana': 'LA',\n",
    "    'Maine': 'ME',\n",
    "    'Maryland': 'MD',\n",
    "    'Massachusetts': 'MA',\n",
    "    'Michigan': 'MI',\n",
    "    'Minnesota': 'MN',\n",
    "    'Mississippi': 'MS',\n",
    "    'Missouri': 'MO',\n",
    "    'Montana': 'MT',\n",
    "    'Nebraska': 'NE',\n",
    "    'Nevada': 'NV',\n",
    "    'New Hampshire': 'NH',\n",
    "    'New Jersey': 'NJ',\n",
    "    'New Mexico': 'NM',\n",
    "    'New York': 'NY',\n",
    "    'North Carolina': 'NC',\n",
    "    'North Dakota': 'ND',\n",
    "    'Northern Mariana Islands':'MP',\n",
    "    'Ohio': 'OH',\n",
    "    'Oklahoma': 'OK',\n",
    "    'Oregon': 'OR',\n",
    "    'Palau': 'PW',\n",
    "    'Pennsylvania': 'PA',\n",
    "    'Puerto Rico': 'PR',\n",
    "    'Rhode Island': 'RI',\n",
    "    'South Carolina': 'SC',\n",
    "    'South Dakota': 'SD',\n",
    "    'Tennessee': 'TN',\n",
    "    'Texas': 'TX',\n",
    "    'Utah': 'UT',\n",
    "    'Vermont': 'VT',\n",
    "    'Virgin Islands': 'VI',\n",
    "    'Virginia': 'VA',\n",
    "    'Washington': 'WA',\n",
    "    'West Virginia': 'WV',\n",
    "    'Wisconsin': 'WI',\n",
    "    'Wyoming': 'WY',\n",
    "}\n",
    "grad_df['state'] = grad_df['state'].map(us_state_abbrev)\n",
    "print(grad_df)"
   ]
  },
  {
   "cell_type": "code",
   "execution_count": 55,
   "metadata": {},
   "outputs": [
    {
     "name": "stdout",
     "output_type": "stream",
     "text": [
      "      state       county graduation_rate\n",
      "0        AL  Albertville              80\n",
      "1        AL     Marshall              75\n",
      "2        AL       Hoover              89\n",
      "3        AL      Madison              91\n",
      "4        AL        Leeds           55-59\n",
      "...     ...          ...             ...\n",
      "11281    WY   Sweetwater           85-89\n",
      "11282    WY     Washakie              PS\n",
      "11283    WY        Teton           85-89\n",
      "11284    WY       Weston            GE80\n",
      "11285    WY     Washakie           75-79\n",
      "\n",
      "[11286 rows x 3 columns]\n"
     ]
    }
   ],
   "source": [
    "#cleaning up the county names. removes the following words from that column\n",
    "grad_df=grad_df.replace(regex=['County'], value='')\n",
    "grad_df=grad_df.replace(regex=['Parish'], value='')\n",
    "grad_df=grad_df.replace(regex=['City'], value='')\n",
    "grad_df=grad_df.replace(regex=['Borough'], value='')\n",
    "grad_df=grad_df.replace(regex=['Municipality'], value='')\n",
    "grad_df=grad_df.replace(regex=['School'], value='')\n",
    "grad_df=grad_df.replace(regex=['Schools'], value='')\n",
    "grad_df=grad_df.replace(regex=['District'], value='')\n",
    "grad_df=grad_df.replace(regex=['Dist.'], value='')\n",
    "grad_df=grad_df.replace(regex=['Co  Dist'], value='')\n",
    "grad_df=grad_df.replace(regex=['Co.'], value='')\n",
    "grad_df=grad_df.replace(regex=['Dist'], value='')\n",
    "grad_df=grad_df.replace(regex=['Regional'], value='')\n",
    "grad_df=grad_df.replace(regex=['Local'], value='')\n",
    "grad_df=grad_df.replace(regex=['Academy'], value='')\n",
    "grad_df=grad_df.replace(regex=['Area'], value='')\n",
    "grad_df=grad_df.replace(regex=['Uhs'], value='')\n",
    "grad_df=grad_df.replace(regex=['Metropolitan'], value='')\n",
    "grad_df=grad_df.replace(regex=['Community'], value='')\n",
    "grad_df=grad_df.replace(regex=['Department'], value='')\n",
    "grad_df=grad_df.replace(regex=['Unified'], value='')\n",
    "grad_df=grad_df.replace(regex=['Chsd'], value='')\n",
    "grad_df=grad_df.replace(regex=['Cusd'], value='')\n",
    "grad_df=grad_df.replace(regex=['Public'], value='')\n",
    "grad_df=grad_df.replace(regex=['Union High'], value='')\n",
    "grad_df=grad_df.replace(regex=['Joint Unified'], value='')\n",
    "grad_df=grad_df.replace(regex=['Public'], value='')\n",
    "grad_df=grad_df.replace(regex=['(District)'], value='')\n",
    "grad_df=grad_df.replace(regex=['H S'], value='')\n",
    "grad_df=grad_df.replace(regex=['K- s'], value='')\n",
    "grad_df=grad_df.replace(regex=['R-Iv'], value='')\n",
    "grad_df=grad_df.replace(regex=['R-Iii'], value='')\n",
    "grad_df=grad_df.replace(regex=['R-Ii'], value='')\n",
    "grad_df=grad_df.replace(regex=['R-I'], value='')\n",
    "grad_df=grad_df.replace(regex=['R-Ix'], value='')\n",
    "grad_df=grad_df.replace(regex=['R-Xi'], value='')\n",
    "grad_df=grad_df.replace(regex=['R-Xii'], value='')\n",
    "grad_df=grad_df.replace(regex=['R-Xiii'], value='')\n",
    "grad_df=grad_df.replace(regex=['R-X'], value='')\n",
    "grad_df=grad_df.replace(regex=['R-Viii'], value='')\n",
    "grad_df=grad_df.replace(regex=['R-Vii'], value='')\n",
    "grad_df=grad_df.replace(regex=['R-Vi'], value='')\n",
    "grad_df=grad_df.replace(regex=['R-V'], value='')\n",
    "grad_df=grad_df.replace(regex=['Inc.'], value='')\n",
    "grad_df=grad_df.replace(regex=['Central'], value='')\n",
    "grad_df=grad_df.replace(regex=['Exempted Village'], value='')\n",
    "grad_df=grad_df.replace(regex=['Sd'], value='')\n",
    "grad_df=grad_df.replace(regex=['Union Free'], value='')\n",
    "grad_df=grad_df.replace(regex=['Charter'], value='')\n",
    "grad_df=grad_df.replace(regex=['Pblc Schs'], value='')\n",
    "grad_df=grad_df.replace(regex=['No.'], value='')\n",
    "grad_df=grad_df.replace(regex=['High School'], value='')\n",
    "grad_df=grad_df.replace(regex=['#'], value='')\n",
    "grad_df=grad_df.replace(regex=['  s'], value='')\n",
    "grad_df['county'] = grad_df['county'].str.replace('(', '')\n",
    "grad_df['county'] = grad_df['county'].str.replace(')', '')\n",
    "grad_df['county'] = grad_df['county'].str.replace('\\d+', '')\n",
    "grad_df['county'] = grad_df['county'].str.strip()\n",
    "grad_df['county'] = grad_df[\"county\"].map(str.strip)\n",
    "print(grad_df)"
   ]
  },
  {
   "cell_type": "code",
   "execution_count": 56,
   "metadata": {},
   "outputs": [],
   "source": [
    "#maine a lot were identified by only numbers. when stripped numbers need to drop rows all rsu\n",
    "grad_df = grad_df[(grad_df.county != 'Rsu') & (grad_df.county != 'Msad') & (grad_df.county != 'Rsu /Msad')] "
   ]
  },
  {
   "cell_type": "code",
   "execution_count": 57,
   "metadata": {},
   "outputs": [
    {
     "name": "stdout",
     "output_type": "stream",
     "text": [
      "      state       county graduation_rate\n",
      "0        AL  Albertville              80\n",
      "1        AL     Marshall              75\n",
      "2        AL       Hoover              89\n",
      "3        AL      Madison              91\n",
      "4        AL        Leeds              55\n",
      "...     ...          ...             ...\n",
      "11281    WY   Sweetwater              85\n",
      "11282    WY     Washakie              PS\n",
      "11283    WY        Teton              85\n",
      "11284    WY       Weston            GE80\n",
      "11285    WY     Washakie              75\n",
      "\n",
      "[11218 rows x 3 columns]\n"
     ]
    }
   ],
   "source": [
    "#if a range for graduation rate is given, taking the lower bound\n",
    "grad_df['graduation_rate'] = grad_df['graduation_rate'].str.split('-').str[0]\n",
    "print(grad_df)"
   ]
  },
  {
   "cell_type": "code",
   "execution_count": 58,
   "metadata": {},
   "outputs": [
    {
     "name": "stdout",
     "output_type": "stream",
     "text": [
      "      state       county graduation_rate\n",
      "0        AL  Albertville              80\n",
      "1        AL     Marshall              75\n",
      "2        AL       Hoover              89\n",
      "3        AL      Madison              91\n",
      "4        AL        Leeds              55\n",
      "...     ...          ...             ...\n",
      "11281    WY   Sweetwater              85\n",
      "11282    WY     Washakie             NaN\n",
      "11283    WY        Teton              85\n",
      "11284    WY       Weston              80\n",
      "11285    WY     Washakie              75\n",
      "\n",
      "[11218 rows x 3 columns]\n"
     ]
    }
   ],
   "source": [
    "grad_df['graduation_rate'] = grad_df['graduation_rate'].str.extract('(\\d+)', expand=False)\n",
    "print(grad_df)"
   ]
  },
  {
   "cell_type": "code",
   "execution_count": 59,
   "metadata": {},
   "outputs": [
    {
     "name": "stdout",
     "output_type": "stream",
     "text": [
      "      state       county graduation_rate\n",
      "0        AL  Albertville              80\n",
      "1        AL     Marshall              75\n",
      "2        AL       Hoover              89\n",
      "3        AL      Madison              91\n",
      "4        AL        Leeds              55\n",
      "...     ...          ...             ...\n",
      "11280    WY      Fremont              80\n",
      "11281    WY   Sweetwater              85\n",
      "11283    WY        Teton              85\n",
      "11284    WY       Weston              80\n",
      "11285    WY     Washakie              75\n",
      "\n",
      "[10979 rows x 3 columns]\n"
     ]
    }
   ],
   "source": [
    "grad_df = grad_df.dropna(how='any')\n",
    "print(grad_df)"
   ]
  },
  {
   "cell_type": "code",
   "execution_count": 60,
   "metadata": {},
   "outputs": [
    {
     "data": {
      "text/html": [
       "<div>\n",
       "<style scoped>\n",
       "    .dataframe tbody tr th:only-of-type {\n",
       "        vertical-align: middle;\n",
       "    }\n",
       "\n",
       "    .dataframe tbody tr th {\n",
       "        vertical-align: top;\n",
       "    }\n",
       "\n",
       "    .dataframe thead th {\n",
       "        text-align: right;\n",
       "    }\n",
       "</style>\n",
       "<table border=\"1\" class=\"dataframe\">\n",
       "  <thead>\n",
       "    <tr style=\"text-align: right;\">\n",
       "      <th></th>\n",
       "      <th>state</th>\n",
       "      <th>county</th>\n",
       "      <th>graduation_rate</th>\n",
       "    </tr>\n",
       "  </thead>\n",
       "  <tbody>\n",
       "    <tr>\n",
       "      <th>0</th>\n",
       "      <td>AL</td>\n",
       "      <td>Albertville, AL</td>\n",
       "      <td>80</td>\n",
       "    </tr>\n",
       "    <tr>\n",
       "      <th>1</th>\n",
       "      <td>AL</td>\n",
       "      <td>Marshall, AL</td>\n",
       "      <td>75</td>\n",
       "    </tr>\n",
       "    <tr>\n",
       "      <th>2</th>\n",
       "      <td>AL</td>\n",
       "      <td>Hoover, AL</td>\n",
       "      <td>89</td>\n",
       "    </tr>\n",
       "    <tr>\n",
       "      <th>3</th>\n",
       "      <td>AL</td>\n",
       "      <td>Madison, AL</td>\n",
       "      <td>91</td>\n",
       "    </tr>\n",
       "    <tr>\n",
       "      <th>4</th>\n",
       "      <td>AL</td>\n",
       "      <td>Leeds, AL</td>\n",
       "      <td>55</td>\n",
       "    </tr>\n",
       "  </tbody>\n",
       "</table>\n",
       "</div>"
      ],
      "text/plain": [
       "  state           county graduation_rate\n",
       "0    AL  Albertville, AL              80\n",
       "1    AL     Marshall, AL              75\n",
       "2    AL       Hoover, AL              89\n",
       "3    AL      Madison, AL              91\n",
       "4    AL        Leeds, AL              55"
      ]
     },
     "execution_count": 60,
     "metadata": {},
     "output_type": "execute_result"
    }
   ],
   "source": [
    "grad_df[\"county\"] = grad_df[\"county\"].map(str) + \", \"+ grad_df[\"state\"]\n",
    "grad_df.head()"
   ]
  },
  {
   "cell_type": "code",
   "execution_count": 61,
   "metadata": {},
   "outputs": [
    {
     "data": {
      "text/html": [
       "<div>\n",
       "<style scoped>\n",
       "    .dataframe tbody tr th:only-of-type {\n",
       "        vertical-align: middle;\n",
       "    }\n",
       "\n",
       "    .dataframe tbody tr th {\n",
       "        vertical-align: top;\n",
       "    }\n",
       "\n",
       "    .dataframe thead th {\n",
       "        text-align: right;\n",
       "    }\n",
       "</style>\n",
       "<table border=\"1\" class=\"dataframe\">\n",
       "  <thead>\n",
       "    <tr style=\"text-align: right;\">\n",
       "      <th></th>\n",
       "      <th>county</th>\n",
       "      <th>graduation_rate</th>\n",
       "    </tr>\n",
       "  </thead>\n",
       "  <tbody>\n",
       "    <tr>\n",
       "      <th>0</th>\n",
       "      <td>Albertville, AL</td>\n",
       "      <td>80</td>\n",
       "    </tr>\n",
       "    <tr>\n",
       "      <th>1</th>\n",
       "      <td>Marshall, AL</td>\n",
       "      <td>75</td>\n",
       "    </tr>\n",
       "    <tr>\n",
       "      <th>2</th>\n",
       "      <td>Hoover, AL</td>\n",
       "      <td>89</td>\n",
       "    </tr>\n",
       "    <tr>\n",
       "      <th>3</th>\n",
       "      <td>Madison, AL</td>\n",
       "      <td>91</td>\n",
       "    </tr>\n",
       "    <tr>\n",
       "      <th>4</th>\n",
       "      <td>Leeds, AL</td>\n",
       "      <td>55</td>\n",
       "    </tr>\n",
       "  </tbody>\n",
       "</table>\n",
       "</div>"
      ],
      "text/plain": [
       "            county graduation_rate\n",
       "0  Albertville, AL              80\n",
       "1     Marshall, AL              75\n",
       "2       Hoover, AL              89\n",
       "3      Madison, AL              91\n",
       "4        Leeds, AL              55"
      ]
     },
     "execution_count": 61,
     "metadata": {},
     "output_type": "execute_result"
    }
   ],
   "source": [
    "grad_df = grad_df[[\"county\",\"graduation_rate\"]]\n",
    "grad_df.head()"
   ]
  },
  {
   "cell_type": "code",
   "execution_count": 62,
   "metadata": {},
   "outputs": [],
   "source": [
    "county_raw = pd.read_excel(\"county_name.xls\", sheet_name = \"EDU01A\", usecols = \"A\")"
   ]
  },
  {
   "cell_type": "code",
   "execution_count": 63,
   "metadata": {},
   "outputs": [],
   "source": [
    "county = county_raw[~county_raw.Area_name.str.contains(\",\") == False]"
   ]
  },
  {
   "cell_type": "code",
   "execution_count": 64,
   "metadata": {},
   "outputs": [],
   "source": [
    "county = county.reset_index(drop = True)\n",
    "county = county.rename(columns={\"Area_name\": \"county\"})"
   ]
  },
  {
   "cell_type": "code",
   "execution_count": 65,
   "metadata": {},
   "outputs": [],
   "source": [
    "pop_grad_rate = county.merge(grad_df, on=\"county\")"
   ]
  },
  {
   "cell_type": "code",
   "execution_count": 66,
   "metadata": {},
   "outputs": [
    {
     "data": {
      "text/html": [
       "<div>\n",
       "<style scoped>\n",
       "    .dataframe tbody tr th:only-of-type {\n",
       "        vertical-align: middle;\n",
       "    }\n",
       "\n",
       "    .dataframe tbody tr th {\n",
       "        vertical-align: top;\n",
       "    }\n",
       "\n",
       "    .dataframe thead th {\n",
       "        text-align: right;\n",
       "    }\n",
       "</style>\n",
       "<table border=\"1\" class=\"dataframe\">\n",
       "  <thead>\n",
       "    <tr style=\"text-align: right;\">\n",
       "      <th></th>\n",
       "      <th>county</th>\n",
       "      <th>graduation_rate</th>\n",
       "    </tr>\n",
       "  </thead>\n",
       "  <tbody>\n",
       "    <tr>\n",
       "      <th>0</th>\n",
       "      <td>Autauga, AL</td>\n",
       "      <td>80</td>\n",
       "    </tr>\n",
       "    <tr>\n",
       "      <th>1</th>\n",
       "      <td>Baldwin, AL</td>\n",
       "      <td>74</td>\n",
       "    </tr>\n",
       "    <tr>\n",
       "      <th>2</th>\n",
       "      <td>Barbour, AL</td>\n",
       "      <td>50</td>\n",
       "    </tr>\n",
       "    <tr>\n",
       "      <th>3</th>\n",
       "      <td>Bibb, AL</td>\n",
       "      <td>73</td>\n",
       "    </tr>\n",
       "    <tr>\n",
       "      <th>4</th>\n",
       "      <td>Blount, AL</td>\n",
       "      <td>80</td>\n",
       "    </tr>\n",
       "  </tbody>\n",
       "</table>\n",
       "</div>"
      ],
      "text/plain": [
       "        county graduation_rate\n",
       "0  Autauga, AL              80\n",
       "1  Baldwin, AL              74\n",
       "2  Barbour, AL              50\n",
       "3     Bibb, AL              73\n",
       "4   Blount, AL              80"
      ]
     },
     "execution_count": 66,
     "metadata": {},
     "output_type": "execute_result"
    }
   ],
   "source": [
    "pop_grad_rate.head()"
   ]
  },
  {
   "cell_type": "code",
   "execution_count": 67,
   "metadata": {},
   "outputs": [
    {
     "data": {
      "text/plain": [
       "1464"
      ]
     },
     "execution_count": 67,
     "metadata": {},
     "output_type": "execute_result"
    }
   ],
   "source": [
    "len(pop_grad_rate)"
   ]
  },
  {
   "cell_type": "code",
   "execution_count": 69,
   "metadata": {},
   "outputs": [],
   "source": [
    "pop_grad_rate.to_csv(\"test_graduation_cleaning.csv\")"
   ]
  },
  {
   "cell_type": "markdown",
   "metadata": {},
   "source": [
    "## Testing to see if can analyze now with county data so copied it over here"
   ]
  },
  {
   "cell_type": "code",
   "execution_count": 321,
   "metadata": {},
   "outputs": [],
   "source": []
  },
  {
   "cell_type": "code",
   "execution_count": 322,
   "metadata": {},
   "outputs": [],
   "source": []
  },
  {
   "cell_type": "code",
   "execution_count": 323,
   "metadata": {},
   "outputs": [],
   "source": []
  },
  {
   "cell_type": "code",
   "execution_count": 324,
   "metadata": {
    "scrolled": true
   },
   "outputs": [
    {
     "data": {
      "text/html": [
       "<div>\n",
       "<style scoped>\n",
       "    .dataframe tbody tr th:only-of-type {\n",
       "        vertical-align: middle;\n",
       "    }\n",
       "\n",
       "    .dataframe tbody tr th {\n",
       "        vertical-align: top;\n",
       "    }\n",
       "\n",
       "    .dataframe thead th {\n",
       "        text-align: right;\n",
       "    }\n",
       "</style>\n",
       "<table border=\"1\" class=\"dataframe\">\n",
       "  <thead>\n",
       "    <tr style=\"text-align: right;\">\n",
       "      <th></th>\n",
       "      <th>county</th>\n",
       "    </tr>\n",
       "  </thead>\n",
       "  <tbody>\n",
       "    <tr>\n",
       "      <th>0</th>\n",
       "      <td>Jasper, TX</td>\n",
       "    </tr>\n",
       "    <tr>\n",
       "      <th>1</th>\n",
       "      <td>Marion, KY</td>\n",
       "    </tr>\n",
       "    <tr>\n",
       "      <th>2</th>\n",
       "      <td>Lamar, GA</td>\n",
       "    </tr>\n",
       "    <tr>\n",
       "      <th>3</th>\n",
       "      <td>Kenton, KY</td>\n",
       "    </tr>\n",
       "    <tr>\n",
       "      <th>4</th>\n",
       "      <td>Adams, IA</td>\n",
       "    </tr>\n",
       "  </tbody>\n",
       "</table>\n",
       "</div>"
      ],
      "text/plain": [
       "       county\n",
       "0  Jasper, TX\n",
       "1  Marion, KY\n",
       "2   Lamar, GA\n",
       "3  Kenton, KY\n",
       "4   Adams, IA"
      ]
     },
     "execution_count": 324,
     "metadata": {},
     "output_type": "execute_result"
    }
   ],
   "source": [
    "random_counties = county.sample(n=1400)\n",
    "random_counties = random_counties.reset_index(drop=True)\n",
    "random_counties.head()"
   ]
  },
  {
   "cell_type": "code",
   "execution_count": 325,
   "metadata": {},
   "outputs": [
    {
     "data": {
      "text/html": [
       "<div>\n",
       "<style scoped>\n",
       "    .dataframe tbody tr th:only-of-type {\n",
       "        vertical-align: middle;\n",
       "    }\n",
       "\n",
       "    .dataframe tbody tr th {\n",
       "        vertical-align: top;\n",
       "    }\n",
       "\n",
       "    .dataframe thead th {\n",
       "        text-align: right;\n",
       "    }\n",
       "</style>\n",
       "<table border=\"1\" class=\"dataframe\">\n",
       "  <thead>\n",
       "    <tr style=\"text-align: right;\">\n",
       "      <th></th>\n",
       "      <th>county</th>\n",
       "    </tr>\n",
       "  </thead>\n",
       "  <tbody>\n",
       "    <tr>\n",
       "      <th>0</th>\n",
       "      <td>Jasper, TX</td>\n",
       "    </tr>\n",
       "    <tr>\n",
       "      <th>1</th>\n",
       "      <td>Marion, KY</td>\n",
       "    </tr>\n",
       "    <tr>\n",
       "      <th>2</th>\n",
       "      <td>Lamar, GA</td>\n",
       "    </tr>\n",
       "    <tr>\n",
       "      <th>3</th>\n",
       "      <td>Kenton, KY</td>\n",
       "    </tr>\n",
       "    <tr>\n",
       "      <th>4</th>\n",
       "      <td>Adams, IA</td>\n",
       "    </tr>\n",
       "  </tbody>\n",
       "</table>\n",
       "</div>"
      ],
      "text/plain": [
       "       county\n",
       "0  Jasper, TX\n",
       "1  Marion, KY\n",
       "2   Lamar, GA\n",
       "3  Kenton, KY\n",
       "4   Adams, IA"
      ]
     },
     "execution_count": 325,
     "metadata": {},
     "output_type": "execute_result"
    }
   ],
   "source": [
    "random_counties = random_counties.county.astype(str) #may need to do this in the counties doc could get same error for all when go to analyze\n",
    "grad_rate_analysis = pd.DataFrame()\n",
    "grad_rate_analysis[\"county\"]=random_counties\n",
    "grad_rate_analysis.head()"
   ]
  },
  {
   "cell_type": "code",
   "execution_count": 326,
   "metadata": {},
   "outputs": [
    {
     "data": {
      "text/html": [
       "<div>\n",
       "<style scoped>\n",
       "    .dataframe tbody tr th:only-of-type {\n",
       "        vertical-align: middle;\n",
       "    }\n",
       "\n",
       "    .dataframe tbody tr th {\n",
       "        vertical-align: top;\n",
       "    }\n",
       "\n",
       "    .dataframe thead th {\n",
       "        text-align: right;\n",
       "    }\n",
       "</style>\n",
       "<table border=\"1\" class=\"dataframe\">\n",
       "  <thead>\n",
       "    <tr style=\"text-align: right;\">\n",
       "      <th></th>\n",
       "      <th>county</th>\n",
       "      <th>state</th>\n",
       "      <th>graduation_rate</th>\n",
       "    </tr>\n",
       "  </thead>\n",
       "  <tbody>\n",
       "    <tr>\n",
       "      <th>0</th>\n",
       "      <td>Lamar, GA</td>\n",
       "      <td>GA</td>\n",
       "      <td>67</td>\n",
       "    </tr>\n",
       "    <tr>\n",
       "      <th>1</th>\n",
       "      <td>San Diego, CA</td>\n",
       "      <td>CA</td>\n",
       "      <td>85</td>\n",
       "    </tr>\n",
       "    <tr>\n",
       "      <th>2</th>\n",
       "      <td>Wayne, NY</td>\n",
       "      <td>NY</td>\n",
       "      <td>93</td>\n",
       "    </tr>\n",
       "    <tr>\n",
       "      <th>3</th>\n",
       "      <td>Adams, NE</td>\n",
       "      <td>NE</td>\n",
       "      <td>95</td>\n",
       "    </tr>\n",
       "    <tr>\n",
       "      <th>4</th>\n",
       "      <td>Cavalier, ND</td>\n",
       "      <td>ND</td>\n",
       "      <td>90</td>\n",
       "    </tr>\n",
       "  </tbody>\n",
       "</table>\n",
       "</div>"
      ],
      "text/plain": [
       "          county state graduation_rate\n",
       "0      Lamar, GA    GA              67\n",
       "1  San Diego, CA    CA              85\n",
       "2      Wayne, NY    NY              93\n",
       "3      Adams, NE    NE              95\n",
       "4   Cavalier, ND    ND              90"
      ]
     },
     "execution_count": 326,
     "metadata": {},
     "output_type": "execute_result"
    }
   ],
   "source": [
    "grad_rate_analysis = grad_rate_analysis.merge(grad_df, on=\"county\")\n",
    "grad_rate_analysis.head()"
   ]
  },
  {
   "cell_type": "code",
   "execution_count": 327,
   "metadata": {},
   "outputs": [
    {
     "name": "stdout",
     "output_type": "stream",
     "text": [
      "663\n"
     ]
    }
   ],
   "source": [
    "print(len(grad_rate_analysis))"
   ]
  },
  {
   "cell_type": "code",
   "execution_count": 329,
   "metadata": {},
   "outputs": [
    {
     "data": {
      "text/html": [
       "<div>\n",
       "<style scoped>\n",
       "    .dataframe tbody tr th:only-of-type {\n",
       "        vertical-align: middle;\n",
       "    }\n",
       "\n",
       "    .dataframe tbody tr th {\n",
       "        vertical-align: top;\n",
       "    }\n",
       "\n",
       "    .dataframe thead th {\n",
       "        text-align: right;\n",
       "    }\n",
       "</style>\n",
       "<table border=\"1\" class=\"dataframe\">\n",
       "  <thead>\n",
       "    <tr style=\"text-align: right;\">\n",
       "      <th></th>\n",
       "      <th>county</th>\n",
       "      <th>graduation_rate</th>\n",
       "    </tr>\n",
       "  </thead>\n",
       "  <tbody>\n",
       "    <tr>\n",
       "      <th>0</th>\n",
       "      <td>Lamar, GA</td>\n",
       "      <td>67</td>\n",
       "    </tr>\n",
       "    <tr>\n",
       "      <th>1</th>\n",
       "      <td>San Diego, CA</td>\n",
       "      <td>85</td>\n",
       "    </tr>\n",
       "    <tr>\n",
       "      <th>2</th>\n",
       "      <td>Wayne, NY</td>\n",
       "      <td>93</td>\n",
       "    </tr>\n",
       "    <tr>\n",
       "      <th>3</th>\n",
       "      <td>Adams, NE</td>\n",
       "      <td>95</td>\n",
       "    </tr>\n",
       "    <tr>\n",
       "      <th>4</th>\n",
       "      <td>Cavalier, ND</td>\n",
       "      <td>90</td>\n",
       "    </tr>\n",
       "  </tbody>\n",
       "</table>\n",
       "</div>"
      ],
      "text/plain": [
       "          county graduation_rate\n",
       "0      Lamar, GA              67\n",
       "1  San Diego, CA              85\n",
       "2      Wayne, NY              93\n",
       "3      Adams, NE              95\n",
       "4   Cavalier, ND              90"
      ]
     },
     "execution_count": 329,
     "metadata": {},
     "output_type": "execute_result"
    }
   ],
   "source": [
    "grad_rate_analysis = grad_rate_analysis[[\"county\", \"graduation_rate\"]]\n",
    "grad_rate_analysis.head()"
   ]
  },
  {
   "cell_type": "code",
   "execution_count": 330,
   "metadata": {},
   "outputs": [
    {
     "name": "stdout",
     "output_type": "stream",
     "text": [
      "663\n"
     ]
    }
   ],
   "source": [
    "print(len(grad_rate_analysis))"
   ]
  },
  {
   "cell_type": "code",
   "execution_count": null,
   "metadata": {},
   "outputs": [],
   "source": []
  }
 ],
 "metadata": {
  "kernelspec": {
   "display_name": "Python 3",
   "language": "python",
   "name": "python3"
  },
  "language_info": {
   "codemirror_mode": {
    "name": "ipython",
    "version": 3
   },
   "file_extension": ".py",
   "mimetype": "text/x-python",
   "name": "python",
   "nbconvert_exporter": "python",
   "pygments_lexer": "ipython3",
   "version": "3.7.3"
  }
 },
 "nbformat": 4,
 "nbformat_minor": 2
}
