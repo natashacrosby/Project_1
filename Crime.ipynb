{
 "cells": [
  {
   "cell_type": "code",
   "execution_count": 88,
   "metadata": {},
   "outputs": [],
   "source": [
    "import matplotlib.pyplot as plt\n",
    "import pandas as pd\n",
    "import numpy as np"
   ]
  },
  {
   "cell_type": "code",
   "execution_count": 89,
   "metadata": {},
   "outputs": [
    {
     "data": {
      "text/html": [
       "<div>\n",
       "<style scoped>\n",
       "    .dataframe tbody tr th:only-of-type {\n",
       "        vertical-align: middle;\n",
       "    }\n",
       "\n",
       "    .dataframe tbody tr th {\n",
       "        vertical-align: top;\n",
       "    }\n",
       "\n",
       "    .dataframe thead th {\n",
       "        text-align: right;\n",
       "    }\n",
       "</style>\n",
       "<table border=\"1\" class=\"dataframe\">\n",
       "  <thead>\n",
       "    <tr style=\"text-align: right;\">\n",
       "      <th></th>\n",
       "      <th>county</th>\n",
       "      <th>crime_rate_per_100000</th>\n",
       "    </tr>\n",
       "  </thead>\n",
       "  <tbody>\n",
       "    <tr>\n",
       "      <th>0</th>\n",
       "      <td>St. Louis city, MO</td>\n",
       "      <td>1791.995377</td>\n",
       "    </tr>\n",
       "    <tr>\n",
       "      <th>1</th>\n",
       "      <td>Crittenden County, AR</td>\n",
       "      <td>1754.914968</td>\n",
       "    </tr>\n",
       "    <tr>\n",
       "      <th>2</th>\n",
       "      <td>Alexander County, IL</td>\n",
       "      <td>1664.700485</td>\n",
       "    </tr>\n",
       "    <tr>\n",
       "      <th>3</th>\n",
       "      <td>Kenedy County, TX</td>\n",
       "      <td>1456.310680</td>\n",
       "    </tr>\n",
       "    <tr>\n",
       "      <th>4</th>\n",
       "      <td>De Soto Parish, LA</td>\n",
       "      <td>1447.402430</td>\n",
       "    </tr>\n",
       "  </tbody>\n",
       "</table>\n",
       "</div>"
      ],
      "text/plain": [
       "                  county  crime_rate_per_100000\n",
       "0     St. Louis city, MO            1791.995377\n",
       "1  Crittenden County, AR            1754.914968\n",
       "2   Alexander County, IL            1664.700485\n",
       "3      Kenedy County, TX            1456.310680\n",
       "4     De Soto Parish, LA            1447.402430"
      ]
     },
     "execution_count": 89,
     "metadata": {},
     "output_type": "execute_result"
    }
   ],
   "source": [
    "crime_csv = pd.read_csv(\"crime_data.csv\")\n",
    "crime_df = pd.DataFrame(crime_csv)\n",
    "crime_df = crime_df[[\"county_name\",\"crime_rate_per_100000\"]]\n",
    "crime_df= crime_df.rename(columns = {\"county_name\":\"county\"})\n",
    "crime_df.head()"
   ]
  },
  {
   "cell_type": "code",
   "execution_count": 90,
   "metadata": {},
   "outputs": [
    {
     "name": "stdout",
     "output_type": "stream",
     "text": [
      "              county  crime_rate_per_100000\n",
      "0      St. Louis, MO            1791.995377\n",
      "1     Crittenden, AR            1754.914968\n",
      "2      Alexander, IL            1664.700485\n",
      "3         Kenedy, TX            1456.310680\n",
      "4        De Soto, LA            1447.402430\n",
      "...              ...                    ...\n",
      "3131        Ohio, IN               0.000000\n",
      "3132      Newton, MS               0.000000\n",
      "3133     Jerauld, SD               0.000000\n",
      "3134    Cimarron, OK               0.000000\n",
      "3135    Lawrence, MS               0.000000\n",
      "\n",
      "[3136 rows x 2 columns]\n"
     ]
    }
   ],
   "source": [
    "crime_df['county'].replace(regex=True,inplace=True,to_replace=r' County',value=r'')\n",
    "crime_df['county'].replace(regex=True,inplace=True,to_replace=r' Parish',value=r'')\n",
    "crime_df['county'].replace(regex=True,inplace=True,to_replace=r' city',value=r'')\n",
    "crime_df['county'].replace(regex=True,inplace=True,to_replace=r' Borough',value=r'')\n",
    "crime_df['county'].replace(regex=True,inplace=True,to_replace=r' Census Area',value=r'')\n",
    "print(crime_df)"
   ]
  },
  {
   "cell_type": "code",
   "execution_count": 91,
   "metadata": {},
   "outputs": [],
   "source": [
    "county_raw = pd.read_excel(\"county_name.xls\", sheet_name = \"EDU01A\", usecols = \"A\")\n",
    "county = county_raw[~county_raw.Area_name.str.contains(\",\") == False]\n",
    "county = county.reset_index(drop = True)\n",
    "county = county.rename(columns={\"Area_name\": \"county\"})"
   ]
  },
  {
   "cell_type": "code",
   "execution_count": 92,
   "metadata": {},
   "outputs": [
    {
     "data": {
      "text/html": [
       "<div>\n",
       "<style scoped>\n",
       "    .dataframe tbody tr th:only-of-type {\n",
       "        vertical-align: middle;\n",
       "    }\n",
       "\n",
       "    .dataframe tbody tr th {\n",
       "        vertical-align: top;\n",
       "    }\n",
       "\n",
       "    .dataframe thead th {\n",
       "        text-align: right;\n",
       "    }\n",
       "</style>\n",
       "<table border=\"1\" class=\"dataframe\">\n",
       "  <thead>\n",
       "    <tr style=\"text-align: right;\">\n",
       "      <th></th>\n",
       "      <th>county</th>\n",
       "      <th>crime_rate_per_100000</th>\n",
       "    </tr>\n",
       "  </thead>\n",
       "  <tbody>\n",
       "    <tr>\n",
       "      <th>0</th>\n",
       "      <td>St. Louis, MO</td>\n",
       "      <td>1791.995377</td>\n",
       "    </tr>\n",
       "    <tr>\n",
       "      <th>1</th>\n",
       "      <td>St. Louis, MO</td>\n",
       "      <td>303.361945</td>\n",
       "    </tr>\n",
       "    <tr>\n",
       "      <th>2</th>\n",
       "      <td>Crittenden, AR</td>\n",
       "      <td>1754.914968</td>\n",
       "    </tr>\n",
       "    <tr>\n",
       "      <th>3</th>\n",
       "      <td>Alexander, IL</td>\n",
       "      <td>1664.700485</td>\n",
       "    </tr>\n",
       "    <tr>\n",
       "      <th>4</th>\n",
       "      <td>Kenedy, TX</td>\n",
       "      <td>1456.310680</td>\n",
       "    </tr>\n",
       "  </tbody>\n",
       "</table>\n",
       "</div>"
      ],
      "text/plain": [
       "           county  crime_rate_per_100000\n",
       "0   St. Louis, MO            1791.995377\n",
       "1   St. Louis, MO             303.361945\n",
       "2  Crittenden, AR            1754.914968\n",
       "3   Alexander, IL            1664.700485\n",
       "4      Kenedy, TX            1456.310680"
      ]
     },
     "execution_count": 92,
     "metadata": {},
     "output_type": "execute_result"
    }
   ],
   "source": [
    "crime_t_df = crime_df.merge(county, on=\"county\", how=\"inner\")\n",
    "crime_test_df.head()"
   ]
  },
  {
   "cell_type": "code",
   "execution_count": 93,
   "metadata": {},
   "outputs": [
    {
     "data": {
      "text/plain": [
       "3140"
      ]
     },
     "execution_count": 93,
     "metadata": {},
     "output_type": "execute_result"
    }
   ],
   "source": [
    "len(crime_test_df)"
   ]
  },
  {
   "cell_type": "code",
   "execution_count": 94,
   "metadata": {},
   "outputs": [],
   "source": [
    "crime_test_df.to_csv(\"test.csv\")"
   ]
  },
  {
   "cell_type": "code",
   "execution_count": null,
   "metadata": {},
   "outputs": [],
   "source": []
  },
  {
   "cell_type": "code",
   "execution_count": null,
   "metadata": {},
   "outputs": [],
   "source": []
  },
  {
   "cell_type": "code",
   "execution_count": null,
   "metadata": {},
   "outputs": [],
   "source": []
  },
  {
   "cell_type": "code",
   "execution_count": null,
   "metadata": {},
   "outputs": [],
   "source": []
  }
 ],
 "metadata": {
  "kernelspec": {
   "display_name": "Python 3",
   "language": "python",
   "name": "python3"
  },
  "language_info": {
   "codemirror_mode": {
    "name": "ipython",
    "version": 3
   },
   "file_extension": ".py",
   "mimetype": "text/x-python",
   "name": "python",
   "nbconvert_exporter": "python",
   "pygments_lexer": "ipython3",
   "version": "3.7.4"
  }
 },
 "nbformat": 4,
 "nbformat_minor": 2
}
