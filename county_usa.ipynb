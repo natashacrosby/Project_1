{
 "cells": [
  {
   "cell_type": "code",
   "execution_count": 15,
   "metadata": {},
   "outputs": [],
   "source": [
    "import matplotlib.pyplot as plt\n",
    "import pandas as pd\n",
    "import numpy as np\n",
    "import requests\n",
    "import time\n",
    "from pprint import pprint\n",
    "from urllib.error import HTTPError\n",
    "import random"
   ]
  },
  {
   "cell_type": "code",
   "execution_count": 16,
   "metadata": {},
   "outputs": [],
   "source": [
    "county_raw = pd.read_excel(\"county_name.xls\", sheet_name = \"EDU01A\", usecols = \"A\")"
   ]
  },
  {
   "cell_type": "code",
   "execution_count": 17,
   "metadata": {},
   "outputs": [
    {
     "name": "stdout",
     "output_type": "stream",
     "text": [
      "           Area_name\n",
      "0      UNITED STATES\n",
      "1            ALABAMA\n",
      "2        Autauga, AL\n",
      "3        Baldwin, AL\n",
      "4        Barbour, AL\n",
      "...              ...\n",
      "3193  Sweetwater, WY\n",
      "3194       Teton, WY\n",
      "3195       Uinta, WY\n",
      "3196    Washakie, WY\n",
      "3197      Weston, WY\n",
      "\n",
      "[3198 rows x 1 columns]\n"
     ]
    }
   ],
   "source": [
    "print(county_raw)"
   ]
  },
  {
   "cell_type": "code",
   "execution_count": 18,
   "metadata": {},
   "outputs": [],
   "source": [
    "county = county_raw[~county_raw.Area_name.str.contains(\",\") == False]"
   ]
  },
  {
   "cell_type": "code",
   "execution_count": 19,
   "metadata": {},
   "outputs": [
    {
     "name": "stdout",
     "output_type": "stream",
     "text": [
      "              county\n",
      "0        Autauga, AL\n",
      "1        Baldwin, AL\n",
      "2        Barbour, AL\n",
      "3           Bibb, AL\n",
      "4         Blount, AL\n",
      "...              ...\n",
      "3140  Sweetwater, WY\n",
      "3141       Teton, WY\n",
      "3142       Uinta, WY\n",
      "3143    Washakie, WY\n",
      "3144      Weston, WY\n",
      "\n",
      "[3145 rows x 1 columns]\n"
     ]
    }
   ],
   "source": [
    "county = county.reset_index(drop = True)\n",
    "county = county.rename(columns={\"Area_name\": \"county\"})\n",
    "print(county)"
   ]
  },
  {
   "cell_type": "code",
   "execution_count": 23,
   "metadata": {},
   "outputs": [
    {
     "name": "stdout",
     "output_type": "stream",
     "text": [
      "            county\n",
      "0       Jewell, KS\n",
      "1    Hillsdale, MI\n",
      "2         Polk, MN\n",
      "3        Wayne, NC\n",
      "4         Lyon, IA\n",
      "..             ...\n",
      "695      Keith, NE\n",
      "696     Itasca, MN\n",
      "697      Adams, IN\n",
      "698    Elliott, KY\n",
      "699     Marion, AL\n",
      "\n",
      "[700 rows x 1 columns]\n"
     ]
    }
   ],
   "source": [
    "random_counties = county.sample(n=700)\n",
    "random_counties = random_counties.reset_index(drop=True)\n",
    "print(random_counties)"
   ]
  },
  {
   "cell_type": "code",
   "execution_count": null,
   "metadata": {},
   "outputs": [],
   "source": [
    "#make sure when you compare to your data that you check length to be over 500"
   ]
  },
  {
   "cell_type": "code",
   "execution_count": null,
   "metadata": {},
   "outputs": [],
   "source": []
  }
 ],
 "metadata": {
  "kernelspec": {
   "display_name": "Python 3",
   "language": "python",
   "name": "python3"
  },
  "language_info": {
   "codemirror_mode": {
    "name": "ipython",
    "version": 3
   },
   "file_extension": ".py",
   "mimetype": "text/x-python",
   "name": "python",
   "nbconvert_exporter": "python",
   "pygments_lexer": "ipython3",
   "version": "3.7.4"
  }
 },
 "nbformat": 4,
 "nbformat_minor": 2
}
