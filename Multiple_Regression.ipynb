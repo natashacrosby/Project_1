{
 "cells": [
  {
   "cell_type": "code",
   "execution_count": 1,
   "metadata": {},
   "outputs": [],
   "source": [
    "import matplotlib.pyplot as plt\n",
    "import pandas as pd\n",
    "import numpy as np\n",
    "import statsmodels.api as sm\n",
    "from scipy.stats import linregress"
   ]
  },
  {
   "cell_type": "code",
   "execution_count": 2,
   "metadata": {},
   "outputs": [],
   "source": [
    "GDP_csv = pd.read_csv(\"GDP.clean\")\n",
    "GDP_df = pd.DataFrame(GDP_csv)\n",
    "\n",
    "home_ownership_csv = pd.read_csv(\"Homeownership_ACS.clean\")\n",
    "home_ownership_df = pd.DataFrame(home_ownership_csv)\n",
    "\n",
    "crime_csv = pd.read_csv(\"crime_data_clean.csv\")\n",
    "crime_df = pd.DataFrame(crime_csv)\n",
    "\n",
    "post_secondary_csv = pd.read_csv(\"post_sec_data_clean.csv\")\n",
    "post_secondary_df = pd.DataFrame(post_secondary_csv)\n"
   ]
  },
  {
   "cell_type": "code",
   "execution_count": null,
   "metadata": {},
   "outputs": [],
   "source": []
  }
 ],
 "metadata": {
  "kernelspec": {
   "display_name": "Python 3",
   "language": "python",
   "name": "python3"
  },
  "language_info": {
   "codemirror_mode": {
    "name": "ipython",
    "version": 3
   },
   "file_extension": ".py",
   "mimetype": "text/x-python",
   "name": "python",
   "nbconvert_exporter": "python",
   "pygments_lexer": "ipython3",
   "version": "3.6.8"
  }
 },
 "nbformat": 4,
 "nbformat_minor": 2
}
